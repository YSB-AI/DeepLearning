{
 "cells": [
  {
   "cell_type": "code",
   "execution_count": 1,
   "metadata": {
    "colab": {
     "base_uri": "https://localhost:8080/",
     "height": 595
    },
    "colab_type": "code",
    "executionInfo": {
     "elapsed": 11163,
     "status": "ok",
     "timestamp": 1561582739246,
     "user": {
      "displayName": "yaniel barbosa",
      "photoUrl": "https://lh3.googleusercontent.com/-JlWhURV1zuQ/AAAAAAAAAAI/AAAAAAAAADQ/hOOCIumFYTE/s64/photo.jpg",
      "userId": "13057870575473273651"
     },
     "user_tz": -60
    },
    "id": "NvL8Lqk_DX60",
    "outputId": "461236cc-495f-4e04-fbb1-af7f2aa38c58"
   },
   "outputs": [
    {
     "name": "stdout",
     "output_type": "stream",
     "text": [
      "[name: \"/device:CPU:0\"\n",
      "device_type: \"CPU\"\n",
      "memory_limit: 268435456\n",
      "locality {\n",
      "}\n",
      "incarnation: 8546395664580744920\n",
      ", name: \"/device:GPU:0\"\n",
      "device_type: \"GPU\"\n",
      "memory_limit: 5771296768\n",
      "locality {\n",
      "  bus_id: 1\n",
      "  links {\n",
      "  }\n",
      "}\n",
      "incarnation: 9609792433368906519\n",
      "physical_device_desc: \"device: 0, name: GeForce RTX 3060 Ti, pci bus id: 0000:2b:00.0, compute capability: 8.6\"\n",
      "]\n"
     ]
    }
   ],
   "source": [
    "import numpy as np\n",
    "import pandas as pd\n",
    "import tensorflow.compat.v1 as tf\n",
    "from tensorflow.keras.preprocessing.text import Tokenizer\n",
    "from tensorflow.keras.models import Model,Sequential\n",
    "from tensorflow.keras.layers import Dense, Activation, Dropout, Input, LSTM, Embedding,Flatten\n",
    "from tensorflow.keras.initializers import Constant\n",
    "from tensorflow.keras.callbacks import ModelCheckpoint\n",
    "from tensorflow.keras.utils import to_categorical\n",
    "from tensorflow.keras.preprocessing.sequence import pad_sequences \n",
    "from tensorflow.keras.optimizers import Adam\n",
    "\n",
    "import os\n",
    "import nltk\n",
    "from nltk.corpus import stopwords\n",
    "from nltk.tokenize import word_tokenize\n",
    "import emoji\n",
    "from livelossplot.inputs.tf_keras import PlotLossesCallback\n",
    "\n",
    "from tensorflow.python.client import device_lib\n",
    "print(device_lib.list_local_devices())"
   ]
  },
  {
   "cell_type": "code",
   "execution_count": 2,
   "metadata": {},
   "outputs": [
    {
     "name": "stdout",
     "output_type": "stream",
     "text": [
      "Num GPUs Available:  1\n",
      "1 Physical GPUs, 1 Logical GPU\n"
     ]
    }
   ],
   "source": [
    "print(\"Num GPUs Available: \", len(tf.config.experimental.list_physical_devices('GPU')))\n",
    "gpus = tf.config.experimental.list_physical_devices('GPU')\n",
    "if gpus:\n",
    "    # Restrict TensorFlow to only use the first GPU\n",
    "    try:\n",
    "        tf.config.experimental.set_visible_devices(gpus[0], 'GPU')\n",
    "        tf.config.experimental.set_memory_growth(gpus[0], True)\n",
    "        #tf.config.experimental.set_visible_devices([], 'GPU')\n",
    "        #tf.debugging.set_log_device_placement(True)\n",
    "        logical_gpus = tf.config.experimental.list_logical_devices('GPU')\n",
    "        print(len(gpus), \"Physical GPUs,\", len(logical_gpus), \"Logical GPU\")\n",
    "    except RuntimeError as e:\n",
    "        # Visible devices must be set before GPUs have been initialized\n",
    "        print(e)\n",
    "        "
   ]
  },
  {
   "cell_type": "code",
   "execution_count": 3,
   "metadata": {},
   "outputs": [],
   "source": [
    "emb_dim=50\n",
    "batchsize=32\n",
    "stepsize = 10\n",
    "classN=5\n",
    "map_fn = tf.map_fn"
   ]
  },
  {
   "cell_type": "code",
   "execution_count": 4,
   "metadata": {},
   "outputs": [],
   "source": [
    "def get_max_sentence_size(allText):\n",
    "    maxWords=0\n",
    "    \n",
    "    for line in allText:\n",
    "        if(maxWords<len(line.split())):\n",
    "            maxWords = len(line.split())\n",
    "    return maxWords"
   ]
  },
  {
   "cell_type": "code",
   "execution_count": 5,
   "metadata": {},
   "outputs": [],
   "source": [
    "def get_embeddings(word_index,fname = \"..\\\\..\\\\..\\\\glove.6B\\\\glove.6B.50d.txt\"):\n",
    "    embeddings_matrix = np.zeros((vocab_len,emb_dim))\n",
    "    f= open(fname, encoding=\"utf8\")\n",
    "    for line in f:\n",
    "        values = line.split()\n",
    "        if(values [0] in word_index):\n",
    "            word = values [0]\n",
    "            coefs = [float(i) for i in values[1:]]\n",
    "            if(word in word_index):\n",
    "                embeddings_matrix[word_index[word],:] = coefs\n",
    "\n",
    "    f.close()\n",
    "    \n",
    "    return embeddings_matrix"
   ]
  },
  {
   "cell_type": "code",
   "execution_count": 6,
   "metadata": {},
   "outputs": [],
   "source": [
    "def tokenize_data(allText):\n",
    "    \"\"\"****************************************************************************\n",
    "    Convert the alls sentences into tokenized vector to pass to embedding layer\n",
    "    ******************************************************************************\"\"\"\n",
    "    tokenizer = Tokenizer(len(allText))\n",
    "    tokenizer.fit_on_texts(allText)\n",
    "    sequences = tokenizer.texts_to_sequences(allText) # All the corpus text integer index\n",
    "    word_index = tokenizer.word_index\n",
    "    print(\"sequences  : \"+str((sequences)))\n",
    "    \n",
    "    vocab_len = len(word_index) + 1  \n",
    "    \n",
    "    return tokenizer, vocab_len,sequences,word_index\n",
    "    "
   ]
  },
  {
   "cell_type": "code",
   "execution_count": 7,
   "metadata": {},
   "outputs": [],
   "source": [
    "def create_trainingdev_set(sequences,vocab_len,df):\n",
    "    \"\"\"****************************************************************************\n",
    "    Create X - input\n",
    "    ******************************************************************************\"\"\"\n",
    "    x = pad_sequences(sequences) #windows before and after the target word.\n",
    "    print(\"vocab_len : \"+str(vocab_len))\n",
    "\n",
    "\n",
    "    \"\"\"****************************************************************************\n",
    "    Create Y - Output\n",
    "    ******************************************************************************\"\"\"\n",
    "    y = to_categorical( df.iloc[:, 1], num_classes=5)  \n",
    "    \n",
    "    return x,y"
   ]
  },
  {
   "cell_type": "code",
   "execution_count": 8,
   "metadata": {
    "colab": {},
    "colab_type": "code",
    "id": "CBl11TrADX6-"
   },
   "outputs": [
    {
     "name": "stdout",
     "output_type": "stream",
     "text": [
      "allText : ['i am proud of your achievements', 'it is the worst day in my life', 'miss you so much', 'food is life', 'i love you mum', 'stop saying bullshit', 'congratulations on your acceptance', 'the assignment is too long ', 'i want to go play', 'she did not answer my text ', 'your stupidity has no limit', 'how many points did he score', 'my algorithm performs poorly', 'i got approved', 'stop shouting at me', 'sounds like a fun plan ha ha', 'no one likes him', 'the game just finished', 'i will celebrate soon', 'so sad you are not coming', 'she is my dearest love', 'good job', 'it was funny lol', 'candy is life ', 'the chicago cubs won again', 'i am hungry', 'i am so excited to see you after so long', 'you did well on you exam', 'lets brunch some day', 'he is so cute', 'how dare you ask that', 'do you want to join me for dinner ', 'i said yes', 'she is attractive', 'you suck', 'she smiles a lot', 'he is laughing', 'she takes forever to get ready ', 'french macaroon is so tasty', 'we made it', 'i am excited', 'i adore my dogs', 'congratulations', 'this girl was mean', 'you two are cute', 'my code is working but the grader gave me zero', 'this joke is killing me haha', 'do you like pizza ', 'you got a down grade', 'i missed you', 'i think i will end up alone', 'i got humiliated by my sister', 'you are awful', 'i cooked meat', 'this is so funny', 'lets exercise', 'he is the best player', 'i am going to the stadium', 'you are incredibly intelligent and talented', 'stop shouting at me', 'who is your favorite player', 'i like you a lot', 'i miss him', 'my dog just had a few puppies', 'i hate him', 'i want chinese food', 'cookies are good', 'her smile is so charming', 'bravo for the announcement it got a lot of traction', 'she plays baseball', 'he did an amazing job', 'the baby is adorable', 'i was waiting for her for two hours ', 'funny', 'i like it when people smile', 'i love dogs', 'they are so kind and friendly', 'so bad that you cannot come with us', 'he likes baseball', 'i am so impressed by your dedication to this project', 'i am at the baseball game', 'bravo', 'what a fun moment', 'i want to have sushi for dinner', 'i am very disappointed', 'he can not do anything', 'lol', 'lets have food together', 'she is so cute', 'miss you my dear', 'i am looking for a date', 'i am frustrated', 'i lost my wallet', 'you failed the midterm', 'ha ha ha it was so funny', 'do you want to give me a hug', 'who is playing in the final', 'she is happy', 'you are not qualified for this position', 'i love my dad', 'this guy was such a joke', 'good joke', 'this specialization is great', 'you could not solve it', 'i am so happy for you', 'congrats on the new job', 'i am proud of you forever', 'i want to eat', 'that catcher sucks ', 'the first base man got the ball', 'this is bad', 'you did not do your homework', 'i will have a cheese cake', 'do you have a ball', 'the lectures are great though ', 'are you down for baseball this afternoon', 'what are the rules of the game', 'i am always working', 'where is the stadium', 'she is the cutest person i have ever seen', 'vegetables are healthy', 'he is handsome', 'too bad that you were not here', 'you are a loser', 'i love indian food', 'who is down for a restaurant', 'he had to make a home run', 'i am ordering food', 'what is wrong with you', 'i love you', 'great job']\n"
     ]
    }
   ],
   "source": [
    "\n",
    "def read_dataset():\n",
    "\n",
    "    df=pd.read_csv(\".\\\\train_emoji.csv\") \n",
    "\n",
    "    allText=df.iloc[:, 0].tolist()\n",
    "    for i in range(len(allText)):\n",
    "        allText[i] = allText[i].lower()\n",
    "\n",
    "    print(\"allText : \"+str(allText))\n",
    "\n",
    "    return allText,df\n",
    "\n",
    "allText,df = read_dataset()"
   ]
  },
  {
   "cell_type": "code",
   "execution_count": 9,
   "metadata": {
    "colab": {
     "base_uri": "https://localhost:8080/",
     "height": 156
    },
    "colab_type": "code",
    "executionInfo": {
     "elapsed": 12336,
     "status": "ok",
     "timestamp": 1561582740561,
     "user": {
      "displayName": "yaniel barbosa",
      "photoUrl": "https://lh3.googleusercontent.com/-JlWhURV1zuQ/AAAAAAAAAAI/AAAAAAAAADQ/hOOCIumFYTE/s64/photo.jpg",
      "userId": "13057870575473273651"
     },
     "user_tz": -60
    },
    "id": "0tgRaa9sDX7E",
    "outputId": "25dba5e7-de23-45b4-f9b2-7cc319018647"
   },
   "outputs": [
    {
     "name": "stdout",
     "output_type": "stream",
     "text": [
      "sequences  : [[1, 6, 52, 28, 17, 82], [15, 3, 4, 83, 53, 54, 9, 34], [35, 2, 7, 84], [22, 3, 34], [1, 18, 2, 85], [36, 86, 87], [55, 37, 17, 88], [4, 89, 3, 56, 57], [1, 19, 10, 90, 91], [12, 23, 16, 92, 9, 93], [17, 94, 95, 58, 96], [59, 97, 98, 23, 13, 99], [9, 100, 101, 102], [1, 24, 103], [36, 60, 38, 20], [104, 29, 5, 61, 105, 25, 25], [58, 106, 62, 39], [4, 40, 63, 107], [1, 41, 108, 109], [7, 110, 2, 8, 16, 111], [12, 3, 9, 112, 18], [42, 30], [15, 26, 31, 64], [113, 3, 34], [4, 114, 115, 116, 117], [1, 6, 118], [1, 6, 7, 65, 10, 119, 2, 120, 7, 57], [2, 23, 121, 37, 2, 122], [43, 123, 124, 53], [13, 3, 7, 44], [59, 125, 2, 126, 32], [21, 2, 19, 10, 127, 20, 11, 66], [1, 128, 129], [12, 3, 130], [2], [12, 5, 45], [13, 3], [12, 67, 10], [3, 7], [15], [1, 6, 65], [1, 9, 68], [55], [14, 26], [2, 69, 8, 44], [9, 3, 70, 4, 20], [14, 46, 3, 20], [21, 2, 29], [2, 24, 5, 47], [1, 2], [1, 1, 41], [1, 24, 71, 9], [2, 8], [1], [14, 3, 7, 31], [43], [13, 3, 4, 72], [1, 6, 10, 4, 73], [2, 8, 74], [36, 60, 38, 20], [48, 3, 17, 72], [1, 29, 2, 5, 45], [1, 35, 39], [9, 63, 75, 5], [1, 39], [1, 19, 22], [8, 42], [76, 77, 3, 7], [78, 11, 4, 15, 24, 5, 45, 28], [12, 33], [13, 23, 30], [4, 3], [1, 26, 11, 76, 11, 69], [31], [1, 29, 15, 77], [1, 18, 68], [8, 7, 74], [7, 49, 32, 2, 79], [13, 62, 33], [1, 6, 7, 71, 17, 10, 14], [1, 6, 38, 4, 33, 40], [78], [50, 5, 61], [1, 19, 10, 27, 11, 66], [1, 6], [13, 16, 21], [64], [43, 27, 22], [12, 3, 7, 44], [35, 2, 9], [1, 6, 11, 5], [1, 6], [1, 9], [2, 4], [25, 25, 25, 15, 26, 7, 31], [21, 2, 19, 10, 20, 5], [48, 3, 54, 4], [12, 3, 80], [2, 8, 16, 11, 14], [1, 18, 9], [14, 26, 5, 46], [42, 46], [14, 3, 51], [2, 16, 15], [1, 6, 7, 80, 11, 2], [37, 4, 30], [1, 6, 52, 28, 2, 67], [1, 19, 10], [32], [4, 24, 4, 81], [14, 3, 49], [2, 23, 16, 21, 17], [1, 41, 27, 5], [21, 2, 27, 5, 81], [4, 8, 51], [8, 2, 47, 11, 33, 14], [50, 8, 4, 28, 4, 40], [1, 6, 70], [3, 4, 73], [12, 3, 4, 1, 27], [8], [13, 3], [56, 49, 32, 2, 16], [2, 8, 5], [1, 18, 22], [48, 3, 47, 11, 5], [13, 75, 10, 5], [1, 6, 22], [50, 3, 79, 2], [1, 18, 2], [51, 30]]\n",
      "vocab_len : 259\n"
     ]
    }
   ],
   "source": [
    "tokenizer, vocab_len,sequences,word_index = tokenize_data(allText)\n",
    "x, y= create_trainingdev_set(sequences,vocab_len,df)\n",
    "maxWords=get_max_sentence_size(allText)\n",
    "embeddings_matrix=get_embeddings(word_index)\n",
    "\n"
   ]
  },
  {
   "cell_type": "code",
   "execution_count": 10,
   "metadata": {},
   "outputs": [
    {
     "name": "stdout",
     "output_type": "stream",
     "text": [
      "allTexti am proud of your achievements\n",
      "x 1º line [ 0  0  0  0  1  6 52 28 17 82]\n",
      "y [0. 0. 1. 0. 0.]\n"
     ]
    }
   ],
   "source": [
    "print(\"allText\"+str(allText[0]))\n",
    "print(\"x 1º line \"+str(x[0]))\n",
    "print(\"y \"+str(y[0])) \n"
   ]
  },
  {
   "cell_type": "code",
   "execution_count": 11,
   "metadata": {
    "colab": {
     "base_uri": "https://localhost:8080/",
     "height": 717
    },
    "colab_type": "code",
    "executionInfo": {
     "elapsed": 13453,
     "status": "ok",
     "timestamp": 1561582741802,
     "user": {
      "displayName": "yaniel barbosa",
      "photoUrl": "https://lh3.googleusercontent.com/-JlWhURV1zuQ/AAAAAAAAAAI/AAAAAAAAADQ/hOOCIumFYTE/s64/photo.jpg",
      "userId": "13057870575473273651"
     },
     "user_tz": -60
    },
    "id": "193eGji-DX7I",
    "outputId": "2e659f4c-421f-4749-ee02-2ba87c226974"
   },
   "outputs": [
    {
     "name": "stdout",
     "output_type": "stream",
     "text": [
      "Model: \"model\"\n",
      "_________________________________________________________________\n",
      "Layer (type)                 Output Shape              Param #   \n",
      "=================================================================\n",
      "input_1 (InputLayer)         [(None, 10)]              0         \n",
      "_________________________________________________________________\n",
      "emb_layer (Embedding)        (None, 10, 50)            12950     \n",
      "_________________________________________________________________\n",
      "lstm (LSTM)                  (None, 10, 64)            29440     \n",
      "_________________________________________________________________\n",
      "lstm_1 (LSTM)                (None, 32)                12416     \n",
      "_________________________________________________________________\n",
      "dense (Dense)                (None, 5)                 165       \n",
      "_________________________________________________________________\n",
      "activation (Activation)      (None, 5)                 0         \n",
      "=================================================================\n",
      "Total params: 54,971\n",
      "Trainable params: 42,021\n",
      "Non-trainable params: 12,950\n",
      "_________________________________________________________________\n"
     ]
    }
   ],
   "source": [
    "sentence_indices = Input((maxWords,), dtype='int32')\n",
    "embeddings = Embedding(vocab_len, emb_dim, weights=[embeddings_matrix],name =\"emb_layer\", trainable=False)(sentence_indices)     \n",
    "X = LSTM(64,return_sequences=True)(embeddings)\n",
    "X = LSTM(32,return_sequences=False)(X)\n",
    "X = Dense(classN)(X)\n",
    "X = Activation('softmax')(X)\n",
    "\n",
    "# Create Model instance which converts sentence_indices into X.\n",
    "model = Model(inputs=sentence_indices,outputs=X)\n",
    "model.summary()\n",
    "opt = Adam(learning_rate=0.0001)\n",
    "model.compile(loss='categorical_crossentropy', optimizer=opt, metrics =['accuracy'])"
   ]
  },
  {
   "cell_type": "code",
   "execution_count": 13,
   "metadata": {
    "colab": {
     "base_uri": "https://localhost:8080/",
     "height": 34
    },
    "colab_type": "code",
    "executionInfo": {
     "elapsed": 14047,
     "status": "ok",
     "timestamp": 1561582742443,
     "user": {
      "displayName": "yaniel barbosa",
      "photoUrl": "https://lh3.googleusercontent.com/-JlWhURV1zuQ/AAAAAAAAAAI/AAAAAAAAADQ/hOOCIumFYTE/s64/photo.jpg",
      "userId": "13057870575473273651"
     },
     "user_tz": -60
    },
    "id": "nKB_AY5_DX7N",
    "outputId": "67fc4dda-204c-4d63-a89d-2a478acac045"
   },
   "outputs": [
    {
     "data": {
      "image/png": "[encoded data removed]",
      "text/plain": [
       "<Figure size 864x576 with 2 Axes>"
      ]
     },
     "metadata": {
      "needs_background": "light"
     },
     "output_type": "display_data"
    },
    {
     "name": "stdout",
     "output_type": "stream",
     "text": [
      "accuracy\n",
      "\taccuracy         \t (min:    0.183, max:    0.924, cur:    0.924)\n",
      "Loss\n",
      "\tloss             \t (min:    0.374, max:    1.629, cur:    0.377)\n"
     ]
    },
    {
     "data": {
      "text/plain": [
       "<tensorflow.python.keras.callbacks.History at 0x18b52a92940>"
      ]
     },
     "execution_count": 13,
     "metadata": {},
     "output_type": "execute_result"
    }
   ],
   "source": [
    "\n",
    "model.fit(x, y, \n",
    "          batch_size=32, \n",
    "          epochs=500, \n",
    "          shuffle=True,\n",
    "          callbacks=[PlotLossesCallback()]\n",
    "         )"
   ]
  },
  {
   "cell_type": "code",
   "execution_count": 14,
   "metadata": {
    "colab": {},
    "colab_type": "code",
    "id": "ySMgYZbFDX7d"
   },
   "outputs": [],
   "source": [
    "\"\"\"*****************************************************LOOK AT THIS ************************************************\"\"\"\n",
    "emoji_dictionary = {\"0\": \"\\u2764\\uFE0F\",    # :heart: prints a black instead of red heart depending on the font\n",
    "                    \"1\": \":baseball:\",\n",
    "                    \"2\": \":smile:\",\n",
    "                    \"3\": \":disappointed:\",\n",
    "                    \"4\": \":fork_and_knife:\"}\n",
    "\n",
    "def label_to_emoji(label):\n",
    "    \"\"\"\n",
    "    Converts a label (int or string) into the corresponding emoji code (string) ready to be printed\n",
    "    \"\"\"\n",
    "    return emoji.emojize(emoji_dictionary[str(label)], use_aliases=True)\n",
    "              \n",
    "    \n",
    "def print_predictions(X, pred):\n",
    "    for i in range(len(X)):\n",
    "        print(X[i], label_to_emoji(int(pred[i])))\n",
    "        \n",
    "\"\"\"******************************************************************************************************\"\"\"\n",
    "def sampling():\n",
    "    testPath =\"./test.csv\"\n",
    "    df=pd.read_csv(testPath) \n",
    "    allText=df.iloc[:, 0].tolist()\n",
    "    for i in range(len(allText)):\n",
    "        allText[i] = allText[i].lower().replace(\"\\t\",\"\").split()\n",
    "    \n",
    "    xx = allText\n",
    "    sequences = tokenizer.texts_to_sequences(xx)\n",
    "    print(\"sequences : \"+str(sequences))\n",
    "    \n",
    "    X_train = pad_sequences(sequences, maxWords)\n",
    "    yhat =model.predict(X_train)\n",
    "    \n",
    "    y_train = to_categorical(df.iloc[:, 1], num_classes=5)  \n",
    "    print(\"yhat shape\"+str(yhat.shape))\n",
    "    print(\"y shape\"+str(y_train.shape))\n",
    "    print(\"x : \"+str(xx))\n",
    "    \n",
    "    print_predictions(xx,np.argmax(yhat, axis=1))\n",
    "\n",
    "    \n",
    "\n"
   ]
  },
  {
   "cell_type": "code",
   "execution_count": 15,
   "metadata": {
    "colab": {
     "base_uri": "https://localhost:8080/",
     "height": 187
    },
    "colab_type": "code",
    "executionInfo": {
     "elapsed": 15474,
     "status": "ok",
     "timestamp": 1561582743898,
     "user": {
      "displayName": "yaniel barbosa",
      "photoUrl": "https://lh3.googleusercontent.com/-JlWhURV1zuQ/AAAAAAAAAAI/AAAAAAAAADQ/hOOCIumFYTE/s64/photo.jpg",
      "userId": "13057870575473273651"
     },
     "user_tz": -60
    },
    "id": "mebJWLtxDX7l",
    "outputId": "53d69c67-1e6f-4f8f-8c09-817fc8ea8dd3"
   },
   "outputs": [
    {
     "name": "stdout",
     "output_type": "stream",
     "text": [
      "sequences : [[13, 23, 16, 92], [13, 24, 5], [12, 24, 20, 5], [25, 25, 25, 15, 26, 7, 31], [13, 3, 5, 42], [1, 6], [75, 5, 66], [3, 4, 22], [36, 14, 46, 25, 25, 25], [3, 4, 81], [3], [14, 3, 79, 20], [8, 2], [90, 91, 33], [14, 3, 16, 70], [3], [11, 5], [36, 20], [11, 66], [1, 18], [2, 9, 53], [1], [12, 3, 5], [8, 2, 49], [1, 6], [20, 4, 81], [9, 3, 4, 18, 28, 9, 34], [17, 40], [53, 3], [1, 35, 2, 7, 84], [4, 81], [9, 34, 3, 7], [12, 128, 129], [41, 2, 9], [13, 121], [79, 20], [1, 6, 118], [119, 2, 38, 4], [1, 29, 10], [1, 41], [1, 29, 17], [1, 35, 76], [50, 3, 17, 33, 40], [42, 30], [1, 18, 2, 10, 4, 74], [50, 2, 23, 26], [25, 25, 25, 64], [1, 19, 10, 46], [90], [117], [3, 1, 27], [2, 8, 14], [42, 46], [2, 14], [1, 23, 16, 27]]\n",
      "yhat shape(55, 5)\n",
      "y shape(55, 5)\n",
      "x : [['he', 'did', 'not', 'answer'], ['he', 'got', 'a', 'raise'], ['she', 'got', 'me', 'a', 'present'], ['ha', 'ha', 'ha', 'it', 'was', 'so', 'funny'], ['he', 'is', 'a', 'good', 'friend'], ['i', 'am', 'upset'], ['we', 'had', 'such', 'a', 'lovely', 'dinner', 'tonight'], ['where', 'is', 'the', 'food'], ['stop', 'making', 'this', 'joke', 'ha', 'ha', 'ha'], ['where', 'is', 'the', 'ball'], ['work', 'is', 'hard'], ['this', 'girl', 'is', 'messing', 'with', 'me'], ['are', 'you', 'serious'], ['let', 'us', 'go', 'play', 'baseball'], ['this', 'stupid', 'grader', 'is', 'not', 'working'], ['work', 'is', 'horrible'], ['congratulation', 'for', 'having', 'a', 'baby'], ['stop', 'pissing', 'me', 'off'], ['any', 'suggestions', 'for', 'dinner'], ['i', 'love', 'taking', 'breaks'], ['you', 'brighten', 'my', 'day'], ['i', 'boiled', 'rice'], ['she', 'is', 'a', 'bully'], ['why', 'are', 'you', 'feeling', 'bad'], ['i', 'am', 'upset'], ['give', 'me', 'the', 'ball'], ['my', 'grandmother', 'is', 'the', 'love', 'of', 'my', 'life'], ['enjoy', 'your', 'game'], ['valentine', 'day', 'is', 'near'], ['i', 'miss', 'you', 'so', 'much'], ['throw', 'the', 'ball'], ['my', 'life', 'is', 'so', 'boring'], ['she', 'said', 'yes'], ['will', 'you', 'be', 'my', 'valentine'], ['he', 'can', 'pitch', 'really', 'well'], ['dance', 'with', 'me'], ['i', 'am', 'hungry'], ['see', 'you', 'at', 'the', 'restaurant'], ['i', 'like', 'to', 'laugh'], ['i', 'will', 'run'], ['i', 'like', 'your', 'jacket'], ['i', 'miss', 'her'], ['what', 'is', 'your', 'favorite', 'baseball', 'game'], ['good', 'job'], ['i', 'love', 'you', 'to', 'the', 'stars', 'and', 'back'], ['what', 'you', 'did', 'was', 'awesome'], ['ha', 'ha', 'ha', 'lol'], ['i', 'want', 'to', 'joke'], ['go', 'away'], ['yesterday', 'we', 'lost', 'again'], ['family', 'is', 'all', 'i', 'have'], ['you', 'are', 'failing', 'this', 'exercise'], ['good', 'joke'], ['you', 'deserve', 'this', 'prize'], ['i', 'did', 'not', 'have', 'breakfast']]\n",
      "['he', 'did', 'not', 'answer'] 😞\n",
      "['he', 'got', 'a', 'raise'] ⚾\n",
      "['she', 'got', 'me', 'a', 'present'] ❤️\n",
      "['ha', 'ha', 'ha', 'it', 'was', 'so', 'funny'] 😄\n",
      "['he', 'is', 'a', 'good', 'friend'] 😄\n",
      "['i', 'am', 'upset'] 😞\n",
      "['we', 'had', 'such', 'a', 'lovely', 'dinner', 'tonight'] 😄\n",
      "['where', 'is', 'the', 'food'] 🍴\n",
      "['stop', 'making', 'this', 'joke', 'ha', 'ha', 'ha'] 😄\n",
      "['where', 'is', 'the', 'ball'] ⚾\n",
      "['work', 'is', 'hard'] 😄\n",
      "['this', 'girl', 'is', 'messing', 'with', 'me'] 😄\n",
      "['are', 'you', 'serious'] 🍴\n",
      "['let', 'us', 'go', 'play', 'baseball'] ⚾\n",
      "['this', 'stupid', 'grader', 'is', 'not', 'working'] 😞\n",
      "['work', 'is', 'horrible'] 😄\n",
      "['congratulation', 'for', 'having', 'a', 'baby'] 😄\n",
      "['stop', 'pissing', 'me', 'off'] 😞\n",
      "['any', 'suggestions', 'for', 'dinner'] 😄\n",
      "['i', 'love', 'taking', 'breaks'] 😞\n",
      "['you', 'brighten', 'my', 'day'] 😞\n",
      "['i', 'boiled', 'rice'] 😞\n",
      "['she', 'is', 'a', 'bully'] ❤️\n",
      "['why', 'are', 'you', 'feeling', 'bad'] 😞\n",
      "['i', 'am', 'upset'] 😞\n",
      "['give', 'me', 'the', 'ball'] 😞\n",
      "['my', 'grandmother', 'is', 'the', 'love', 'of', 'my', 'life'] 😞\n",
      "['enjoy', 'your', 'game'] 😞\n",
      "['valentine', 'day', 'is', 'near'] 😄\n",
      "['i', 'miss', 'you', 'so', 'much'] ❤️\n",
      "['throw', 'the', 'ball'] ⚾\n",
      "['my', 'life', 'is', 'so', 'boring'] ❤️\n",
      "['she', 'said', 'yes'] 😄\n",
      "['will', 'you', 'be', 'my', 'valentine'] 🍴\n",
      "['he', 'can', 'pitch', 'really', 'well'] 😄\n",
      "['dance', 'with', 'me'] 😄\n",
      "['i', 'am', 'hungry'] 🍴\n",
      "['see', 'you', 'at', 'the', 'restaurant'] ⚾\n",
      "['i', 'like', 'to', 'laugh'] 🍴\n",
      "['i', 'will', 'run'] 😞\n",
      "['i', 'like', 'your', 'jacket'] ❤️\n",
      "['i', 'miss', 'her'] ❤️\n",
      "['what', 'is', 'your', 'favorite', 'baseball', 'game'] 😞\n",
      "['good', 'job'] 😄\n",
      "['i', 'love', 'you', 'to', 'the', 'stars', 'and', 'back'] ❤️\n",
      "['what', 'you', 'did', 'was', 'awesome'] 😞\n",
      "['ha', 'ha', 'ha', 'lol'] 😄\n",
      "['i', 'want', 'to', 'joke'] 🍴\n",
      "['go', 'away'] 😄\n",
      "['yesterday', 'we', 'lost', 'again'] 😄\n",
      "['family', 'is', 'all', 'i', 'have'] 😞\n",
      "['you', 'are', 'failing', 'this', 'exercise'] 😞\n",
      "['good', 'joke'] 😄\n",
      "['you', 'deserve', 'this', 'prize'] 😞\n",
      "['i', 'did', 'not', 'have', 'breakfast'] 😞\n"
     ]
    }
   ],
   "source": [
    "sampling()"
   ]
  },
  {
   "cell_type": "code",
   "execution_count": null,
   "metadata": {
    "colab": {},
    "colab_type": "code",
    "id": "yioI1kwdDX7s"
   },
   "outputs": [],
   "source": []
  },
  {
   "cell_type": "code",
   "execution_count": null,
   "metadata": {
    "colab": {},
    "colab_type": "code",
    "id": "bYcu3bBrDX7y"
   },
   "outputs": [],
   "source": []
  },
  {
   "cell_type": "code",
   "execution_count": null,
   "metadata": {
    "colab": {},
    "colab_type": "code",
    "id": "48SsXDK8KY9R"
   },
   "outputs": [],
   "source": []
  },
  {
   "cell_type": "code",
   "execution_count": null,
   "metadata": {
    "colab": {},
    "colab_type": "code",
    "id": "EDk4nEleDX7R"
   },
   "outputs": [],
   "source": []
  },
  {
   "cell_type": "code",
   "execution_count": null,
   "metadata": {
    "colab": {},
    "colab_type": "code",
    "id": "Ky1labroDX73"
   },
   "outputs": [],
   "source": []
  },
  {
   "cell_type": "code",
   "execution_count": null,
   "metadata": {
    "colab": {},
    "colab_type": "code",
    "id": "8M0rp1J6DX77"
   },
   "outputs": [],
   "source": []
  },
  {
   "cell_type": "code",
   "execution_count": null,
   "metadata": {
    "colab": {},
    "colab_type": "code",
    "id": "BicNCTFxDX7Y"
   },
   "outputs": [],
   "source": []
  },
  {
   "cell_type": "code",
   "execution_count": null,
   "metadata": {
    "colab": {},
    "colab_type": "code",
    "id": "VubP2PgPDX7_"
   },
   "outputs": [],
   "source": []
  },
  {
   "cell_type": "code",
   "execution_count": null,
   "metadata": {
    "colab": {},
    "colab_type": "code",
    "id": "CfP6UgqTDX8F"
   },
   "outputs": [],
   "source": []
  },
  {
   "cell_type": "code",
   "execution_count": null,
   "metadata": {
    "colab": {},
    "colab_type": "code",
    "id": "vmgAuPvwDX8J"
   },
   "outputs": [],
   "source": []
  },
  {
   "cell_type": "code",
   "execution_count": null,
   "metadata": {
    "colab": {},
    "colab_type": "code",
    "id": "pLftlTXCDX8O"
   },
   "outputs": [],
   "source": []
  },
  {
   "cell_type": "code",
   "execution_count": null,
   "metadata": {
    "colab": {},
    "colab_type": "code",
    "id": "gJ4YhHfsDX8S"
   },
   "outputs": [],
   "source": []
  },
  {
   "cell_type": "code",
   "execution_count": null,
   "metadata": {
    "colab": {},
    "colab_type": "code",
    "id": "CaO0juvsDX8W"
   },
   "outputs": [],
   "source": []
  },
  {
   "cell_type": "code",
   "execution_count": null,
   "metadata": {
    "colab": {},
    "colab_type": "code",
    "id": "0QuU_sHatBV7"
   },
   "outputs": [],
   "source": []
  }
 ],
 "metadata": {
  "accelerator": "GPU",
  "colab": {
   "collapsed_sections": [],
   "name": "SentimentClassification.ipynb",
   "provenance": [
    {
     "file_id": "1DUXYgOxu2qAOP0B7VnjYFK0z4wXoDMsa",
     "timestamp": 1560792666082
    },
    {
     "file_id": "1MBv0UvhVnj2zvRWBQLik9hC9Fgm-pyR-",
     "timestamp": 1560067092399
    }
   ]
  },
  "kernelspec": {
   "display_name": "Python 3",
   "language": "python",
   "name": "python3"
  },
  "language_info": {
   "codemirror_mode": {
    "name": "ipython",
    "version": 3
   },
   "file_extension": ".py",
   "mimetype": "text/x-python",
   "name": "python",
   "nbconvert_exporter": "python",
   "pygments_lexer": "ipython3",
   "version": "3.8.8"
  }
 },
 "nbformat": 4,
 "nbformat_minor": 4
}
