{
 "cells": [
  {
   "cell_type": "code",
   "execution_count": 1,
   "id": "d3113c2c-0a1b-4fbf-b771-7d8ea4377317",
   "metadata": {},
   "outputs": [
    {
     "name": "stderr",
     "output_type": "stream",
     "text": [
      "2024-07-09 05:58:44.410259: I tensorflow/core/util/port.cc:113] oneDNN custom operations are on. You may see slightly different numerical results due to floating-point round-off errors from different computation orders. To turn them off, set the environment variable `TF_ENABLE_ONEDNN_OPTS=0`.\n",
      "2024-07-09 05:58:44.887031: I tensorflow/core/platform/cpu_feature_guard.cc:210] This TensorFlow binary is optimized to use available CPU instructions in performance-critical operations.\n",
      "To enable the following instructions: AVX2 AVX_VNNI FMA, in other operations, rebuild TensorFlow with the appropriate compiler flags.\n",
      "2024-07-09 05:58:46.230548: W tensorflow/compiler/tf2tensorrt/utils/py_utils.cc:38] TF-TRT Warning: Could not find TensorRT\n"
     ]
    }
   ],
   "source": [
    "import pandas as pd\n",
    "\n",
    "import tensorflow as tf\n",
    "import numpy as np\n",
    "from keras import layers\n",
    "from keras.models import load_model, Model,Sequential\n",
    "from keras.optimizers import Adam\n",
    "import matplotlib.pyplot as plt\n",
    "from datetime import datetime\n",
    "from livelossplot.inputs.tf_keras import PlotLossesCallback\n",
    "from skimage import morphology\n",
    "\n",
    "\n",
    "import seaborn as sns #https://towardsdatascience.com/feature-selection-with-pandas-e3690ad8504b  because of the dataset size\n",
    "import statsmodels.api as sm\n",
    "\n",
    "from tensorflow.python.client import device_lib\n",
    "\n",
    "import cv2\n",
    "from PIL import Image\n",
    "import pickle\n",
    "from sklearn.metrics import multilabel_confusion_matrix\n",
    "\n",
    "import sys\n",
    "sys.path.append(\"..\")\n",
    "import sklearn as sk\n",
    "import keras_tuner as kt\n"
   ]
  },
  {
   "cell_type": "code",
   "execution_count": 2,
   "id": "777a2a55-1e51-4f63-b99b-05f7c3bc01f2",
   "metadata": {},
   "outputs": [],
   "source": [
    "# print(device_lib.list_local_devices())\n",
    "# print(\"Num GPUs Available: \", (tf.config.experimental.list_physical_devices()))\n",
    "# gpus = tf.config.experimental.list_physical_devices('GPU')\n",
    "# if gpus:\n",
    "#     try:\n",
    "#         tf.config.experimental.set_visible_devices(gpus[0], 'GPU')\n",
    "#         tf.config.experimental.set_memory_growth(gpus[0], True)\n",
    "#         logical_gpus = tf.config.experimental.list_logical_devices('GPU')\n",
    "#         print(len(gpus), \"Physical GPUs,\", len(logical_gpus), \"Logical GPU\")\n",
    "#     except RuntimeError as e:\n",
    "#         print(e)\n"
   ]
  },
  {
   "cell_type": "code",
   "execution_count": 3,
   "id": "ea5a9324-6e74-45f0-8556-9482acdebbc9",
   "metadata": {},
   "outputs": [
    {
     "data": {
      "text/plain": [
       "array([[[0, 0, 0, ..., 0, 0, 0],\n",
       "        [0, 0, 0, ..., 0, 0, 0],\n",
       "        [0, 0, 0, ..., 0, 0, 0],\n",
       "        ...,\n",
       "        [0, 0, 0, ..., 0, 0, 0],\n",
       "        [0, 0, 0, ..., 0, 0, 0],\n",
       "        [0, 0, 0, ..., 0, 0, 0]],\n",
       "\n",
       "       [[0, 0, 0, ..., 0, 0, 0],\n",
       "        [0, 0, 0, ..., 0, 0, 0],\n",
       "        [0, 0, 0, ..., 0, 0, 0],\n",
       "        ...,\n",
       "        [0, 0, 0, ..., 0, 0, 0],\n",
       "        [0, 0, 0, ..., 0, 0, 0],\n",
       "        [0, 0, 0, ..., 0, 0, 0]],\n",
       "\n",
       "       [[0, 0, 0, ..., 0, 0, 0],\n",
       "        [0, 0, 0, ..., 0, 0, 0],\n",
       "        [0, 0, 0, ..., 0, 0, 0],\n",
       "        ...,\n",
       "        [0, 0, 0, ..., 0, 0, 0],\n",
       "        [0, 0, 0, ..., 0, 0, 0],\n",
       "        [0, 0, 0, ..., 0, 0, 0]],\n",
       "\n",
       "       ...,\n",
       "\n",
       "       [[0, 0, 0, ..., 0, 0, 0],\n",
       "        [0, 0, 0, ..., 0, 0, 0],\n",
       "        [0, 0, 0, ..., 0, 0, 0],\n",
       "        ...,\n",
       "        [0, 0, 0, ..., 0, 0, 0],\n",
       "        [0, 0, 0, ..., 0, 0, 0],\n",
       "        [0, 0, 0, ..., 0, 0, 0]],\n",
       "\n",
       "       [[0, 0, 0, ..., 0, 0, 0],\n",
       "        [0, 0, 0, ..., 0, 0, 0],\n",
       "        [0, 0, 0, ..., 0, 0, 0],\n",
       "        ...,\n",
       "        [0, 0, 0, ..., 0, 0, 0],\n",
       "        [0, 0, 0, ..., 0, 0, 0],\n",
       "        [0, 0, 0, ..., 0, 0, 0]],\n",
       "\n",
       "       [[0, 0, 0, ..., 0, 0, 0],\n",
       "        [0, 0, 0, ..., 0, 0, 0],\n",
       "        [0, 0, 0, ..., 0, 0, 0],\n",
       "        ...,\n",
       "        [0, 0, 0, ..., 0, 0, 0],\n",
       "        [0, 0, 0, ..., 0, 0, 0],\n",
       "        [0, 0, 0, ..., 0, 0, 0]]], dtype=uint8)"
      ]
     },
     "execution_count": 3,
     "metadata": {},
     "output_type": "execute_result"
    }
   ],
   "source": [
    "tf.keras.datasets.mnist.load_data(path=\"mnist.npz\")\n",
    "(x_train, y_train), (x_test, y_test) = tf.keras.datasets.mnist.load_data()\n",
    "x_train"
   ]
  },
  {
   "cell_type": "code",
   "execution_count": 4,
   "id": "6fd3e119",
   "metadata": {},
   "outputs": [
    {
     "data": {
      "text/plain": [
       "((60000, 28, 28), (60000,))"
      ]
     },
     "execution_count": 4,
     "metadata": {},
     "output_type": "execute_result"
    }
   ],
   "source": [
    "x_train.shape, y_train.shape\n"
   ]
  },
  {
   "cell_type": "code",
   "execution_count": 5,
   "id": "35926e43-23f8-498f-a0c7-d1c77945fc7d",
   "metadata": {},
   "outputs": [
    {
     "data": {
      "text/html": [
       "<div>\n",
       "<style scoped>\n",
       "    .dataframe tbody tr th:only-of-type {\n",
       "        vertical-align: middle;\n",
       "    }\n",
       "\n",
       "    .dataframe tbody tr th {\n",
       "        vertical-align: top;\n",
       "    }\n",
       "\n",
       "    .dataframe thead th {\n",
       "        text-align: right;\n",
       "    }\n",
       "</style>\n",
       "<table border=\"1\" class=\"dataframe\">\n",
       "  <thead>\n",
       "    <tr style=\"text-align: right;\">\n",
       "      <th></th>\n",
       "      <th>image</th>\n",
       "      <th>label</th>\n",
       "    </tr>\n",
       "  </thead>\n",
       "  <tbody>\n",
       "    <tr>\n",
       "      <th>0</th>\n",
       "      <td>[[0, 0, 0, 0, 0, 0, 0, 0, 0, 0, 0, 0, 0, 0, 0,...</td>\n",
       "      <td>5</td>\n",
       "    </tr>\n",
       "    <tr>\n",
       "      <th>1</th>\n",
       "      <td>[[0, 0, 0, 0, 0, 0, 0, 0, 0, 0, 0, 0, 0, 0, 0,...</td>\n",
       "      <td>0</td>\n",
       "    </tr>\n",
       "    <tr>\n",
       "      <th>2</th>\n",
       "      <td>[[0, 0, 0, 0, 0, 0, 0, 0, 0, 0, 0, 0, 0, 0, 0,...</td>\n",
       "      <td>4</td>\n",
       "    </tr>\n",
       "    <tr>\n",
       "      <th>3</th>\n",
       "      <td>[[0, 0, 0, 0, 0, 0, 0, 0, 0, 0, 0, 0, 0, 0, 0,...</td>\n",
       "      <td>1</td>\n",
       "    </tr>\n",
       "    <tr>\n",
       "      <th>4</th>\n",
       "      <td>[[0, 0, 0, 0, 0, 0, 0, 0, 0, 0, 0, 0, 0, 0, 0,...</td>\n",
       "      <td>9</td>\n",
       "    </tr>\n",
       "    <tr>\n",
       "      <th>...</th>\n",
       "      <td>...</td>\n",
       "      <td>...</td>\n",
       "    </tr>\n",
       "    <tr>\n",
       "      <th>59995</th>\n",
       "      <td>[[0, 0, 0, 0, 0, 0, 0, 0, 0, 0, 0, 0, 0, 0, 0,...</td>\n",
       "      <td>8</td>\n",
       "    </tr>\n",
       "    <tr>\n",
       "      <th>59996</th>\n",
       "      <td>[[0, 0, 0, 0, 0, 0, 0, 0, 0, 0, 0, 0, 0, 0, 0,...</td>\n",
       "      <td>3</td>\n",
       "    </tr>\n",
       "    <tr>\n",
       "      <th>59997</th>\n",
       "      <td>[[0, 0, 0, 0, 0, 0, 0, 0, 0, 0, 0, 0, 0, 0, 0,...</td>\n",
       "      <td>5</td>\n",
       "    </tr>\n",
       "    <tr>\n",
       "      <th>59998</th>\n",
       "      <td>[[0, 0, 0, 0, 0, 0, 0, 0, 0, 0, 0, 0, 0, 0, 0,...</td>\n",
       "      <td>6</td>\n",
       "    </tr>\n",
       "    <tr>\n",
       "      <th>59999</th>\n",
       "      <td>[[0, 0, 0, 0, 0, 0, 0, 0, 0, 0, 0, 0, 0, 0, 0,...</td>\n",
       "      <td>8</td>\n",
       "    </tr>\n",
       "  </tbody>\n",
       "</table>\n",
       "<p>60000 rows × 2 columns</p>\n",
       "</div>"
      ],
      "text/plain": [
       "                                                   image  label\n",
       "0      [[0, 0, 0, 0, 0, 0, 0, 0, 0, 0, 0, 0, 0, 0, 0,...      5\n",
       "1      [[0, 0, 0, 0, 0, 0, 0, 0, 0, 0, 0, 0, 0, 0, 0,...      0\n",
       "2      [[0, 0, 0, 0, 0, 0, 0, 0, 0, 0, 0, 0, 0, 0, 0,...      4\n",
       "3      [[0, 0, 0, 0, 0, 0, 0, 0, 0, 0, 0, 0, 0, 0, 0,...      1\n",
       "4      [[0, 0, 0, 0, 0, 0, 0, 0, 0, 0, 0, 0, 0, 0, 0,...      9\n",
       "...                                                  ...    ...\n",
       "59995  [[0, 0, 0, 0, 0, 0, 0, 0, 0, 0, 0, 0, 0, 0, 0,...      8\n",
       "59996  [[0, 0, 0, 0, 0, 0, 0, 0, 0, 0, 0, 0, 0, 0, 0,...      3\n",
       "59997  [[0, 0, 0, 0, 0, 0, 0, 0, 0, 0, 0, 0, 0, 0, 0,...      5\n",
       "59998  [[0, 0, 0, 0, 0, 0, 0, 0, 0, 0, 0, 0, 0, 0, 0,...      6\n",
       "59999  [[0, 0, 0, 0, 0, 0, 0, 0, 0, 0, 0, 0, 0, 0, 0,...      8\n",
       "\n",
       "[60000 rows x 2 columns]"
      ]
     },
     "execution_count": 5,
     "metadata": {},
     "output_type": "execute_result"
    }
   ],
   "source": [
    "train_df = pd.DataFrame({'image': [img for img in x_train]})\n",
    "train_df[\"label\"] = y_train\n",
    "\n",
    "test_df = pd.DataFrame({'image': [img for img in x_test]})\n",
    "test_df[\"label\"] = y_test\n",
    "\n",
    "train_df"
   ]
  },
  {
   "cell_type": "code",
   "execution_count": 6,
   "id": "a0f99a7a-5264-4e00-ab34-0e7abd7bdc05",
   "metadata": {},
   "outputs": [
    {
     "data": {
      "text/html": [
       "<div>\n",
       "<style scoped>\n",
       "    .dataframe tbody tr th:only-of-type {\n",
       "        vertical-align: middle;\n",
       "    }\n",
       "\n",
       "    .dataframe tbody tr th {\n",
       "        vertical-align: top;\n",
       "    }\n",
       "\n",
       "    .dataframe thead th {\n",
       "        text-align: right;\n",
       "    }\n",
       "</style>\n",
       "<table border=\"1\" class=\"dataframe\">\n",
       "  <thead>\n",
       "    <tr style=\"text-align: right;\">\n",
       "      <th></th>\n",
       "      <th>image</th>\n",
       "      <th>label</th>\n",
       "    </tr>\n",
       "  </thead>\n",
       "  <tbody>\n",
       "    <tr>\n",
       "      <th>0</th>\n",
       "      <td>[[0, 0, 0, 0, 0, 0, 0, 0, 0, 0, 0, 0, 0, 0, 0,...</td>\n",
       "      <td>7</td>\n",
       "    </tr>\n",
       "    <tr>\n",
       "      <th>1</th>\n",
       "      <td>[[0, 0, 0, 0, 0, 0, 0, 0, 0, 0, 0, 0, 0, 0, 0,...</td>\n",
       "      <td>2</td>\n",
       "    </tr>\n",
       "    <tr>\n",
       "      <th>2</th>\n",
       "      <td>[[0, 0, 0, 0, 0, 0, 0, 0, 0, 0, 0, 0, 0, 0, 0,...</td>\n",
       "      <td>1</td>\n",
       "    </tr>\n",
       "    <tr>\n",
       "      <th>3</th>\n",
       "      <td>[[0, 0, 0, 0, 0, 0, 0, 0, 0, 0, 0, 0, 0, 0, 0,...</td>\n",
       "      <td>0</td>\n",
       "    </tr>\n",
       "    <tr>\n",
       "      <th>4</th>\n",
       "      <td>[[0, 0, 0, 0, 0, 0, 0, 0, 0, 0, 0, 0, 0, 0, 0,...</td>\n",
       "      <td>4</td>\n",
       "    </tr>\n",
       "  </tbody>\n",
       "</table>\n",
       "</div>"
      ],
      "text/plain": [
       "                                               image  label\n",
       "0  [[0, 0, 0, 0, 0, 0, 0, 0, 0, 0, 0, 0, 0, 0, 0,...      7\n",
       "1  [[0, 0, 0, 0, 0, 0, 0, 0, 0, 0, 0, 0, 0, 0, 0,...      2\n",
       "2  [[0, 0, 0, 0, 0, 0, 0, 0, 0, 0, 0, 0, 0, 0, 0,...      1\n",
       "3  [[0, 0, 0, 0, 0, 0, 0, 0, 0, 0, 0, 0, 0, 0, 0,...      0\n",
       "4  [[0, 0, 0, 0, 0, 0, 0, 0, 0, 0, 0, 0, 0, 0, 0,...      4"
      ]
     },
     "execution_count": 6,
     "metadata": {},
     "output_type": "execute_result"
    }
   ],
   "source": [
    "test_df.head()"
   ]
  },
  {
   "cell_type": "markdown",
   "id": "280bacc9",
   "metadata": {},
   "source": [
    "# Checking classes"
   ]
  },
  {
   "cell_type": "code",
   "execution_count": 7,
   "id": "7275eead",
   "metadata": {},
   "outputs": [
    {
     "data": {
      "text/plain": [
       "array([0, 1, 2, 3, 4, 5, 6, 7, 8, 9])"
      ]
     },
     "execution_count": 7,
     "metadata": {},
     "output_type": "execute_result"
    }
   ],
   "source": [
    "np.sort(train_df.label.unique().tolist())"
   ]
  },
  {
   "cell_type": "code",
   "execution_count": 8,
   "id": "01b65c41-d5e5-49bc-b168-3c9f19851d65",
   "metadata": {},
   "outputs": [
    {
     "data": {
      "text/plain": [
       "array([0, 1, 2, 3, 4, 5, 6, 7, 8, 9])"
      ]
     },
     "execution_count": 8,
     "metadata": {},
     "output_type": "execute_result"
    }
   ],
   "source": [
    "np.sort(test_df.label.unique().tolist())"
   ]
  },
  {
   "cell_type": "markdown",
   "id": "f6669b0d",
   "metadata": {},
   "source": [
    "We have all classes in both datasets.\n",
    "What about the frequence ? \n"
   ]
  },
  {
   "cell_type": "code",
   "execution_count": 9,
   "id": "9f04cfa4-bea4-46ee-8454-82c66b4eaef4",
   "metadata": {},
   "outputs": [
    {
     "data": {
      "text/plain": [
       "<Axes: >"
      ]
     },
     "execution_count": 9,
     "metadata": {},
     "output_type": "execute_result"
    },
    {
     "data": {
      "image/png": "[encoded data removed]",
      "text/plain": [
       "<Figure size 640x480 with 1 Axes>"
      ]
     },
     "metadata": {},
     "output_type": "display_data"
    }
   ],
   "source": [
    "train_df.label.value_counts().plot(kind=\"bar\")"
   ]
  },
  {
   "cell_type": "code",
   "execution_count": 10,
   "id": "d9f9ddbc-d39a-4732-8dd0-510f0cdf766a",
   "metadata": {},
   "outputs": [
    {
     "data": {
      "text/plain": [
       "<Axes: >"
      ]
     },
     "execution_count": 10,
     "metadata": {},
     "output_type": "execute_result"
    },
    {
     "data": {
      "image/png": "[encoded data removed]",
      "text/plain": [
       "<Figure size 640x480 with 1 Axes>"
      ]
     },
     "metadata": {},
     "output_type": "display_data"
    }
   ],
   "source": [
    "test_df.label.value_counts().plot(kind=\"bar\")"
   ]
  },
  {
   "cell_type": "markdown",
   "id": "564d14c8",
   "metadata": {},
   "source": [
    "# Defining the baseline (human level performance) and checking where we are right now with a rough model\n",
    "\n",
    "HLP Accuracy : 99.87%\n",
    "Loss : categorical cross entropy \n",
    "\n",
    "https://arxiv.org/pdf/2001.09136v6.pdf model architecture that achieved the best accuracy. Let's check where we are without data processing.\n"
   ]
  },
  {
   "cell_type": "markdown",
   "id": "7327b2c2",
   "metadata": {},
   "source": [
    "Shaping the inputs"
   ]
  },
  {
   "cell_type": "code",
   "execution_count": 11,
   "id": "05001725",
   "metadata": {},
   "outputs": [],
   "source": [
    "stage = \"rough\""
   ]
  },
  {
   "cell_type": "code",
   "execution_count": 12,
   "id": "a2cf0bb0",
   "metadata": {},
   "outputs": [
    {
     "data": {
      "text/plain": [
       "(28, 28)"
      ]
     },
     "execution_count": 12,
     "metadata": {},
     "output_type": "execute_result"
    }
   ],
   "source": [
    "train_df.image.values[0].shape"
   ]
  },
  {
   "cell_type": "code",
   "execution_count": 13,
   "id": "69073c96",
   "metadata": {},
   "outputs": [
    {
     "name": "stdout",
     "output_type": "stream",
     "text": [
      "(28, 28, 3)\n"
     ]
    },
    {
     "data": {
      "image/png": "[encoded data removed]",
      "text/plain": [
       "<Figure size 640x480 with 1 Axes>"
      ]
     },
     "metadata": {},
     "output_type": "display_data"
    }
   ],
   "source": [
    "img = Image.fromarray((train_df.image.values[0]).astype(np.uint8)).convert('RGB')\n",
    "plt.figure()\n",
    "img = np.asarray(img)\n",
    "plt.imshow(img)\n",
    "print(img.shape)"
   ]
  },
  {
   "cell_type": "code",
   "execution_count": 14,
   "id": "1648ab2e",
   "metadata": {},
   "outputs": [
    {
     "data": {
      "text/plain": [
       "(28, 28, 3)"
      ]
     },
     "execution_count": 14,
     "metadata": {},
     "output_type": "execute_result"
    }
   ],
   "source": [
    "train_df[\"images_rgb\"] = train_df.image.apply(lambda img : np.asarray(Image.fromarray((img).astype(np.uint8)).convert('RGB')) )\n",
    "train_df.images_rgb.values[0].shape"
   ]
  },
  {
   "cell_type": "code",
   "execution_count": 15,
   "id": "3fa80b17",
   "metadata": {},
   "outputs": [
    {
     "data": {
      "text/plain": [
       "(28, 28, 3)"
      ]
     },
     "execution_count": 15,
     "metadata": {},
     "output_type": "execute_result"
    }
   ],
   "source": [
    "test_df[\"images_rgb\"] = test_df.image.apply(lambda img : np.asarray(Image.fromarray((img).astype(np.uint8)).convert('RGB')) )\n",
    "\n",
    "test_df.images_rgb.values[0].shape"
   ]
  },
  {
   "cell_type": "code",
   "execution_count": 16,
   "id": "f161838e",
   "metadata": {},
   "outputs": [
    {
     "data": {
      "text/plain": [
       "((28, 28, 3), (28, 28, 3))"
      ]
     },
     "execution_count": 16,
     "metadata": {},
     "output_type": "execute_result"
    }
   ],
   "source": [
    "W = train_df.images_rgb.values[0].shape[0]\n",
    "H = train_df.images_rgb.values[0].shape[1]\n",
    "\n",
    "train_input = np.array([img for img in train_df.images_rgb.values]).reshape(len(train_df), W, H, 3)\n",
    "test_input = np.array([img for img in test_df.images_rgb.values]).reshape(len(test_df), W, H, 3)\n",
    "\n",
    "train_input[0].shape, test_input[0].shape"
   ]
  },
  {
   "cell_type": "code",
   "execution_count": 17,
   "id": "cbc15195",
   "metadata": {},
   "outputs": [
    {
     "data": {
      "text/plain": [
       "((60000, 28, 28, 3), (60000,), (10000, 28, 28, 3), (10000,))"
      ]
     },
     "execution_count": 17,
     "metadata": {},
     "output_type": "execute_result"
    }
   ],
   "source": [
    "train_input.shape, y_train.shape, test_input.shape, y_test.shape"
   ]
  },
  {
   "cell_type": "code",
   "execution_count": 18,
   "id": "ec037e12",
   "metadata": {},
   "outputs": [],
   "source": [
    "from tensorflow.keras import backend as K\n",
    "import keras\n",
    "\n",
    "@keras.saving.register_keras_serializable(package=\"my_custom_metrics\", name=\"recall_m\")\n",
    "def recall_m(y_true, y_pred):\n",
    "\n",
    "    y_pred = tf.argmax(y_pred, axis=-1)\n",
    "\n",
    "    y_true = tf.cast(y_true, dtype=tf.float32)\n",
    "    y_pred = tf.cast(y_pred, dtype=tf.float32)\n",
    "\n",
    "    true_positives = K.sum(K.round(K.clip(y_true * y_pred, 0.0, 1.0)))\n",
    "    possible_positives = K.sum(K.round(K.clip(y_true, 0.0, 1.0)))\n",
    "    recall = true_positives / (possible_positives + K.epsilon())\n",
    "    return recall\n",
    "@keras.saving.register_keras_serializable(package=\"my_custom_metrics\", name=\"precision_m\")\n",
    "def precision_m(y_true, y_pred):\n",
    "    y_pred = tf.argmax(y_pred, axis=-1)\n",
    "    y_true = tf.cast(y_true, dtype=tf.float32)\n",
    "    y_pred = tf.cast(y_pred, dtype=tf.float32)\n",
    "\n",
    "    true_positives = K.sum(K.round(K.clip(y_true * y_pred, 0.0, 1.0)))\n",
    "    predicted_positives = K.sum(K.round(K.clip(y_pred, 0.0, 1.0)))\n",
    "    precision = true_positives / (predicted_positives + K.epsilon())\n",
    "    return precision\n",
    "@keras.saving.register_keras_serializable(package=\"my_custom_metrics\", name=\"f1_m\")\n",
    "def f1_m(y_true, y_pred):\n",
    "    y_true = tf.cast(y_true, dtype=tf.float32)\n",
    "    y_pred = tf.cast(y_pred, dtype=tf.float32)\n",
    "    \n",
    "    precision = precision_m(y_true, y_pred)\n",
    "    recall = recall_m(y_true, y_pred)\n",
    "    return 2*((precision*recall)/(precision+recall+K.epsilon()))"
   ]
  },
  {
   "cell_type": "code",
   "execution_count": 19,
   "id": "db6705b8",
   "metadata": {},
   "outputs": [],
   "source": [
    "def create_model(hp, default_model = False):\n",
    "    if default_model :\n",
    "        model = Sequential()\n",
    "        model.add(layers.Conv2D(32, (3, 3), activation='relu', input_shape=(W, H, 3)))#128\n",
    "        model.add(layers.BatchNormalization())\n",
    "        model.add(layers.Conv2D(64, (3, 3), activation='relu', input_shape=(W, H, 3)))\n",
    "        model.add(layers.BatchNormalization())\n",
    "        model.add(layers.Conv2D(160, (3, 3), activation='relu', input_shape=(W, H, 3)))\n",
    "        model.add(layers.BatchNormalization())\n",
    "        #model.add(layers.Dropout(0.5))\n",
    "        learning_rate = 0.00001\n",
    "    else:\n",
    "\n",
    "        n_conv_layers = hp.Int(\"n_conv_layers\", 2, 4, step = 1)\n",
    "        use_batch_norm = hp.Choice(\"use_batch_norm\", [True, False])\n",
    "        use_dropout = hp.Choice(\"use_dropout\", [True, False])\n",
    "        learning_rate = hp.Float('learning_rate', 0.000001, 0.001)\n",
    "\n",
    "        model = Sequential()\n",
    "\n",
    "        for n in range(n_conv_layers):\n",
    "            #Get Conv layers units and filters\n",
    "            conv_unit = hp.Int(f\"conv_{n}_unit\", 32, 256, step = 32)\n",
    "            conv_filter = hp.Int(f\"conv_{n}_filter\", 2, 5, step = 1)\n",
    "            model.add(layers.Conv2D(conv_unit, (conv_filter, conv_filter), activation='relu', input_shape=(W, H, 3)))\n",
    "\n",
    "            #Apply batch norm\n",
    "            if use_batch_norm : model.add(layers.BatchNormalization())\n",
    "\n",
    "            #Apply dropout\n",
    "            if use_dropout : \n",
    "                dropout_rate = hp.Float(f'dropout_rate_{n}', 0.1, 0.5)\n",
    "                model.add(layers.Dropout(dropout_rate))\n",
    "    \n",
    "    model.add(layers.Flatten())\n",
    "    model.add(layers.Dense(len(np.unique(y_train)), activation='softmax'))\n",
    "    model.compile(optimizer=Adam(learning_rate=learning_rate), loss=tf.keras.losses.sparse_categorical_crossentropy, metrics=['sparse_categorical_accuracy', precision_m, recall_m, f1_m])\n",
    "    return model\n",
    "    "
   ]
  },
  {
   "cell_type": "code",
   "execution_count": 20,
   "id": "220e4419",
   "metadata": {},
   "outputs": [
    {
     "name": "stderr",
     "output_type": "stream",
     "text": [
      "2024-07-09 05:58:50.257070: I external/local_xla/xla/stream_executor/cuda/cuda_executor.cc:998] successful NUMA node read from SysFS had negative value (-1), but there must be at least one NUMA node, so returning NUMA node zero. See more at https://github.com/torvalds/linux/blob/v6.0/Documentation/ABI/testing/sysfs-bus-pci#L344-L355\n",
      "2024-07-09 05:58:50.303271: I external/local_xla/xla/stream_executor/cuda/cuda_executor.cc:998] successful NUMA node read from SysFS had negative value (-1), but there must be at least one NUMA node, so returning NUMA node zero. See more at https://github.com/torvalds/linux/blob/v6.0/Documentation/ABI/testing/sysfs-bus-pci#L344-L355\n",
      "2024-07-09 05:58:50.306801: I external/local_xla/xla/stream_executor/cuda/cuda_executor.cc:998] successful NUMA node read from SysFS had negative value (-1), but there must be at least one NUMA node, so returning NUMA node zero. See more at https://github.com/torvalds/linux/blob/v6.0/Documentation/ABI/testing/sysfs-bus-pci#L344-L355\n",
      "2024-07-09 05:58:50.314442: I external/local_xla/xla/stream_executor/cuda/cuda_executor.cc:998] successful NUMA node read from SysFS had negative value (-1), but there must be at least one NUMA node, so returning NUMA node zero. See more at https://github.com/torvalds/linux/blob/v6.0/Documentation/ABI/testing/sysfs-bus-pci#L344-L355\n",
      "2024-07-09 05:58:50.320550: I external/local_xla/xla/stream_executor/cuda/cuda_executor.cc:998] successful NUMA node read from SysFS had negative value (-1), but there must be at least one NUMA node, so returning NUMA node zero. See more at https://github.com/torvalds/linux/blob/v6.0/Documentation/ABI/testing/sysfs-bus-pci#L344-L355\n",
      "2024-07-09 05:58:50.323766: I external/local_xla/xla/stream_executor/cuda/cuda_executor.cc:998] successful NUMA node read from SysFS had negative value (-1), but there must be at least one NUMA node, so returning NUMA node zero. See more at https://github.com/torvalds/linux/blob/v6.0/Documentation/ABI/testing/sysfs-bus-pci#L344-L355\n",
      "2024-07-09 05:58:50.488467: I external/local_xla/xla/stream_executor/cuda/cuda_executor.cc:998] successful NUMA node read from SysFS had negative value (-1), but there must be at least one NUMA node, so returning NUMA node zero. See more at https://github.com/torvalds/linux/blob/v6.0/Documentation/ABI/testing/sysfs-bus-pci#L344-L355\n",
      "2024-07-09 05:58:50.490216: I external/local_xla/xla/stream_executor/cuda/cuda_executor.cc:998] successful NUMA node read from SysFS had negative value (-1), but there must be at least one NUMA node, so returning NUMA node zero. See more at https://github.com/torvalds/linux/blob/v6.0/Documentation/ABI/testing/sysfs-bus-pci#L344-L355\n",
      "2024-07-09 05:58:50.491651: I external/local_xla/xla/stream_executor/cuda/cuda_executor.cc:998] successful NUMA node read from SysFS had negative value (-1), but there must be at least one NUMA node, so returning NUMA node zero. See more at https://github.com/torvalds/linux/blob/v6.0/Documentation/ABI/testing/sysfs-bus-pci#L344-L355\n",
      "2024-07-09 05:58:50.493773: I tensorflow/core/common_runtime/gpu/gpu_device.cc:1928] Created device /job:localhost/replica:0/task:0/device:GPU:0 with 21141 MB memory:  -> device: 0, name: NVIDIA GeForce RTX 3090, pci bus id: 0000:01:00.0, compute capability: 8.6\n",
      "WARNING: All log messages before absl::InitializeLog() is called are written to STDERR\n",
      "I0000 00:00:1720501131.250458    5877 service.cc:145] XLA service 0x7a270c0037d0 initialized for platform CUDA (this does not guarantee that XLA will be used). Devices:\n",
      "I0000 00:00:1720501131.250493    5877 service.cc:153]   StreamExecutor device (0): NVIDIA GeForce RTX 3090, Compute Capability 8.6\n",
      "2024-07-09 05:58:51.272914: I tensorflow/compiler/mlir/tensorflow/utils/dump_mlir_util.cc:268] disabling MLIR crash reproducer, set env var `MLIR_CRASH_REPRODUCER_DIRECTORY` to enable.\n",
      "2024-07-09 05:58:51.374968: I external/local_xla/xla/stream_executor/cuda/cuda_dnn.cc:465] Loaded cuDNN version 8902\n"
     ]
    },
    {
     "name": "stdout",
     "output_type": "stream",
     "text": [
      "\u001b[1m245/313\u001b[0m \u001b[32m━━━━━━━━━━━━━━━\u001b[0m\u001b[37m━━━━━\u001b[0m \u001b[1m0s\u001b[0m 620us/step"
     ]
    },
    {
     "name": "stderr",
     "output_type": "stream",
     "text": [
      "I0000 00:00:1720501131.873981    5877 device_compiler.h:188] Compiled cluster using XLA!  This line is logged at most once for the lifetime of the process.\n"
     ]
    },
    {
     "name": "stdout",
     "output_type": "stream",
     "text": [
      "\u001b[1m313/313\u001b[0m \u001b[32m━━━━━━━━━━━━━━━━━━━━\u001b[0m\u001b[37m\u001b[0m \u001b[1m1s\u001b[0m 1ms/step\n"
     ]
    },
    {
     "data": {
      "text/plain": [
       "(0.9864938038335084, <tf.Tensor: shape=(), dtype=float32, numpy=0.9865>)"
      ]
     },
     "execution_count": 20,
     "metadata": {},
     "output_type": "execute_result"
    }
   ],
   "source": [
    "tensorboard_callback = tf.keras.callbacks.TensorBoard(log_dir=f\"logs/{stage}/\")\n",
    "\n",
    "# model = create_model(None, default_model = True)\n",
    "\n",
    "# model.fit(train_input, \n",
    "#           y_train , \n",
    "#           #validation_split= 0.05, \n",
    "#           validation_data=(test_input, y_test),\n",
    "#           epochs= 150, \n",
    "#           batch_size = 1024,\n",
    "#           callbacks=[tensorboard_callback]\n",
    "#           )\n",
    "# model.save('./checkpoints/model_v1.keras')\n",
    "model = tf.keras.models.load_model('./checkpoints/model_v1.keras')\n",
    "\n",
    "test_target_prob = model.predict(test_input)\n",
    "\n",
    "m = tf.keras.metrics.SparseCategoricalAccuracy()\n",
    "m.update_state(y_test, test_target_prob)\n",
    "sk.metrics.f1_score(y_test.reshape(-1,1), test_target_prob.argmax(axis = -1).reshape(-1,1), average = \"weighted\"), m.result()\n"
   ]
  },
  {
   "cell_type": "markdown",
   "id": "17d111b9",
   "metadata": {},
   "source": [
    "The best result is 98.65 % which means that there are rooms for improvements according to the open source implementations (kaggle) -> Until 99.87%"
   ]
  },
  {
   "cell_type": "markdown",
   "id": "3c0dec6f",
   "metadata": {},
   "source": [
    "Let's try to perform hyperparam tunning to the model first, in order to get a tuned model for the data."
   ]
  },
  {
   "cell_type": "code",
   "execution_count": 21,
   "id": "83be9f11",
   "metadata": {},
   "outputs": [
    {
     "name": "stdout",
     "output_type": "stream",
     "text": [
      "Reloading Tuner from hyperparameter_tuning_v1/digit_hyperparam/tuner0.json\n"
     ]
    }
   ],
   "source": [
    "tensorboard_callback = tf.keras.callbacks.TensorBoard(log_dir=f\"logs/tunning_{stage}/\")\n",
    "\n",
    "\n",
    "tuner = kt.BayesianOptimization(\n",
    "            create_model,\n",
    "            objective= kt.Objective('val_f1_m', direction=\"max\"), \n",
    "            max_trials = 30,\n",
    "            # distribution_strategy= strategy,\n",
    "            directory=\"hyperparameter_tuning_v1\",\n",
    "            project_name=\"digit_hyperparam\",\n",
    "            #seed=0\n",
    "        )\n",
    "\n",
    "\n",
    "tuner.search(train_input, \n",
    "          y_train , \n",
    "          validation_data=(test_input, y_test),\n",
    "          epochs= 150, \n",
    "          batch_size = 1024,\n",
    "          callbacks=[tensorboard_callback]\n",
    "        )\n"
   ]
  },
  {
   "cell_type": "code",
   "execution_count": 22,
   "id": "ce96a26a",
   "metadata": {},
   "outputs": [
    {
     "name": "stdout",
     "output_type": "stream",
     "text": [
      "Best Hyperparameters: {'_name_scopes': [], '_conditions': [], '_hps': defaultdict(<class 'list'>, {'n_conv_layers': [Int(name: 'n_conv_layers', min_value: 2, max_value: 4, step: 1, sampling: linear, default: 2)], 'use_batch_norm': [Choice(name: 'use_batch_norm', values: [1, 0], ordered: True, default: 1)], 'use_dropout': [Choice(name: 'use_dropout', values: [1, 0], ordered: True, default: 1)], 'learning_rate': [Float(name: 'learning_rate', min_value: '1e-06', max_value: '0.001', step: 'None', sampling: 'linear', default: '1e-06')], 'conv_0_unit': [Int(name: 'conv_0_unit', min_value: 32, max_value: 256, step: 32, sampling: linear, default: 32)], 'conv_0_filter': [Int(name: 'conv_0_filter', min_value: 2, max_value: 5, step: 1, sampling: linear, default: 2)], 'dropout_rate_0': [Float(name: 'dropout_rate_0', min_value: '0.1', max_value: '0.5', step: 'None', sampling: 'linear', default: '0.1')], 'conv_1_unit': [Int(name: 'conv_1_unit', min_value: 32, max_value: 256, step: 32, sampling: linear, default: 32)], 'conv_1_filter': [Int(name: 'conv_1_filter', min_value: 2, max_value: 5, step: 1, sampling: linear, default: 2)], 'dropout_rate_1': [Float(name: 'dropout_rate_1', min_value: '0.1', max_value: '0.5', step: 'None', sampling: 'linear', default: '0.1')], 'conv_2_unit': [Int(name: 'conv_2_unit', min_value: 32, max_value: 256, step: 32, sampling: linear, default: 32)], 'conv_2_filter': [Int(name: 'conv_2_filter', min_value: 2, max_value: 5, step: 1, sampling: linear, default: 2)], 'conv_3_unit': [Int(name: 'conv_3_unit', min_value: 32, max_value: 256, step: 32, sampling: linear, default: 32)], 'conv_3_filter': [Int(name: 'conv_3_filter', min_value: 2, max_value: 5, step: 1, sampling: linear, default: 2)], 'dropout_rate_2': [Float(name: 'dropout_rate_2', min_value: '0.1', max_value: '0.5', step: 'None', sampling: 'linear', default: '0.1')], 'dropout_rate_3': [Float(name: 'dropout_rate_3', min_value: '0.1', max_value: '0.5', step: 'None', sampling: 'linear', default: '0.1')]}), '_space': [Int(name: 'n_conv_layers', min_value: 2, max_value: 4, step: 1, sampling: linear, default: 2), Choice(name: 'use_batch_norm', values: [1, 0], ordered: True, default: 1), Choice(name: 'use_dropout', values: [1, 0], ordered: True, default: 1), Float(name: 'learning_rate', min_value: '1e-06', max_value: '0.001', step: 'None', sampling: 'linear', default: '1e-06'), Int(name: 'conv_0_unit', min_value: 32, max_value: 256, step: 32, sampling: linear, default: 32), Int(name: 'conv_0_filter', min_value: 2, max_value: 5, step: 1, sampling: linear, default: 2), Float(name: 'dropout_rate_0', min_value: '0.1', max_value: '0.5', step: 'None', sampling: 'linear', default: '0.1'), Int(name: 'conv_1_unit', min_value: 32, max_value: 256, step: 32, sampling: linear, default: 32), Int(name: 'conv_1_filter', min_value: 2, max_value: 5, step: 1, sampling: linear, default: 2), Float(name: 'dropout_rate_1', min_value: '0.1', max_value: '0.5', step: 'None', sampling: 'linear', default: '0.1'), Int(name: 'conv_2_unit', min_value: 32, max_value: 256, step: 32, sampling: linear, default: 32), Int(name: 'conv_2_filter', min_value: 2, max_value: 5, step: 1, sampling: linear, default: 2), Int(name: 'conv_3_unit', min_value: 32, max_value: 256, step: 32, sampling: linear, default: 32), Int(name: 'conv_3_filter', min_value: 2, max_value: 5, step: 1, sampling: linear, default: 2), Float(name: 'dropout_rate_2', min_value: '0.1', max_value: '0.5', step: 'None', sampling: 'linear', default: '0.1'), Float(name: 'dropout_rate_3', min_value: '0.1', max_value: '0.5', step: 'None', sampling: 'linear', default: '0.1')], 'values': {'n_conv_layers': 4, 'use_batch_norm': 0, 'use_dropout': 1, 'learning_rate': 0.00016852263783264862, 'conv_0_unit': 256, 'conv_0_filter': 4, 'dropout_rate_0': 0.4237145145303758, 'conv_1_unit': 32, 'conv_1_filter': 3, 'dropout_rate_1': 0.25907251182387064, 'conv_2_unit': 224, 'conv_2_filter': 2, 'conv_3_unit': 160, 'conv_3_filter': 3, 'dropout_rate_2': 0.4520335810297659, 'dropout_rate_3': 0.44627452272625956}, 'active_scopes': [], 'inactive_scopes': []}\n"
     ]
    },
    {
     "name": "stderr",
     "output_type": "stream",
     "text": [
      "/home/n/anaconda3/envs/AI_env/lib/python3.11/site-packages/keras/src/layers/convolutional/base_conv.py:107: UserWarning: Do not pass an `input_shape`/`input_dim` argument to a layer. When using Sequential models, prefer using an `Input(shape)` object as the first layer in the model instead.\n",
      "  super().__init__(activity_regularizer=activity_regularizer, **kwargs)\n"
     ]
    },
    {
     "name": "stdout",
     "output_type": "stream",
     "text": [
      "\u001b[1m313/313\u001b[0m \u001b[32m━━━━━━━━━━━━━━━━━━━━\u001b[0m\u001b[37m\u001b[0m \u001b[1m1s\u001b[0m 2ms/step\n"
     ]
    },
    {
     "data": {
      "text/plain": [
       "(0.9906980013638431, <tf.Tensor: shape=(), dtype=float32, numpy=0.9907>)"
      ]
     },
     "execution_count": 22,
     "metadata": {},
     "output_type": "execute_result"
    }
   ],
   "source": [
    "for best_hps in tuner.get_best_hyperparameters(num_trials=1):\n",
    "    print(f\"Best Hyperparameters: {best_hps.__dict__}\")\n",
    "    model_v1 = tuner.hypermodel.build(best_hps)  # Build the model with best hyperparameters\n",
    "\n",
    "\n",
    "# model_v1.fit(train_input, \n",
    "#           y_train , \n",
    "#           #validation_split= 0.05, \n",
    "#           validation_data=(test_input, y_test),\n",
    "#           epochs= 150, \n",
    "#           batch_size = 1024,\n",
    "#           callbacks=[tensorboard_callback]\n",
    "#           )\n",
    "# model_v1.save('./checkpoints/model_v1_tuned.keras')\n",
    "model_v1 = tf.keras.models.load_model('./checkpoints/model_v1_tuned.keras')  \n",
    "\n",
    "test_target_prob = model_v1.predict(test_input)\n",
    "\n",
    "m = tf.keras.metrics.SparseCategoricalAccuracy()\n",
    "m.update_state(y_test, test_target_prob)\n",
    "\n",
    "sk.metrics.f1_score(y_test.reshape(-1,1), test_target_prob.argmax(axis = -1).reshape(-1,1), average = \"weighted\"), m.result()\n"
   ]
  },
  {
   "cell_type": "markdown",
   "id": "e1999353",
   "metadata": {},
   "source": [
    "# Perform Error Analysis"
   ]
  },
  {
   "cell_type": "code",
   "execution_count": 23,
   "id": "d90126f4",
   "metadata": {},
   "outputs": [
    {
     "name": "stdout",
     "output_type": "stream",
     "text": [
      "\u001b[1m313/313\u001b[0m \u001b[32m━━━━━━━━━━━━━━━━━━━━\u001b[0m\u001b[37m\u001b[0m \u001b[1m0s\u001b[0m 910us/step\n"
     ]
    },
    {
     "data": {
      "text/html": [
       "<div>\n",
       "<style scoped>\n",
       "    .dataframe tbody tr th:only-of-type {\n",
       "        vertical-align: middle;\n",
       "    }\n",
       "\n",
       "    .dataframe tbody tr th {\n",
       "        vertical-align: top;\n",
       "    }\n",
       "\n",
       "    .dataframe thead th {\n",
       "        text-align: right;\n",
       "    }\n",
       "</style>\n",
       "<table border=\"1\" class=\"dataframe\">\n",
       "  <thead>\n",
       "    <tr style=\"text-align: right;\">\n",
       "      <th></th>\n",
       "      <th>target</th>\n",
       "      <th>images</th>\n",
       "      <th>label</th>\n",
       "      <th>label_prob</th>\n",
       "    </tr>\n",
       "  </thead>\n",
       "  <tbody>\n",
       "    <tr>\n",
       "      <th>0</th>\n",
       "      <td>7</td>\n",
       "      <td>[[[0, 0, 0], [0, 0, 0], [0, 0, 0], [0, 0, 0], ...</td>\n",
       "      <td>7</td>\n",
       "      <td>1.000000</td>\n",
       "    </tr>\n",
       "    <tr>\n",
       "      <th>1</th>\n",
       "      <td>2</td>\n",
       "      <td>[[[0, 0, 0], [0, 0, 0], [0, 0, 0], [0, 0, 0], ...</td>\n",
       "      <td>2</td>\n",
       "      <td>1.000000</td>\n",
       "    </tr>\n",
       "    <tr>\n",
       "      <th>2</th>\n",
       "      <td>1</td>\n",
       "      <td>[[[0, 0, 0], [0, 0, 0], [0, 0, 0], [0, 0, 0], ...</td>\n",
       "      <td>1</td>\n",
       "      <td>0.999992</td>\n",
       "    </tr>\n",
       "    <tr>\n",
       "      <th>3</th>\n",
       "      <td>0</td>\n",
       "      <td>[[[0, 0, 0], [0, 0, 0], [0, 0, 0], [0, 0, 0], ...</td>\n",
       "      <td>0</td>\n",
       "      <td>1.000000</td>\n",
       "    </tr>\n",
       "    <tr>\n",
       "      <th>4</th>\n",
       "      <td>4</td>\n",
       "      <td>[[[0, 0, 0], [0, 0, 0], [0, 0, 0], [0, 0, 0], ...</td>\n",
       "      <td>4</td>\n",
       "      <td>1.000000</td>\n",
       "    </tr>\n",
       "    <tr>\n",
       "      <th>...</th>\n",
       "      <td>...</td>\n",
       "      <td>...</td>\n",
       "      <td>...</td>\n",
       "      <td>...</td>\n",
       "    </tr>\n",
       "    <tr>\n",
       "      <th>9995</th>\n",
       "      <td>2</td>\n",
       "      <td>[[[0, 0, 0], [0, 0, 0], [0, 0, 0], [0, 0, 0], ...</td>\n",
       "      <td>2</td>\n",
       "      <td>1.000000</td>\n",
       "    </tr>\n",
       "    <tr>\n",
       "      <th>9996</th>\n",
       "      <td>3</td>\n",
       "      <td>[[[0, 0, 0], [0, 0, 0], [0, 0, 0], [0, 0, 0], ...</td>\n",
       "      <td>3</td>\n",
       "      <td>1.000000</td>\n",
       "    </tr>\n",
       "    <tr>\n",
       "      <th>9997</th>\n",
       "      <td>4</td>\n",
       "      <td>[[[0, 0, 0], [0, 0, 0], [0, 0, 0], [0, 0, 0], ...</td>\n",
       "      <td>4</td>\n",
       "      <td>1.000000</td>\n",
       "    </tr>\n",
       "    <tr>\n",
       "      <th>9998</th>\n",
       "      <td>5</td>\n",
       "      <td>[[[0, 0, 0], [0, 0, 0], [0, 0, 0], [0, 0, 0], ...</td>\n",
       "      <td>5</td>\n",
       "      <td>1.000000</td>\n",
       "    </tr>\n",
       "    <tr>\n",
       "      <th>9999</th>\n",
       "      <td>6</td>\n",
       "      <td>[[[0, 0, 0], [0, 0, 0], [0, 0, 0], [0, 0, 0], ...</td>\n",
       "      <td>6</td>\n",
       "      <td>1.000000</td>\n",
       "    </tr>\n",
       "  </tbody>\n",
       "</table>\n",
       "<p>10000 rows × 4 columns</p>\n",
       "</div>"
      ],
      "text/plain": [
       "      target                                             images  label  \\\n",
       "0          7  [[[0, 0, 0], [0, 0, 0], [0, 0, 0], [0, 0, 0], ...      7   \n",
       "1          2  [[[0, 0, 0], [0, 0, 0], [0, 0, 0], [0, 0, 0], ...      2   \n",
       "2          1  [[[0, 0, 0], [0, 0, 0], [0, 0, 0], [0, 0, 0], ...      1   \n",
       "3          0  [[[0, 0, 0], [0, 0, 0], [0, 0, 0], [0, 0, 0], ...      0   \n",
       "4          4  [[[0, 0, 0], [0, 0, 0], [0, 0, 0], [0, 0, 0], ...      4   \n",
       "...      ...                                                ...    ...   \n",
       "9995       2  [[[0, 0, 0], [0, 0, 0], [0, 0, 0], [0, 0, 0], ...      2   \n",
       "9996       3  [[[0, 0, 0], [0, 0, 0], [0, 0, 0], [0, 0, 0], ...      3   \n",
       "9997       4  [[[0, 0, 0], [0, 0, 0], [0, 0, 0], [0, 0, 0], ...      4   \n",
       "9998       5  [[[0, 0, 0], [0, 0, 0], [0, 0, 0], [0, 0, 0], ...      5   \n",
       "9999       6  [[[0, 0, 0], [0, 0, 0], [0, 0, 0], [0, 0, 0], ...      6   \n",
       "\n",
       "      label_prob  \n",
       "0       1.000000  \n",
       "1       1.000000  \n",
       "2       0.999992  \n",
       "3       1.000000  \n",
       "4       1.000000  \n",
       "...          ...  \n",
       "9995    1.000000  \n",
       "9996    1.000000  \n",
       "9997    1.000000  \n",
       "9998    1.000000  \n",
       "9999    1.000000  \n",
       "\n",
       "[10000 rows x 4 columns]"
      ]
     },
     "execution_count": 23,
     "metadata": {},
     "output_type": "execute_result"
    }
   ],
   "source": [
    "error_analysis_test_df = pd.DataFrame(y_test, columns = [\"target\"])\n",
    "error_analysis_test_df[\"images\"] = test_df[[\"images_rgb\"]]\n",
    "\n",
    "test_target_prob = model_v1.predict(test_input)\n",
    "error_analysis_test_df[\"label\"] = test_target_prob.argmax(axis=-1)\n",
    "error_analysis_test_df[\"label_prob\"] = test_target_prob.max(axis  =-1)\n",
    "error_analysis_test_df"
   ]
  },
  {
   "cell_type": "code",
   "execution_count": 24,
   "id": "b3877110",
   "metadata": {},
   "outputs": [
    {
     "data": {
      "text/plain": [
       "0.9906980013638431"
      ]
     },
     "execution_count": 24,
     "metadata": {},
     "output_type": "execute_result"
    }
   ],
   "source": [
    "sk.metrics.f1_score(error_analysis_test_df.target.values.reshape(-1,1), error_analysis_test_df.label.values.reshape(-1,1), average = \"weighted\")"
   ]
  },
  {
   "cell_type": "code",
   "execution_count": 25,
   "id": "b264e028",
   "metadata": {},
   "outputs": [
    {
     "data": {
      "text/plain": [
       "0.9907"
      ]
     },
     "execution_count": 25,
     "metadata": {},
     "output_type": "execute_result"
    }
   ],
   "source": [
    "sk.metrics.f1_score(error_analysis_test_df.target.values.reshape(-1,1), error_analysis_test_df.label.values.reshape(-1,1), average = \"micro\")"
   ]
  },
  {
   "cell_type": "code",
   "execution_count": 26,
   "id": "280b7b5f",
   "metadata": {},
   "outputs": [
    {
     "data": {
      "text/plain": [
       "array([[[9013,    7],\n",
       "        [   2,  978]],\n",
       "\n",
       "       [[8849,   16],\n",
       "        [   3, 1132]],\n",
       "\n",
       "       [[8962,    6],\n",
       "        [  17, 1015]],\n",
       "\n",
       "       [[8983,    7],\n",
       "        [   9, 1001]],\n",
       "\n",
       "       [[9007,   11],\n",
       "        [   7,  975]],\n",
       "\n",
       "       [[9091,   17],\n",
       "        [   6,  886]],\n",
       "\n",
       "       [[9038,    4],\n",
       "        [  14,  944]],\n",
       "\n",
       "       [[8962,   10],\n",
       "        [   8, 1020]],\n",
       "\n",
       "       [[9019,    7],\n",
       "        [  11,  963]],\n",
       "\n",
       "       [[8983,    8],\n",
       "        [  16,  993]]])"
      ]
     },
     "execution_count": 26,
     "metadata": {},
     "output_type": "execute_result"
    }
   ],
   "source": [
    "multilabel_confusion_matrix(error_analysis_test_df.target, error_analysis_test_df.label)"
   ]
  },
  {
   "cell_type": "code",
   "execution_count": 27,
   "id": "6b601966",
   "metadata": {},
   "outputs": [
    {
     "data": {
      "text/plain": [
       "2    17\n",
       "9    16\n",
       "6    14\n",
       "8    11\n",
       "3     9\n",
       "7     8\n",
       "4     7\n",
       "5     6\n",
       "1     3\n",
       "0     2\n",
       "Name: target, dtype: int64"
      ]
     },
     "execution_count": 27,
     "metadata": {},
     "output_type": "execute_result"
    }
   ],
   "source": [
    "error_analysis_test_df[\n",
    "    (error_analysis_test_df.target != error_analysis_test_df.label)\n",
    "    ].target.value_counts() "
   ]
  },
  {
   "cell_type": "markdown",
   "id": "35b81740",
   "metadata": {},
   "source": [
    "9,8, 7 are the worst. Let's check some samples"
   ]
  },
  {
   "cell_type": "code",
   "execution_count": 28,
   "id": "eaefd74c",
   "metadata": {},
   "outputs": [
    {
     "data": {
      "text/html": [
       "<div>\n",
       "<style scoped>\n",
       "    .dataframe tbody tr th:only-of-type {\n",
       "        vertical-align: middle;\n",
       "    }\n",
       "\n",
       "    .dataframe tbody tr th {\n",
       "        vertical-align: top;\n",
       "    }\n",
       "\n",
       "    .dataframe thead th {\n",
       "        text-align: right;\n",
       "    }\n",
       "</style>\n",
       "<table border=\"1\" class=\"dataframe\">\n",
       "  <thead>\n",
       "    <tr style=\"text-align: right;\">\n",
       "      <th></th>\n",
       "      <th>target</th>\n",
       "      <th>images</th>\n",
       "      <th>label</th>\n",
       "      <th>label_prob</th>\n",
       "    </tr>\n",
       "  </thead>\n",
       "  <tbody>\n",
       "    <tr>\n",
       "      <th>1039</th>\n",
       "      <td>7</td>\n",
       "      <td>[[[0, 0, 0], [0, 0, 0], [0, 0, 0], [0, 0, 0], ...</td>\n",
       "      <td>3</td>\n",
       "      <td>0.996091</td>\n",
       "    </tr>\n",
       "    <tr>\n",
       "      <th>5654</th>\n",
       "      <td>7</td>\n",
       "      <td>[[[0, 0, 0], [0, 0, 0], [0, 0, 0], [0, 0, 0], ...</td>\n",
       "      <td>2</td>\n",
       "      <td>0.775577</td>\n",
       "    </tr>\n",
       "    <tr>\n",
       "      <th>1260</th>\n",
       "      <td>7</td>\n",
       "      <td>[[[0, 0, 0], [0, 0, 0], [0, 0, 0], [0, 0, 0], ...</td>\n",
       "      <td>1</td>\n",
       "      <td>0.780138</td>\n",
       "    </tr>\n",
       "    <tr>\n",
       "      <th>4886</th>\n",
       "      <td>7</td>\n",
       "      <td>[[[0, 0, 0], [0, 0, 0], [0, 0, 0], [0, 0, 0], ...</td>\n",
       "      <td>1</td>\n",
       "      <td>0.772637</td>\n",
       "    </tr>\n",
       "    <tr>\n",
       "      <th>4297</th>\n",
       "      <td>7</td>\n",
       "      <td>[[[0, 0, 0], [0, 0, 0], [0, 0, 0], [0, 0, 0], ...</td>\n",
       "      <td>1</td>\n",
       "      <td>0.544976</td>\n",
       "    </tr>\n",
       "    <tr>\n",
       "      <th>3808</th>\n",
       "      <td>7</td>\n",
       "      <td>[[[0, 0, 0], [0, 0, 0], [0, 0, 0], [0, 0, 0], ...</td>\n",
       "      <td>8</td>\n",
       "      <td>0.992487</td>\n",
       "    </tr>\n",
       "    <tr>\n",
       "      <th>3225</th>\n",
       "      <td>7</td>\n",
       "      <td>[[[0, 0, 0], [0, 0, 0], [0, 0, 0], [0, 0, 0], ...</td>\n",
       "      <td>1</td>\n",
       "      <td>0.827423</td>\n",
       "    </tr>\n",
       "    <tr>\n",
       "      <th>2314</th>\n",
       "      <td>7</td>\n",
       "      <td>[[[0, 0, 0], [0, 0, 0], [0, 0, 0], [0, 0, 0], ...</td>\n",
       "      <td>4</td>\n",
       "      <td>0.673926</td>\n",
       "    </tr>\n",
       "    <tr>\n",
       "      <th>947</th>\n",
       "      <td>8</td>\n",
       "      <td>[[[0, 0, 0], [0, 0, 0], [0, 0, 0], [0, 0, 0], ...</td>\n",
       "      <td>9</td>\n",
       "      <td>0.966265</td>\n",
       "    </tr>\n",
       "    <tr>\n",
       "      <th>5749</th>\n",
       "      <td>8</td>\n",
       "      <td>[[[0, 0, 0], [0, 0, 0], [0, 0, 0], [0, 0, 0], ...</td>\n",
       "      <td>5</td>\n",
       "      <td>0.905900</td>\n",
       "    </tr>\n",
       "    <tr>\n",
       "      <th>4807</th>\n",
       "      <td>8</td>\n",
       "      <td>[[[0, 0, 0], [0, 0, 0], [0, 0, 0], [0, 0, 0], ...</td>\n",
       "      <td>0</td>\n",
       "      <td>0.998596</td>\n",
       "    </tr>\n",
       "    <tr>\n",
       "      <th>3727</th>\n",
       "      <td>8</td>\n",
       "      <td>[[[0, 0, 0], [0, 0, 0], [0, 0, 0], [0, 0, 0], ...</td>\n",
       "      <td>9</td>\n",
       "      <td>0.965955</td>\n",
       "    </tr>\n",
       "    <tr>\n",
       "      <th>2896</th>\n",
       "      <td>8</td>\n",
       "      <td>[[[0, 0, 0], [0, 0, 0], [0, 0, 0], [0, 0, 0], ...</td>\n",
       "      <td>0</td>\n",
       "      <td>0.999759</td>\n",
       "    </tr>\n",
       "    <tr>\n",
       "      <th>6625</th>\n",
       "      <td>8</td>\n",
       "      <td>[[[0, 0, 0], [0, 0, 0], [0, 0, 0], [0, 0, 0], ...</td>\n",
       "      <td>2</td>\n",
       "      <td>0.838312</td>\n",
       "    </tr>\n",
       "    <tr>\n",
       "      <th>8408</th>\n",
       "      <td>8</td>\n",
       "      <td>[[[0, 0, 0], [0, 0, 0], [0, 0, 0], [0, 0, 0], ...</td>\n",
       "      <td>5</td>\n",
       "      <td>0.786537</td>\n",
       "    </tr>\n",
       "    <tr>\n",
       "      <th>2107</th>\n",
       "      <td>8</td>\n",
       "      <td>[[[0, 0, 0], [0, 0, 0], [0, 0, 0], [0, 0, 0], ...</td>\n",
       "      <td>0</td>\n",
       "      <td>0.559886</td>\n",
       "    </tr>\n",
       "    <tr>\n",
       "      <th>1878</th>\n",
       "      <td>8</td>\n",
       "      <td>[[[0, 0, 0], [0, 0, 0], [0, 0, 0], [0, 0, 0], ...</td>\n",
       "      <td>3</td>\n",
       "      <td>0.557670</td>\n",
       "    </tr>\n",
       "    <tr>\n",
       "      <th>1319</th>\n",
       "      <td>8</td>\n",
       "      <td>[[[0, 0, 0], [0, 0, 0], [0, 0, 0], [0, 0, 0], ...</td>\n",
       "      <td>0</td>\n",
       "      <td>0.994805</td>\n",
       "    </tr>\n",
       "    <tr>\n",
       "      <th>2272</th>\n",
       "      <td>8</td>\n",
       "      <td>[[[0, 0, 0], [0, 0, 0], [0, 0, 0], [0, 0, 0], ...</td>\n",
       "      <td>5</td>\n",
       "      <td>0.654193</td>\n",
       "    </tr>\n",
       "    <tr>\n",
       "      <th>2293</th>\n",
       "      <td>9</td>\n",
       "      <td>[[[0, 0, 0], [0, 0, 0], [0, 0, 0], [0, 0, 0], ...</td>\n",
       "      <td>4</td>\n",
       "      <td>0.704284</td>\n",
       "    </tr>\n",
       "    <tr>\n",
       "      <th>6571</th>\n",
       "      <td>9</td>\n",
       "      <td>[[[0, 0, 0], [0, 0, 0], [0, 0, 0], [0, 0, 0], ...</td>\n",
       "      <td>7</td>\n",
       "      <td>0.916217</td>\n",
       "    </tr>\n",
       "    <tr>\n",
       "      <th>6560</th>\n",
       "      <td>9</td>\n",
       "      <td>[[[0, 0, 0], [0, 0, 0], [0, 0, 0], [0, 0, 0], ...</td>\n",
       "      <td>5</td>\n",
       "      <td>0.533357</td>\n",
       "    </tr>\n",
       "    <tr>\n",
       "      <th>1232</th>\n",
       "      <td>9</td>\n",
       "      <td>[[[0, 0, 0], [0, 0, 0], [0, 0, 0], [0, 0, 0], ...</td>\n",
       "      <td>4</td>\n",
       "      <td>0.999962</td>\n",
       "    </tr>\n",
       "    <tr>\n",
       "      <th>1247</th>\n",
       "      <td>9</td>\n",
       "      <td>[[[0, 0, 0], [0, 0, 0], [0, 0, 0], [0, 0, 0], ...</td>\n",
       "      <td>5</td>\n",
       "      <td>0.820112</td>\n",
       "    </tr>\n",
       "    <tr>\n",
       "      <th>4823</th>\n",
       "      <td>9</td>\n",
       "      <td>[[[0, 0, 0], [0, 0, 0], [0, 0, 0], [0, 0, 0], ...</td>\n",
       "      <td>4</td>\n",
       "      <td>0.556097</td>\n",
       "    </tr>\n",
       "    <tr>\n",
       "      <th>1414</th>\n",
       "      <td>9</td>\n",
       "      <td>[[[0, 0, 0], [0, 0, 0], [0, 0, 0], [0, 0, 0], ...</td>\n",
       "      <td>3</td>\n",
       "      <td>0.759984</td>\n",
       "    </tr>\n",
       "    <tr>\n",
       "      <th>4078</th>\n",
       "      <td>9</td>\n",
       "      <td>[[[0, 0, 0], [0, 0, 0], [0, 0, 0], [0, 0, 0], ...</td>\n",
       "      <td>8</td>\n",
       "      <td>0.504907</td>\n",
       "    </tr>\n",
       "    <tr>\n",
       "      <th>1554</th>\n",
       "      <td>9</td>\n",
       "      <td>[[[0, 0, 0], [0, 0, 0], [0, 0, 0], [0, 0, 0], ...</td>\n",
       "      <td>4</td>\n",
       "      <td>0.502592</td>\n",
       "    </tr>\n",
       "    <tr>\n",
       "      <th>1709</th>\n",
       "      <td>9</td>\n",
       "      <td>[[[0, 0, 0], [0, 0, 0], [0, 0, 0], [0, 0, 0], ...</td>\n",
       "      <td>5</td>\n",
       "      <td>0.715757</td>\n",
       "    </tr>\n",
       "    <tr>\n",
       "      <th>2939</th>\n",
       "      <td>9</td>\n",
       "      <td>[[[0, 0, 0], [0, 0, 0], [0, 0, 0], [0, 0, 0], ...</td>\n",
       "      <td>5</td>\n",
       "      <td>0.990045</td>\n",
       "    </tr>\n",
       "    <tr>\n",
       "      <th>1901</th>\n",
       "      <td>9</td>\n",
       "      <td>[[[0, 0, 0], [0, 0, 0], [0, 0, 0], [0, 0, 0], ...</td>\n",
       "      <td>4</td>\n",
       "      <td>0.822741</td>\n",
       "    </tr>\n",
       "    <tr>\n",
       "      <th>2720</th>\n",
       "      <td>9</td>\n",
       "      <td>[[[0, 0, 0], [0, 0, 0], [0, 0, 0], [0, 0, 0], ...</td>\n",
       "      <td>4</td>\n",
       "      <td>0.745340</td>\n",
       "    </tr>\n",
       "    <tr>\n",
       "      <th>2129</th>\n",
       "      <td>9</td>\n",
       "      <td>[[[0, 0, 0], [0, 0, 0], [0, 0, 0], [0, 0, 0], ...</td>\n",
       "      <td>8</td>\n",
       "      <td>0.942968</td>\n",
       "    </tr>\n",
       "    <tr>\n",
       "      <th>1553</th>\n",
       "      <td>9</td>\n",
       "      <td>[[[0, 0, 0], [0, 0, 0], [0, 0, 0], [0, 0, 0], ...</td>\n",
       "      <td>5</td>\n",
       "      <td>0.669121</td>\n",
       "    </tr>\n",
       "    <tr>\n",
       "      <th>2414</th>\n",
       "      <td>9</td>\n",
       "      <td>[[[0, 0, 0], [0, 0, 0], [0, 0, 0], [0, 0, 0], ...</td>\n",
       "      <td>4</td>\n",
       "      <td>0.807245</td>\n",
       "    </tr>\n",
       "  </tbody>\n",
       "</table>\n",
       "</div>"
      ],
      "text/plain": [
       "      target                                             images  label  \\\n",
       "1039       7  [[[0, 0, 0], [0, 0, 0], [0, 0, 0], [0, 0, 0], ...      3   \n",
       "5654       7  [[[0, 0, 0], [0, 0, 0], [0, 0, 0], [0, 0, 0], ...      2   \n",
       "1260       7  [[[0, 0, 0], [0, 0, 0], [0, 0, 0], [0, 0, 0], ...      1   \n",
       "4886       7  [[[0, 0, 0], [0, 0, 0], [0, 0, 0], [0, 0, 0], ...      1   \n",
       "4297       7  [[[0, 0, 0], [0, 0, 0], [0, 0, 0], [0, 0, 0], ...      1   \n",
       "3808       7  [[[0, 0, 0], [0, 0, 0], [0, 0, 0], [0, 0, 0], ...      8   \n",
       "3225       7  [[[0, 0, 0], [0, 0, 0], [0, 0, 0], [0, 0, 0], ...      1   \n",
       "2314       7  [[[0, 0, 0], [0, 0, 0], [0, 0, 0], [0, 0, 0], ...      4   \n",
       "947        8  [[[0, 0, 0], [0, 0, 0], [0, 0, 0], [0, 0, 0], ...      9   \n",
       "5749       8  [[[0, 0, 0], [0, 0, 0], [0, 0, 0], [0, 0, 0], ...      5   \n",
       "4807       8  [[[0, 0, 0], [0, 0, 0], [0, 0, 0], [0, 0, 0], ...      0   \n",
       "3727       8  [[[0, 0, 0], [0, 0, 0], [0, 0, 0], [0, 0, 0], ...      9   \n",
       "2896       8  [[[0, 0, 0], [0, 0, 0], [0, 0, 0], [0, 0, 0], ...      0   \n",
       "6625       8  [[[0, 0, 0], [0, 0, 0], [0, 0, 0], [0, 0, 0], ...      2   \n",
       "8408       8  [[[0, 0, 0], [0, 0, 0], [0, 0, 0], [0, 0, 0], ...      5   \n",
       "2107       8  [[[0, 0, 0], [0, 0, 0], [0, 0, 0], [0, 0, 0], ...      0   \n",
       "1878       8  [[[0, 0, 0], [0, 0, 0], [0, 0, 0], [0, 0, 0], ...      3   \n",
       "1319       8  [[[0, 0, 0], [0, 0, 0], [0, 0, 0], [0, 0, 0], ...      0   \n",
       "2272       8  [[[0, 0, 0], [0, 0, 0], [0, 0, 0], [0, 0, 0], ...      5   \n",
       "2293       9  [[[0, 0, 0], [0, 0, 0], [0, 0, 0], [0, 0, 0], ...      4   \n",
       "6571       9  [[[0, 0, 0], [0, 0, 0], [0, 0, 0], [0, 0, 0], ...      7   \n",
       "6560       9  [[[0, 0, 0], [0, 0, 0], [0, 0, 0], [0, 0, 0], ...      5   \n",
       "1232       9  [[[0, 0, 0], [0, 0, 0], [0, 0, 0], [0, 0, 0], ...      4   \n",
       "1247       9  [[[0, 0, 0], [0, 0, 0], [0, 0, 0], [0, 0, 0], ...      5   \n",
       "4823       9  [[[0, 0, 0], [0, 0, 0], [0, 0, 0], [0, 0, 0], ...      4   \n",
       "1414       9  [[[0, 0, 0], [0, 0, 0], [0, 0, 0], [0, 0, 0], ...      3   \n",
       "4078       9  [[[0, 0, 0], [0, 0, 0], [0, 0, 0], [0, 0, 0], ...      8   \n",
       "1554       9  [[[0, 0, 0], [0, 0, 0], [0, 0, 0], [0, 0, 0], ...      4   \n",
       "1709       9  [[[0, 0, 0], [0, 0, 0], [0, 0, 0], [0, 0, 0], ...      5   \n",
       "2939       9  [[[0, 0, 0], [0, 0, 0], [0, 0, 0], [0, 0, 0], ...      5   \n",
       "1901       9  [[[0, 0, 0], [0, 0, 0], [0, 0, 0], [0, 0, 0], ...      4   \n",
       "2720       9  [[[0, 0, 0], [0, 0, 0], [0, 0, 0], [0, 0, 0], ...      4   \n",
       "2129       9  [[[0, 0, 0], [0, 0, 0], [0, 0, 0], [0, 0, 0], ...      8   \n",
       "1553       9  [[[0, 0, 0], [0, 0, 0], [0, 0, 0], [0, 0, 0], ...      5   \n",
       "2414       9  [[[0, 0, 0], [0, 0, 0], [0, 0, 0], [0, 0, 0], ...      4   \n",
       "\n",
       "      label_prob  \n",
       "1039    0.996091  \n",
       "5654    0.775577  \n",
       "1260    0.780138  \n",
       "4886    0.772637  \n",
       "4297    0.544976  \n",
       "3808    0.992487  \n",
       "3225    0.827423  \n",
       "2314    0.673926  \n",
       "947     0.966265  \n",
       "5749    0.905900  \n",
       "4807    0.998596  \n",
       "3727    0.965955  \n",
       "2896    0.999759  \n",
       "6625    0.838312  \n",
       "8408    0.786537  \n",
       "2107    0.559886  \n",
       "1878    0.557670  \n",
       "1319    0.994805  \n",
       "2272    0.654193  \n",
       "2293    0.704284  \n",
       "6571    0.916217  \n",
       "6560    0.533357  \n",
       "1232    0.999962  \n",
       "1247    0.820112  \n",
       "4823    0.556097  \n",
       "1414    0.759984  \n",
       "4078    0.504907  \n",
       "1554    0.502592  \n",
       "1709    0.715757  \n",
       "2939    0.990045  \n",
       "1901    0.822741  \n",
       "2720    0.745340  \n",
       "2129    0.942968  \n",
       "1553    0.669121  \n",
       "2414    0.807245  "
      ]
     },
     "execution_count": 28,
     "metadata": {},
     "output_type": "execute_result"
    }
   ],
   "source": [
    "error_analysis_test_df[\n",
    "    (error_analysis_test_df.target != error_analysis_test_df.label) &\n",
    "    (error_analysis_test_df.target.isin([9,8,7]))\n",
    "    ].sort_values(\"target\", ascending = True)"
   ]
  },
  {
   "cell_type": "code",
   "execution_count": 29,
   "id": "7909bf66",
   "metadata": {},
   "outputs": [
    {
     "data": {
      "text/html": [
       "<div>\n",
       "<style scoped>\n",
       "    .dataframe tbody tr th:only-of-type {\n",
       "        vertical-align: middle;\n",
       "    }\n",
       "\n",
       "    .dataframe tbody tr th {\n",
       "        vertical-align: top;\n",
       "    }\n",
       "\n",
       "    .dataframe thead th {\n",
       "        text-align: right;\n",
       "    }\n",
       "</style>\n",
       "<table border=\"1\" class=\"dataframe\">\n",
       "  <thead>\n",
       "    <tr style=\"text-align: right;\">\n",
       "      <th></th>\n",
       "      <th>target</th>\n",
       "      <th>images</th>\n",
       "      <th>label</th>\n",
       "      <th>label_prob</th>\n",
       "    </tr>\n",
       "  </thead>\n",
       "  <tbody>\n",
       "    <tr>\n",
       "      <th>1554</th>\n",
       "      <td>9</td>\n",
       "      <td>[[[0, 0, 0], [0, 0, 0], [0, 0, 0], [0, 0, 0], ...</td>\n",
       "      <td>4</td>\n",
       "      <td>0.502592</td>\n",
       "    </tr>\n",
       "    <tr>\n",
       "      <th>4078</th>\n",
       "      <td>9</td>\n",
       "      <td>[[[0, 0, 0], [0, 0, 0], [0, 0, 0], [0, 0, 0], ...</td>\n",
       "      <td>8</td>\n",
       "      <td>0.504907</td>\n",
       "    </tr>\n",
       "    <tr>\n",
       "      <th>6560</th>\n",
       "      <td>9</td>\n",
       "      <td>[[[0, 0, 0], [0, 0, 0], [0, 0, 0], [0, 0, 0], ...</td>\n",
       "      <td>5</td>\n",
       "      <td>0.533357</td>\n",
       "    </tr>\n",
       "    <tr>\n",
       "      <th>8079</th>\n",
       "      <td>2</td>\n",
       "      <td>[[[0, 0, 0], [0, 0, 0], [0, 0, 0], [0, 0, 0], ...</td>\n",
       "      <td>1</td>\n",
       "      <td>0.542099</td>\n",
       "    </tr>\n",
       "    <tr>\n",
       "      <th>4297</th>\n",
       "      <td>7</td>\n",
       "      <td>[[[0, 0, 0], [0, 0, 0], [0, 0, 0], [0, 0, 0], ...</td>\n",
       "      <td>1</td>\n",
       "      <td>0.544976</td>\n",
       "    </tr>\n",
       "    <tr>\n",
       "      <th>4027</th>\n",
       "      <td>7</td>\n",
       "      <td>[[[0, 0, 0], [0, 0, 0], [0, 0, 0], [0, 0, 0], ...</td>\n",
       "      <td>7</td>\n",
       "      <td>0.547856</td>\n",
       "    </tr>\n",
       "    <tr>\n",
       "      <th>9679</th>\n",
       "      <td>6</td>\n",
       "      <td>[[[0, 0, 0], [0, 0, 0], [0, 0, 0], [0, 0, 0], ...</td>\n",
       "      <td>1</td>\n",
       "      <td>0.554380</td>\n",
       "    </tr>\n",
       "    <tr>\n",
       "      <th>4823</th>\n",
       "      <td>9</td>\n",
       "      <td>[[[0, 0, 0], [0, 0, 0], [0, 0, 0], [0, 0, 0], ...</td>\n",
       "      <td>4</td>\n",
       "      <td>0.556097</td>\n",
       "    </tr>\n",
       "    <tr>\n",
       "      <th>1878</th>\n",
       "      <td>8</td>\n",
       "      <td>[[[0, 0, 0], [0, 0, 0], [0, 0, 0], [0, 0, 0], ...</td>\n",
       "      <td>3</td>\n",
       "      <td>0.557670</td>\n",
       "    </tr>\n",
       "    <tr>\n",
       "      <th>2107</th>\n",
       "      <td>8</td>\n",
       "      <td>[[[0, 0, 0], [0, 0, 0], [0, 0, 0], [0, 0, 0], ...</td>\n",
       "      <td>0</td>\n",
       "      <td>0.559886</td>\n",
       "    </tr>\n",
       "    <tr>\n",
       "      <th>8069</th>\n",
       "      <td>2</td>\n",
       "      <td>[[[0, 0, 0], [0, 0, 0], [0, 0, 0], [0, 0, 0], ...</td>\n",
       "      <td>1</td>\n",
       "      <td>0.564130</td>\n",
       "    </tr>\n",
       "    <tr>\n",
       "      <th>2742</th>\n",
       "      <td>9</td>\n",
       "      <td>[[[0, 0, 0], [0, 0, 0], [0, 0, 0], [0, 0, 0], ...</td>\n",
       "      <td>9</td>\n",
       "      <td>0.568595</td>\n",
       "    </tr>\n",
       "    <tr>\n",
       "      <th>9634</th>\n",
       "      <td>0</td>\n",
       "      <td>[[[0, 0, 0], [0, 0, 0], [0, 0, 0], [0, 0, 0], ...</td>\n",
       "      <td>0</td>\n",
       "      <td>0.575560</td>\n",
       "    </tr>\n",
       "    <tr>\n",
       "      <th>1014</th>\n",
       "      <td>6</td>\n",
       "      <td>[[[0, 0, 0], [0, 0, 0], [0, 0, 0], [0, 0, 0], ...</td>\n",
       "      <td>5</td>\n",
       "      <td>0.578530</td>\n",
       "    </tr>\n",
       "    <tr>\n",
       "      <th>445</th>\n",
       "      <td>6</td>\n",
       "      <td>[[[0, 0, 0], [0, 0, 0], [0, 0, 0], [0, 0, 0], ...</td>\n",
       "      <td>0</td>\n",
       "      <td>0.582880</td>\n",
       "    </tr>\n",
       "    <tr>\n",
       "      <th>1337</th>\n",
       "      <td>2</td>\n",
       "      <td>[[[0, 0, 0], [0, 0, 0], [0, 0, 0], [0, 0, 0], ...</td>\n",
       "      <td>2</td>\n",
       "      <td>0.593398</td>\n",
       "    </tr>\n",
       "    <tr>\n",
       "      <th>726</th>\n",
       "      <td>7</td>\n",
       "      <td>[[[0, 0, 0], [0, 0, 0], [0, 0, 0], [0, 0, 0], ...</td>\n",
       "      <td>7</td>\n",
       "      <td>0.603846</td>\n",
       "    </tr>\n",
       "    <tr>\n",
       "      <th>9015</th>\n",
       "      <td>7</td>\n",
       "      <td>[[[0, 0, 0], [0, 0, 0], [0, 0, 0], [0, 0, 0], ...</td>\n",
       "      <td>7</td>\n",
       "      <td>0.608028</td>\n",
       "    </tr>\n",
       "    <tr>\n",
       "      <th>4837</th>\n",
       "      <td>7</td>\n",
       "      <td>[[[0, 0, 0], [0, 0, 0], [0, 0, 0], [0, 0, 0], ...</td>\n",
       "      <td>7</td>\n",
       "      <td>0.625405</td>\n",
       "    </tr>\n",
       "    <tr>\n",
       "      <th>583</th>\n",
       "      <td>2</td>\n",
       "      <td>[[[0, 0, 0], [0, 0, 0], [0, 0, 0], [0, 0, 0], ...</td>\n",
       "      <td>7</td>\n",
       "      <td>0.649219</td>\n",
       "    </tr>\n",
       "    <tr>\n",
       "      <th>2272</th>\n",
       "      <td>8</td>\n",
       "      <td>[[[0, 0, 0], [0, 0, 0], [0, 0, 0], [0, 0, 0], ...</td>\n",
       "      <td>5</td>\n",
       "      <td>0.654193</td>\n",
       "    </tr>\n",
       "    <tr>\n",
       "      <th>1393</th>\n",
       "      <td>5</td>\n",
       "      <td>[[[0, 0, 0], [0, 0, 0], [0, 0, 0], [0, 0, 0], ...</td>\n",
       "      <td>5</td>\n",
       "      <td>0.656248</td>\n",
       "    </tr>\n",
       "    <tr>\n",
       "      <th>8059</th>\n",
       "      <td>2</td>\n",
       "      <td>[[[0, 0, 0], [0, 0, 0], [0, 0, 0], [0, 0, 0], ...</td>\n",
       "      <td>1</td>\n",
       "      <td>0.656648</td>\n",
       "    </tr>\n",
       "    <tr>\n",
       "      <th>1553</th>\n",
       "      <td>9</td>\n",
       "      <td>[[[0, 0, 0], [0, 0, 0], [0, 0, 0], [0, 0, 0], ...</td>\n",
       "      <td>5</td>\n",
       "      <td>0.669121</td>\n",
       "    </tr>\n",
       "    <tr>\n",
       "      <th>2447</th>\n",
       "      <td>4</td>\n",
       "      <td>[[[0, 0, 0], [0, 0, 0], [0, 0, 0], [0, 0, 0], ...</td>\n",
       "      <td>4</td>\n",
       "      <td>0.671395</td>\n",
       "    </tr>\n",
       "    <tr>\n",
       "      <th>2314</th>\n",
       "      <td>7</td>\n",
       "      <td>[[[0, 0, 0], [0, 0, 0], [0, 0, 0], [0, 0, 0], ...</td>\n",
       "      <td>4</td>\n",
       "      <td>0.673926</td>\n",
       "    </tr>\n",
       "    <tr>\n",
       "      <th>9009</th>\n",
       "      <td>7</td>\n",
       "      <td>[[[0, 0, 0], [0, 0, 0], [0, 0, 0], [0, 0, 0], ...</td>\n",
       "      <td>7</td>\n",
       "      <td>0.675301</td>\n",
       "    </tr>\n",
       "    <tr>\n",
       "      <th>6011</th>\n",
       "      <td>3</td>\n",
       "      <td>[[[0, 0, 0], [0, 0, 0], [0, 0, 0], [0, 0, 0], ...</td>\n",
       "      <td>5</td>\n",
       "      <td>0.677908</td>\n",
       "    </tr>\n",
       "    <tr>\n",
       "      <th>6558</th>\n",
       "      <td>6</td>\n",
       "      <td>[[[0, 0, 0], [0, 0, 0], [0, 0, 0], [0, 0, 0], ...</td>\n",
       "      <td>6</td>\n",
       "      <td>0.692264</td>\n",
       "    </tr>\n",
       "    <tr>\n",
       "      <th>4783</th>\n",
       "      <td>4</td>\n",
       "      <td>[[[0, 0, 0], [0, 0, 0], [0, 0, 0], [0, 0, 0], ...</td>\n",
       "      <td>9</td>\n",
       "      <td>0.697365</td>\n",
       "    </tr>\n",
       "    <tr>\n",
       "      <th>2293</th>\n",
       "      <td>9</td>\n",
       "      <td>[[[0, 0, 0], [0, 0, 0], [0, 0, 0], [0, 0, 0], ...</td>\n",
       "      <td>4</td>\n",
       "      <td>0.704284</td>\n",
       "    </tr>\n",
       "    <tr>\n",
       "      <th>1226</th>\n",
       "      <td>7</td>\n",
       "      <td>[[[0, 0, 0], [0, 0, 0], [0, 0, 0], [0, 0, 0], ...</td>\n",
       "      <td>7</td>\n",
       "      <td>0.709249</td>\n",
       "    </tr>\n",
       "    <tr>\n",
       "      <th>1709</th>\n",
       "      <td>9</td>\n",
       "      <td>[[[0, 0, 0], [0, 0, 0], [0, 0, 0], [0, 0, 0], ...</td>\n",
       "      <td>5</td>\n",
       "      <td>0.715757</td>\n",
       "    </tr>\n",
       "    <tr>\n",
       "      <th>6597</th>\n",
       "      <td>0</td>\n",
       "      <td>[[[0, 0, 0], [0, 0, 0], [0, 0, 0], [0, 0, 0], ...</td>\n",
       "      <td>9</td>\n",
       "      <td>0.717263</td>\n",
       "    </tr>\n",
       "    <tr>\n",
       "      <th>3062</th>\n",
       "      <td>8</td>\n",
       "      <td>[[[0, 0, 0], [0, 0, 0], [0, 0, 0], [0, 0, 0], ...</td>\n",
       "      <td>8</td>\n",
       "      <td>0.723232</td>\n",
       "    </tr>\n",
       "    <tr>\n",
       "      <th>924</th>\n",
       "      <td>2</td>\n",
       "      <td>[[[0, 0, 0], [0, 0, 0], [0, 0, 0], [0, 0, 0], ...</td>\n",
       "      <td>2</td>\n",
       "      <td>0.729000</td>\n",
       "    </tr>\n",
       "    <tr>\n",
       "      <th>6740</th>\n",
       "      <td>9</td>\n",
       "      <td>[[[0, 0, 0], [0, 0, 0], [0, 0, 0], [0, 0, 0], ...</td>\n",
       "      <td>9</td>\n",
       "      <td>0.732040</td>\n",
       "    </tr>\n",
       "    <tr>\n",
       "      <th>1621</th>\n",
       "      <td>0</td>\n",
       "      <td>[[[0, 0, 0], [0, 0, 0], [0, 0, 0], [0, 0, 0], ...</td>\n",
       "      <td>0</td>\n",
       "      <td>0.741248</td>\n",
       "    </tr>\n",
       "    <tr>\n",
       "      <th>2720</th>\n",
       "      <td>9</td>\n",
       "      <td>[[[0, 0, 0], [0, 0, 0], [0, 0, 0], [0, 0, 0], ...</td>\n",
       "      <td>4</td>\n",
       "      <td>0.745340</td>\n",
       "    </tr>\n",
       "    <tr>\n",
       "      <th>6572</th>\n",
       "      <td>1</td>\n",
       "      <td>[[[0, 0, 0], [0, 0, 0], [0, 0, 0], [0, 0, 0], ...</td>\n",
       "      <td>1</td>\n",
       "      <td>0.745348</td>\n",
       "    </tr>\n",
       "    <tr>\n",
       "      <th>1242</th>\n",
       "      <td>4</td>\n",
       "      <td>[[[0, 0, 0], [0, 0, 0], [0, 0, 0], [0, 0, 0], ...</td>\n",
       "      <td>9</td>\n",
       "      <td>0.749981</td>\n",
       "    </tr>\n",
       "    <tr>\n",
       "      <th>3599</th>\n",
       "      <td>2</td>\n",
       "      <td>[[[0, 0, 0], [0, 0, 0], [0, 0, 0], [0, 0, 0], ...</td>\n",
       "      <td>2</td>\n",
       "      <td>0.750805</td>\n",
       "    </tr>\n",
       "    <tr>\n",
       "      <th>740</th>\n",
       "      <td>4</td>\n",
       "      <td>[[[0, 0, 0], [0, 0, 0], [0, 0, 0], [0, 0, 0], ...</td>\n",
       "      <td>4</td>\n",
       "      <td>0.752970</td>\n",
       "    </tr>\n",
       "    <tr>\n",
       "      <th>2406</th>\n",
       "      <td>9</td>\n",
       "      <td>[[[0, 0, 0], [0, 0, 0], [0, 0, 0], [0, 0, 0], ...</td>\n",
       "      <td>9</td>\n",
       "      <td>0.756215</td>\n",
       "    </tr>\n",
       "    <tr>\n",
       "      <th>1414</th>\n",
       "      <td>9</td>\n",
       "      <td>[[[0, 0, 0], [0, 0, 0], [0, 0, 0], [0, 0, 0], ...</td>\n",
       "      <td>3</td>\n",
       "      <td>0.759984</td>\n",
       "    </tr>\n",
       "    <tr>\n",
       "      <th>723</th>\n",
       "      <td>0</td>\n",
       "      <td>[[[0, 0, 0], [0, 0, 0], [0, 0, 0], [0, 0, 0], ...</td>\n",
       "      <td>0</td>\n",
       "      <td>0.771954</td>\n",
       "    </tr>\n",
       "    <tr>\n",
       "      <th>4886</th>\n",
       "      <td>7</td>\n",
       "      <td>[[[0, 0, 0], [0, 0, 0], [0, 0, 0], [0, 0, 0], ...</td>\n",
       "      <td>1</td>\n",
       "      <td>0.772637</td>\n",
       "    </tr>\n",
       "    <tr>\n",
       "      <th>5937</th>\n",
       "      <td>5</td>\n",
       "      <td>[[[0, 0, 0], [0, 0, 0], [0, 0, 0], [0, 0, 0], ...</td>\n",
       "      <td>5</td>\n",
       "      <td>0.773240</td>\n",
       "    </tr>\n",
       "    <tr>\n",
       "      <th>5654</th>\n",
       "      <td>7</td>\n",
       "      <td>[[[0, 0, 0], [0, 0, 0], [0, 0, 0], [0, 0, 0], ...</td>\n",
       "      <td>2</td>\n",
       "      <td>0.775577</td>\n",
       "    </tr>\n",
       "    <tr>\n",
       "      <th>1717</th>\n",
       "      <td>8</td>\n",
       "      <td>[[[0, 0, 0], [0, 0, 0], [0, 0, 0], [0, 0, 0], ...</td>\n",
       "      <td>8</td>\n",
       "      <td>0.776230</td>\n",
       "    </tr>\n",
       "  </tbody>\n",
       "</table>\n",
       "</div>"
      ],
      "text/plain": [
       "      target                                             images  label  \\\n",
       "1554       9  [[[0, 0, 0], [0, 0, 0], [0, 0, 0], [0, 0, 0], ...      4   \n",
       "4078       9  [[[0, 0, 0], [0, 0, 0], [0, 0, 0], [0, 0, 0], ...      8   \n",
       "6560       9  [[[0, 0, 0], [0, 0, 0], [0, 0, 0], [0, 0, 0], ...      5   \n",
       "8079       2  [[[0, 0, 0], [0, 0, 0], [0, 0, 0], [0, 0, 0], ...      1   \n",
       "4297       7  [[[0, 0, 0], [0, 0, 0], [0, 0, 0], [0, 0, 0], ...      1   \n",
       "4027       7  [[[0, 0, 0], [0, 0, 0], [0, 0, 0], [0, 0, 0], ...      7   \n",
       "9679       6  [[[0, 0, 0], [0, 0, 0], [0, 0, 0], [0, 0, 0], ...      1   \n",
       "4823       9  [[[0, 0, 0], [0, 0, 0], [0, 0, 0], [0, 0, 0], ...      4   \n",
       "1878       8  [[[0, 0, 0], [0, 0, 0], [0, 0, 0], [0, 0, 0], ...      3   \n",
       "2107       8  [[[0, 0, 0], [0, 0, 0], [0, 0, 0], [0, 0, 0], ...      0   \n",
       "8069       2  [[[0, 0, 0], [0, 0, 0], [0, 0, 0], [0, 0, 0], ...      1   \n",
       "2742       9  [[[0, 0, 0], [0, 0, 0], [0, 0, 0], [0, 0, 0], ...      9   \n",
       "9634       0  [[[0, 0, 0], [0, 0, 0], [0, 0, 0], [0, 0, 0], ...      0   \n",
       "1014       6  [[[0, 0, 0], [0, 0, 0], [0, 0, 0], [0, 0, 0], ...      5   \n",
       "445        6  [[[0, 0, 0], [0, 0, 0], [0, 0, 0], [0, 0, 0], ...      0   \n",
       "1337       2  [[[0, 0, 0], [0, 0, 0], [0, 0, 0], [0, 0, 0], ...      2   \n",
       "726        7  [[[0, 0, 0], [0, 0, 0], [0, 0, 0], [0, 0, 0], ...      7   \n",
       "9015       7  [[[0, 0, 0], [0, 0, 0], [0, 0, 0], [0, 0, 0], ...      7   \n",
       "4837       7  [[[0, 0, 0], [0, 0, 0], [0, 0, 0], [0, 0, 0], ...      7   \n",
       "583        2  [[[0, 0, 0], [0, 0, 0], [0, 0, 0], [0, 0, 0], ...      7   \n",
       "2272       8  [[[0, 0, 0], [0, 0, 0], [0, 0, 0], [0, 0, 0], ...      5   \n",
       "1393       5  [[[0, 0, 0], [0, 0, 0], [0, 0, 0], [0, 0, 0], ...      5   \n",
       "8059       2  [[[0, 0, 0], [0, 0, 0], [0, 0, 0], [0, 0, 0], ...      1   \n",
       "1553       9  [[[0, 0, 0], [0, 0, 0], [0, 0, 0], [0, 0, 0], ...      5   \n",
       "2447       4  [[[0, 0, 0], [0, 0, 0], [0, 0, 0], [0, 0, 0], ...      4   \n",
       "2314       7  [[[0, 0, 0], [0, 0, 0], [0, 0, 0], [0, 0, 0], ...      4   \n",
       "9009       7  [[[0, 0, 0], [0, 0, 0], [0, 0, 0], [0, 0, 0], ...      7   \n",
       "6011       3  [[[0, 0, 0], [0, 0, 0], [0, 0, 0], [0, 0, 0], ...      5   \n",
       "6558       6  [[[0, 0, 0], [0, 0, 0], [0, 0, 0], [0, 0, 0], ...      6   \n",
       "4783       4  [[[0, 0, 0], [0, 0, 0], [0, 0, 0], [0, 0, 0], ...      9   \n",
       "2293       9  [[[0, 0, 0], [0, 0, 0], [0, 0, 0], [0, 0, 0], ...      4   \n",
       "1226       7  [[[0, 0, 0], [0, 0, 0], [0, 0, 0], [0, 0, 0], ...      7   \n",
       "1709       9  [[[0, 0, 0], [0, 0, 0], [0, 0, 0], [0, 0, 0], ...      5   \n",
       "6597       0  [[[0, 0, 0], [0, 0, 0], [0, 0, 0], [0, 0, 0], ...      9   \n",
       "3062       8  [[[0, 0, 0], [0, 0, 0], [0, 0, 0], [0, 0, 0], ...      8   \n",
       "924        2  [[[0, 0, 0], [0, 0, 0], [0, 0, 0], [0, 0, 0], ...      2   \n",
       "6740       9  [[[0, 0, 0], [0, 0, 0], [0, 0, 0], [0, 0, 0], ...      9   \n",
       "1621       0  [[[0, 0, 0], [0, 0, 0], [0, 0, 0], [0, 0, 0], ...      0   \n",
       "2720       9  [[[0, 0, 0], [0, 0, 0], [0, 0, 0], [0, 0, 0], ...      4   \n",
       "6572       1  [[[0, 0, 0], [0, 0, 0], [0, 0, 0], [0, 0, 0], ...      1   \n",
       "1242       4  [[[0, 0, 0], [0, 0, 0], [0, 0, 0], [0, 0, 0], ...      9   \n",
       "3599       2  [[[0, 0, 0], [0, 0, 0], [0, 0, 0], [0, 0, 0], ...      2   \n",
       "740        4  [[[0, 0, 0], [0, 0, 0], [0, 0, 0], [0, 0, 0], ...      4   \n",
       "2406       9  [[[0, 0, 0], [0, 0, 0], [0, 0, 0], [0, 0, 0], ...      9   \n",
       "1414       9  [[[0, 0, 0], [0, 0, 0], [0, 0, 0], [0, 0, 0], ...      3   \n",
       "723        0  [[[0, 0, 0], [0, 0, 0], [0, 0, 0], [0, 0, 0], ...      0   \n",
       "4886       7  [[[0, 0, 0], [0, 0, 0], [0, 0, 0], [0, 0, 0], ...      1   \n",
       "5937       5  [[[0, 0, 0], [0, 0, 0], [0, 0, 0], [0, 0, 0], ...      5   \n",
       "5654       7  [[[0, 0, 0], [0, 0, 0], [0, 0, 0], [0, 0, 0], ...      2   \n",
       "1717       8  [[[0, 0, 0], [0, 0, 0], [0, 0, 0], [0, 0, 0], ...      8   \n",
       "\n",
       "      label_prob  \n",
       "1554    0.502592  \n",
       "4078    0.504907  \n",
       "6560    0.533357  \n",
       "8079    0.542099  \n",
       "4297    0.544976  \n",
       "4027    0.547856  \n",
       "9679    0.554380  \n",
       "4823    0.556097  \n",
       "1878    0.557670  \n",
       "2107    0.559886  \n",
       "8069    0.564130  \n",
       "2742    0.568595  \n",
       "9634    0.575560  \n",
       "1014    0.578530  \n",
       "445     0.582880  \n",
       "1337    0.593398  \n",
       "726     0.603846  \n",
       "9015    0.608028  \n",
       "4837    0.625405  \n",
       "583     0.649219  \n",
       "2272    0.654193  \n",
       "1393    0.656248  \n",
       "8059    0.656648  \n",
       "1553    0.669121  \n",
       "2447    0.671395  \n",
       "2314    0.673926  \n",
       "9009    0.675301  \n",
       "6011    0.677908  \n",
       "6558    0.692264  \n",
       "4783    0.697365  \n",
       "2293    0.704284  \n",
       "1226    0.709249  \n",
       "1709    0.715757  \n",
       "6597    0.717263  \n",
       "3062    0.723232  \n",
       "924     0.729000  \n",
       "6740    0.732040  \n",
       "1621    0.741248  \n",
       "2720    0.745340  \n",
       "6572    0.745348  \n",
       "1242    0.749981  \n",
       "3599    0.750805  \n",
       "740     0.752970  \n",
       "2406    0.756215  \n",
       "1414    0.759984  \n",
       "723     0.771954  \n",
       "4886    0.772637  \n",
       "5937    0.773240  \n",
       "5654    0.775577  \n",
       "1717    0.776230  "
      ]
     },
     "execution_count": 29,
     "metadata": {},
     "output_type": "execute_result"
    }
   ],
   "source": [
    "error_analysis_test_df.sort_values(\"label_prob\",ascending = True).head(50)"
   ]
  },
  {
   "cell_type": "markdown",
   "id": "e37a648d",
   "metadata": {},
   "source": [
    "Same for training"
   ]
  },
  {
   "cell_type": "code",
   "execution_count": 30,
   "id": "9a0d909d",
   "metadata": {},
   "outputs": [
    {
     "name": "stdout",
     "output_type": "stream",
     "text": [
      "\u001b[1m1875/1875\u001b[0m \u001b[32m━━━━━━━━━━━━━━━━━━━━\u001b[0m\u001b[37m\u001b[0m \u001b[1m2s\u001b[0m 913us/step\n"
     ]
    },
    {
     "data": {
      "text/html": [
       "<div>\n",
       "<style scoped>\n",
       "    .dataframe tbody tr th:only-of-type {\n",
       "        vertical-align: middle;\n",
       "    }\n",
       "\n",
       "    .dataframe tbody tr th {\n",
       "        vertical-align: top;\n",
       "    }\n",
       "\n",
       "    .dataframe thead th {\n",
       "        text-align: right;\n",
       "    }\n",
       "</style>\n",
       "<table border=\"1\" class=\"dataframe\">\n",
       "  <thead>\n",
       "    <tr style=\"text-align: right;\">\n",
       "      <th></th>\n",
       "      <th>target</th>\n",
       "      <th>images</th>\n",
       "      <th>label</th>\n",
       "      <th>target_prob</th>\n",
       "    </tr>\n",
       "  </thead>\n",
       "  <tbody>\n",
       "    <tr>\n",
       "      <th>0</th>\n",
       "      <td>5</td>\n",
       "      <td>[[[0, 0, 0], [0, 0, 0], [0, 0, 0], [0, 0, 0], ...</td>\n",
       "      <td>5</td>\n",
       "      <td>1.000000</td>\n",
       "    </tr>\n",
       "    <tr>\n",
       "      <th>1</th>\n",
       "      <td>0</td>\n",
       "      <td>[[[0, 0, 0], [0, 0, 0], [0, 0, 0], [0, 0, 0], ...</td>\n",
       "      <td>0</td>\n",
       "      <td>1.000000</td>\n",
       "    </tr>\n",
       "    <tr>\n",
       "      <th>2</th>\n",
       "      <td>4</td>\n",
       "      <td>[[[0, 0, 0], [0, 0, 0], [0, 0, 0], [0, 0, 0], ...</td>\n",
       "      <td>4</td>\n",
       "      <td>1.000000</td>\n",
       "    </tr>\n",
       "    <tr>\n",
       "      <th>3</th>\n",
       "      <td>1</td>\n",
       "      <td>[[[0, 0, 0], [0, 0, 0], [0, 0, 0], [0, 0, 0], ...</td>\n",
       "      <td>1</td>\n",
       "      <td>1.000000</td>\n",
       "    </tr>\n",
       "    <tr>\n",
       "      <th>4</th>\n",
       "      <td>9</td>\n",
       "      <td>[[[0, 0, 0], [0, 0, 0], [0, 0, 0], [0, 0, 0], ...</td>\n",
       "      <td>9</td>\n",
       "      <td>0.999999</td>\n",
       "    </tr>\n",
       "    <tr>\n",
       "      <th>...</th>\n",
       "      <td>...</td>\n",
       "      <td>...</td>\n",
       "      <td>...</td>\n",
       "      <td>...</td>\n",
       "    </tr>\n",
       "    <tr>\n",
       "      <th>59995</th>\n",
       "      <td>8</td>\n",
       "      <td>[[[0, 0, 0], [0, 0, 0], [0, 0, 0], [0, 0, 0], ...</td>\n",
       "      <td>8</td>\n",
       "      <td>1.000000</td>\n",
       "    </tr>\n",
       "    <tr>\n",
       "      <th>59996</th>\n",
       "      <td>3</td>\n",
       "      <td>[[[0, 0, 0], [0, 0, 0], [0, 0, 0], [0, 0, 0], ...</td>\n",
       "      <td>3</td>\n",
       "      <td>1.000000</td>\n",
       "    </tr>\n",
       "    <tr>\n",
       "      <th>59997</th>\n",
       "      <td>5</td>\n",
       "      <td>[[[0, 0, 0], [0, 0, 0], [0, 0, 0], [0, 0, 0], ...</td>\n",
       "      <td>5</td>\n",
       "      <td>1.000000</td>\n",
       "    </tr>\n",
       "    <tr>\n",
       "      <th>59998</th>\n",
       "      <td>6</td>\n",
       "      <td>[[[0, 0, 0], [0, 0, 0], [0, 0, 0], [0, 0, 0], ...</td>\n",
       "      <td>6</td>\n",
       "      <td>1.000000</td>\n",
       "    </tr>\n",
       "    <tr>\n",
       "      <th>59999</th>\n",
       "      <td>8</td>\n",
       "      <td>[[[0, 0, 0], [0, 0, 0], [0, 0, 0], [0, 0, 0], ...</td>\n",
       "      <td>8</td>\n",
       "      <td>1.000000</td>\n",
       "    </tr>\n",
       "  </tbody>\n",
       "</table>\n",
       "<p>60000 rows × 4 columns</p>\n",
       "</div>"
      ],
      "text/plain": [
       "       target                                             images  label  \\\n",
       "0           5  [[[0, 0, 0], [0, 0, 0], [0, 0, 0], [0, 0, 0], ...      5   \n",
       "1           0  [[[0, 0, 0], [0, 0, 0], [0, 0, 0], [0, 0, 0], ...      0   \n",
       "2           4  [[[0, 0, 0], [0, 0, 0], [0, 0, 0], [0, 0, 0], ...      4   \n",
       "3           1  [[[0, 0, 0], [0, 0, 0], [0, 0, 0], [0, 0, 0], ...      1   \n",
       "4           9  [[[0, 0, 0], [0, 0, 0], [0, 0, 0], [0, 0, 0], ...      9   \n",
       "...       ...                                                ...    ...   \n",
       "59995       8  [[[0, 0, 0], [0, 0, 0], [0, 0, 0], [0, 0, 0], ...      8   \n",
       "59996       3  [[[0, 0, 0], [0, 0, 0], [0, 0, 0], [0, 0, 0], ...      3   \n",
       "59997       5  [[[0, 0, 0], [0, 0, 0], [0, 0, 0], [0, 0, 0], ...      5   \n",
       "59998       6  [[[0, 0, 0], [0, 0, 0], [0, 0, 0], [0, 0, 0], ...      6   \n",
       "59999       8  [[[0, 0, 0], [0, 0, 0], [0, 0, 0], [0, 0, 0], ...      8   \n",
       "\n",
       "       target_prob  \n",
       "0         1.000000  \n",
       "1         1.000000  \n",
       "2         1.000000  \n",
       "3         1.000000  \n",
       "4         0.999999  \n",
       "...            ...  \n",
       "59995     1.000000  \n",
       "59996     1.000000  \n",
       "59997     1.000000  \n",
       "59998     1.000000  \n",
       "59999     1.000000  \n",
       "\n",
       "[60000 rows x 4 columns]"
      ]
     },
     "execution_count": 30,
     "metadata": {},
     "output_type": "execute_result"
    }
   ],
   "source": [
    "error_analysis_train_df = pd.DataFrame(y_train, columns = [\"target\"])\n",
    "error_analysis_train_df[\"images\"] = train_df[[\"images_rgb\"]]\n",
    "\n",
    "train_target_prob = model_v1.predict(train_input)\n",
    "error_analysis_train_df[\"label\"] = train_target_prob.argmax(axis=-1)\n",
    "error_analysis_train_df[\"target_prob\"] = train_target_prob.max(axis  =-1)\n",
    "\n",
    "train_df[\"prediction\"] = train_target_prob.max(axis  =-1)\n",
    "train_df[\"prediction_prob\"] = train_target_prob.max(axis  =-1)\n",
    "\n",
    "error_analysis_train_df"
   ]
  },
  {
   "cell_type": "code",
   "execution_count": 31,
   "id": "212e75d8",
   "metadata": {},
   "outputs": [
    {
     "data": {
      "text/html": [
       "<div>\n",
       "<style scoped>\n",
       "    .dataframe tbody tr th:only-of-type {\n",
       "        vertical-align: middle;\n",
       "    }\n",
       "\n",
       "    .dataframe tbody tr th {\n",
       "        vertical-align: top;\n",
       "    }\n",
       "\n",
       "    .dataframe thead th {\n",
       "        text-align: right;\n",
       "    }\n",
       "</style>\n",
       "<table border=\"1\" class=\"dataframe\">\n",
       "  <thead>\n",
       "    <tr style=\"text-align: right;\">\n",
       "      <th></th>\n",
       "      <th>image</th>\n",
       "      <th>label</th>\n",
       "      <th>images_rgb</th>\n",
       "      <th>prediction</th>\n",
       "      <th>prediction_prob</th>\n",
       "    </tr>\n",
       "  </thead>\n",
       "  <tbody>\n",
       "    <tr>\n",
       "      <th>0</th>\n",
       "      <td>[[0, 0, 0, 0, 0, 0, 0, 0, 0, 0, 0, 0, 0, 0, 0,...</td>\n",
       "      <td>5</td>\n",
       "      <td>[[[0, 0, 0], [0, 0, 0], [0, 0, 0], [0, 0, 0], ...</td>\n",
       "      <td>1.000000</td>\n",
       "      <td>1.000000</td>\n",
       "    </tr>\n",
       "    <tr>\n",
       "      <th>1</th>\n",
       "      <td>[[0, 0, 0, 0, 0, 0, 0, 0, 0, 0, 0, 0, 0, 0, 0,...</td>\n",
       "      <td>0</td>\n",
       "      <td>[[[0, 0, 0], [0, 0, 0], [0, 0, 0], [0, 0, 0], ...</td>\n",
       "      <td>1.000000</td>\n",
       "      <td>1.000000</td>\n",
       "    </tr>\n",
       "    <tr>\n",
       "      <th>2</th>\n",
       "      <td>[[0, 0, 0, 0, 0, 0, 0, 0, 0, 0, 0, 0, 0, 0, 0,...</td>\n",
       "      <td>4</td>\n",
       "      <td>[[[0, 0, 0], [0, 0, 0], [0, 0, 0], [0, 0, 0], ...</td>\n",
       "      <td>1.000000</td>\n",
       "      <td>1.000000</td>\n",
       "    </tr>\n",
       "    <tr>\n",
       "      <th>3</th>\n",
       "      <td>[[0, 0, 0, 0, 0, 0, 0, 0, 0, 0, 0, 0, 0, 0, 0,...</td>\n",
       "      <td>1</td>\n",
       "      <td>[[[0, 0, 0], [0, 0, 0], [0, 0, 0], [0, 0, 0], ...</td>\n",
       "      <td>1.000000</td>\n",
       "      <td>1.000000</td>\n",
       "    </tr>\n",
       "    <tr>\n",
       "      <th>4</th>\n",
       "      <td>[[0, 0, 0, 0, 0, 0, 0, 0, 0, 0, 0, 0, 0, 0, 0,...</td>\n",
       "      <td>9</td>\n",
       "      <td>[[[0, 0, 0], [0, 0, 0], [0, 0, 0], [0, 0, 0], ...</td>\n",
       "      <td>0.999999</td>\n",
       "      <td>0.999999</td>\n",
       "    </tr>\n",
       "    <tr>\n",
       "      <th>...</th>\n",
       "      <td>...</td>\n",
       "      <td>...</td>\n",
       "      <td>...</td>\n",
       "      <td>...</td>\n",
       "      <td>...</td>\n",
       "    </tr>\n",
       "    <tr>\n",
       "      <th>59995</th>\n",
       "      <td>[[0, 0, 0, 0, 0, 0, 0, 0, 0, 0, 0, 0, 0, 0, 0,...</td>\n",
       "      <td>8</td>\n",
       "      <td>[[[0, 0, 0], [0, 0, 0], [0, 0, 0], [0, 0, 0], ...</td>\n",
       "      <td>1.000000</td>\n",
       "      <td>1.000000</td>\n",
       "    </tr>\n",
       "    <tr>\n",
       "      <th>59996</th>\n",
       "      <td>[[0, 0, 0, 0, 0, 0, 0, 0, 0, 0, 0, 0, 0, 0, 0,...</td>\n",
       "      <td>3</td>\n",
       "      <td>[[[0, 0, 0], [0, 0, 0], [0, 0, 0], [0, 0, 0], ...</td>\n",
       "      <td>1.000000</td>\n",
       "      <td>1.000000</td>\n",
       "    </tr>\n",
       "    <tr>\n",
       "      <th>59997</th>\n",
       "      <td>[[0, 0, 0, 0, 0, 0, 0, 0, 0, 0, 0, 0, 0, 0, 0,...</td>\n",
       "      <td>5</td>\n",
       "      <td>[[[0, 0, 0], [0, 0, 0], [0, 0, 0], [0, 0, 0], ...</td>\n",
       "      <td>1.000000</td>\n",
       "      <td>1.000000</td>\n",
       "    </tr>\n",
       "    <tr>\n",
       "      <th>59998</th>\n",
       "      <td>[[0, 0, 0, 0, 0, 0, 0, 0, 0, 0, 0, 0, 0, 0, 0,...</td>\n",
       "      <td>6</td>\n",
       "      <td>[[[0, 0, 0], [0, 0, 0], [0, 0, 0], [0, 0, 0], ...</td>\n",
       "      <td>1.000000</td>\n",
       "      <td>1.000000</td>\n",
       "    </tr>\n",
       "    <tr>\n",
       "      <th>59999</th>\n",
       "      <td>[[0, 0, 0, 0, 0, 0, 0, 0, 0, 0, 0, 0, 0, 0, 0,...</td>\n",
       "      <td>8</td>\n",
       "      <td>[[[0, 0, 0], [0, 0, 0], [0, 0, 0], [0, 0, 0], ...</td>\n",
       "      <td>1.000000</td>\n",
       "      <td>1.000000</td>\n",
       "    </tr>\n",
       "  </tbody>\n",
       "</table>\n",
       "<p>60000 rows × 5 columns</p>\n",
       "</div>"
      ],
      "text/plain": [
       "                                                   image  label  \\\n",
       "0      [[0, 0, 0, 0, 0, 0, 0, 0, 0, 0, 0, 0, 0, 0, 0,...      5   \n",
       "1      [[0, 0, 0, 0, 0, 0, 0, 0, 0, 0, 0, 0, 0, 0, 0,...      0   \n",
       "2      [[0, 0, 0, 0, 0, 0, 0, 0, 0, 0, 0, 0, 0, 0, 0,...      4   \n",
       "3      [[0, 0, 0, 0, 0, 0, 0, 0, 0, 0, 0, 0, 0, 0, 0,...      1   \n",
       "4      [[0, 0, 0, 0, 0, 0, 0, 0, 0, 0, 0, 0, 0, 0, 0,...      9   \n",
       "...                                                  ...    ...   \n",
       "59995  [[0, 0, 0, 0, 0, 0, 0, 0, 0, 0, 0, 0, 0, 0, 0,...      8   \n",
       "59996  [[0, 0, 0, 0, 0, 0, 0, 0, 0, 0, 0, 0, 0, 0, 0,...      3   \n",
       "59997  [[0, 0, 0, 0, 0, 0, 0, 0, 0, 0, 0, 0, 0, 0, 0,...      5   \n",
       "59998  [[0, 0, 0, 0, 0, 0, 0, 0, 0, 0, 0, 0, 0, 0, 0,...      6   \n",
       "59999  [[0, 0, 0, 0, 0, 0, 0, 0, 0, 0, 0, 0, 0, 0, 0,...      8   \n",
       "\n",
       "                                              images_rgb  prediction  \\\n",
       "0      [[[0, 0, 0], [0, 0, 0], [0, 0, 0], [0, 0, 0], ...    1.000000   \n",
       "1      [[[0, 0, 0], [0, 0, 0], [0, 0, 0], [0, 0, 0], ...    1.000000   \n",
       "2      [[[0, 0, 0], [0, 0, 0], [0, 0, 0], [0, 0, 0], ...    1.000000   \n",
       "3      [[[0, 0, 0], [0, 0, 0], [0, 0, 0], [0, 0, 0], ...    1.000000   \n",
       "4      [[[0, 0, 0], [0, 0, 0], [0, 0, 0], [0, 0, 0], ...    0.999999   \n",
       "...                                                  ...         ...   \n",
       "59995  [[[0, 0, 0], [0, 0, 0], [0, 0, 0], [0, 0, 0], ...    1.000000   \n",
       "59996  [[[0, 0, 0], [0, 0, 0], [0, 0, 0], [0, 0, 0], ...    1.000000   \n",
       "59997  [[[0, 0, 0], [0, 0, 0], [0, 0, 0], [0, 0, 0], ...    1.000000   \n",
       "59998  [[[0, 0, 0], [0, 0, 0], [0, 0, 0], [0, 0, 0], ...    1.000000   \n",
       "59999  [[[0, 0, 0], [0, 0, 0], [0, 0, 0], [0, 0, 0], ...    1.000000   \n",
       "\n",
       "       prediction_prob  \n",
       "0             1.000000  \n",
       "1             1.000000  \n",
       "2             1.000000  \n",
       "3             1.000000  \n",
       "4             0.999999  \n",
       "...                ...  \n",
       "59995         1.000000  \n",
       "59996         1.000000  \n",
       "59997         1.000000  \n",
       "59998         1.000000  \n",
       "59999         1.000000  \n",
       "\n",
       "[60000 rows x 5 columns]"
      ]
     },
     "execution_count": 31,
     "metadata": {},
     "output_type": "execute_result"
    }
   ],
   "source": [
    "train_df"
   ]
  },
  {
   "cell_type": "code",
   "execution_count": 32,
   "id": "fb4073b4",
   "metadata": {},
   "outputs": [
    {
     "data": {
      "text/plain": [
       "array([[[54077,     0],\n",
       "        [    0,  5923]],\n",
       "\n",
       "       [[53256,     2],\n",
       "        [    0,  6742]],\n",
       "\n",
       "       [[54042,     0],\n",
       "        [    2,  5956]],\n",
       "\n",
       "       [[53869,     0],\n",
       "        [    0,  6131]],\n",
       "\n",
       "       [[54158,     0],\n",
       "        [    0,  5842]],\n",
       "\n",
       "       [[54578,     1],\n",
       "        [    0,  5421]],\n",
       "\n",
       "       [[54082,     0],\n",
       "        [    0,  5918]],\n",
       "\n",
       "       [[53735,     0],\n",
       "        [    0,  6265]],\n",
       "\n",
       "       [[54149,     0],\n",
       "        [    1,  5850]],\n",
       "\n",
       "       [[54051,     0],\n",
       "        [    0,  5949]]])"
      ]
     },
     "execution_count": 32,
     "metadata": {},
     "output_type": "execute_result"
    }
   ],
   "source": [
    "multilabel_confusion_matrix(error_analysis_train_df.target, error_analysis_train_df.label)"
   ]
  },
  {
   "cell_type": "code",
   "execution_count": 33,
   "id": "d512e0e9",
   "metadata": {},
   "outputs": [
    {
     "data": {
      "text/plain": [
       "target           int64\n",
       "images          object\n",
       "label            int64\n",
       "target_prob    float32\n",
       "dtype: object"
      ]
     },
     "execution_count": 33,
     "metadata": {},
     "output_type": "execute_result"
    }
   ],
   "source": [
    "error_analysis_train_df.target = error_analysis_train_df.target.astype(int)\n",
    "error_analysis_train_df.dtypes"
   ]
  },
  {
   "cell_type": "code",
   "execution_count": 34,
   "id": "81c189c9",
   "metadata": {},
   "outputs": [
    {
     "data": {
      "text/plain": [
       "2    2\n",
       "8    1\n",
       "Name: target, dtype: int64"
      ]
     },
     "execution_count": 34,
     "metadata": {},
     "output_type": "execute_result"
    }
   ],
   "source": [
    "error_analysis_train_df[\n",
    "    (error_analysis_train_df.target != error_analysis_train_df.label)\n",
    "    ].target.value_counts() "
   ]
  },
  {
   "cell_type": "markdown",
   "id": "682818c1",
   "metadata": {},
   "source": [
    "Training is ok, but it seems that there are a small difference between the testing and training data.\n",
    "Let's try to find if different distribution really exists and apply augmentation in TRAINING data to include similar data distribution"
   ]
  },
  {
   "cell_type": "markdown",
   "id": "93ae3b36",
   "metadata": {},
   "source": [
    "## Check for target = 9"
   ]
  },
  {
   "cell_type": "code",
   "execution_count": 35,
   "id": "35d1afa9",
   "metadata": {},
   "outputs": [],
   "source": [
    "# tmp = error_analysis_test_df[\n",
    "#     (error_analysis_test_df.target != error_analysis_test_df.label) &\n",
    "#     (error_analysis_test_df.target.isin([9]))\n",
    "#     ].sample(5).sort_values(\"target\", ascending = True)\n",
    "\n",
    "# for img, target, label in zip(tmp.images.values, tmp.target.values, tmp.label.values):\n",
    "#     fig, ax = plt.subplots(1)\n",
    "#     ax.imshow(img)\n",
    "#     leg = \"tgt = \"+ str(target)+\" -> lbl = \"+str(label)\n",
    "#     ax.text(0,5,leg, bbox={'facecolor': 'white', 'pad': 10})\n",
    "#     plt.show()"
   ]
  },
  {
   "cell_type": "markdown",
   "id": "a697b67f",
   "metadata": {},
   "source": [
    "## Check for target = 8"
   ]
  },
  {
   "cell_type": "code",
   "execution_count": 36,
   "id": "70b5b854",
   "metadata": {},
   "outputs": [],
   "source": [
    "# tmp = error_analysis_test_df[\n",
    "#     (error_analysis_test_df.target != error_analysis_test_df.label) &\n",
    "#     (error_analysis_test_df.target.isin([8]))\n",
    "#     ].sort_values(\"target\", ascending = True)\n",
    "\n",
    "# for img, target, label in zip(tmp.images.values, tmp.target.values, tmp.label.values):\n",
    "#     fig, ax = plt.subplots(1)\n",
    "#     ax.imshow(img)\n",
    "#     leg = \"tgt = \"+ str(target)+\" -> lbl = \"+str(label)\n",
    "#     ax.text(0,5,leg, bbox={'facecolor': 'white', 'pad': 10})\n",
    "#     plt.show()"
   ]
  },
  {
   "cell_type": "markdown",
   "id": "a6fb7d6c",
   "metadata": {},
   "source": [
    "## Check for target = 7"
   ]
  },
  {
   "cell_type": "code",
   "execution_count": 37,
   "id": "6de10e4a",
   "metadata": {},
   "outputs": [],
   "source": [
    "# tmp = error_analysis_test_df[\n",
    "#     (error_analysis_test_df.target != error_analysis_test_df.label) &\n",
    "#     (error_analysis_test_df.target.isin([7]))\n",
    "#     ].sort_values(\"target\", ascending = True)\n",
    "\n",
    "# for img, target, label in zip(tmp.images.values, tmp.target.values, tmp.label.values):\n",
    "#     fig, ax = plt.subplots(1)\n",
    "#     ax.imshow(img)\n",
    "#     leg = \"tgt = \"+ str(target)+\" -> lbl = \"+str(label)\n",
    "#     ax.text(0,5,leg, bbox={'facecolor': 'white', 'pad': 10})\n",
    "#     plt.show()"
   ]
  },
  {
   "cell_type": "markdown",
   "id": "651ab013-81d5-4f2f-b65d-7c52a7424368",
   "metadata": {},
   "source": [
    "## Rotate, crop, RGB Experiments"
   ]
  },
  {
   "cell_type": "code",
   "execution_count": 38,
   "id": "576e6e08",
   "metadata": {},
   "outputs": [],
   "source": [
    "\n",
    "train_agumented_df =  train_df[[\"images_rgb\",\"label\",\"prediction_prob\"]]\n",
    "test_df =  test_df[[\"images_rgb\",\"label\"]]"
   ]
  },
  {
   "cell_type": "code",
   "execution_count": 39,
   "id": "34d749d2",
   "metadata": {},
   "outputs": [
    {
     "data": {
      "text/html": [
       "<div>\n",
       "<style scoped>\n",
       "    .dataframe tbody tr th:only-of-type {\n",
       "        vertical-align: middle;\n",
       "    }\n",
       "\n",
       "    .dataframe tbody tr th {\n",
       "        vertical-align: top;\n",
       "    }\n",
       "\n",
       "    .dataframe thead th {\n",
       "        text-align: right;\n",
       "    }\n",
       "</style>\n",
       "<table border=\"1\" class=\"dataframe\">\n",
       "  <thead>\n",
       "    <tr style=\"text-align: right;\">\n",
       "      <th></th>\n",
       "      <th>images_rgb</th>\n",
       "      <th>label</th>\n",
       "      <th>prediction_prob</th>\n",
       "    </tr>\n",
       "  </thead>\n",
       "  <tbody>\n",
       "    <tr>\n",
       "      <th>45968</th>\n",
       "      <td>[[[0, 0, 0], [0, 0, 0], [0, 0, 0], [0, 0, 0], ...</td>\n",
       "      <td>8</td>\n",
       "      <td>0.548566</td>\n",
       "    </tr>\n",
       "    <tr>\n",
       "      <th>20268</th>\n",
       "      <td>[[[0, 0, 0], [0, 0, 0], [0, 0, 0], [0, 0, 0], ...</td>\n",
       "      <td>2</td>\n",
       "      <td>0.602884</td>\n",
       "    </tr>\n",
       "    <tr>\n",
       "      <th>56082</th>\n",
       "      <td>[[[0, 0, 0], [0, 0, 0], [0, 0, 0], [0, 0, 0], ...</td>\n",
       "      <td>8</td>\n",
       "      <td>0.666562</td>\n",
       "    </tr>\n",
       "    <tr>\n",
       "      <th>28788</th>\n",
       "      <td>[[[0, 0, 0], [0, 0, 0], [0, 0, 0], [0, 0, 0], ...</td>\n",
       "      <td>8</td>\n",
       "      <td>0.736966</td>\n",
       "    </tr>\n",
       "    <tr>\n",
       "      <th>11438</th>\n",
       "      <td>[[[0, 0, 0], [0, 0, 0], [0, 0, 0], [0, 0, 0], ...</td>\n",
       "      <td>2</td>\n",
       "      <td>0.749484</td>\n",
       "    </tr>\n",
       "    <tr>\n",
       "      <th>...</th>\n",
       "      <td>...</td>\n",
       "      <td>...</td>\n",
       "      <td>...</td>\n",
       "    </tr>\n",
       "    <tr>\n",
       "      <th>31910</th>\n",
       "      <td>[[[0, 0, 0], [0, 0, 0], [0, 0, 0], [0, 0, 0], ...</td>\n",
       "      <td>7</td>\n",
       "      <td>1.000000</td>\n",
       "    </tr>\n",
       "    <tr>\n",
       "      <th>11481</th>\n",
       "      <td>[[[0, 0, 0], [0, 0, 0], [0, 0, 0], [0, 0, 0], ...</td>\n",
       "      <td>3</td>\n",
       "      <td>1.000000</td>\n",
       "    </tr>\n",
       "    <tr>\n",
       "      <th>31912</th>\n",
       "      <td>[[[0, 0, 0], [0, 0, 0], [0, 0, 0], [0, 0, 0], ...</td>\n",
       "      <td>7</td>\n",
       "      <td>1.000000</td>\n",
       "    </tr>\n",
       "    <tr>\n",
       "      <th>31894</th>\n",
       "      <td>[[[0, 0, 0], [0, 0, 0], [0, 0, 0], [0, 0, 0], ...</td>\n",
       "      <td>1</td>\n",
       "      <td>1.000000</td>\n",
       "    </tr>\n",
       "    <tr>\n",
       "      <th>59999</th>\n",
       "      <td>[[[0, 0, 0], [0, 0, 0], [0, 0, 0], [0, 0, 0], ...</td>\n",
       "      <td>8</td>\n",
       "      <td>1.000000</td>\n",
       "    </tr>\n",
       "  </tbody>\n",
       "</table>\n",
       "<p>60000 rows × 3 columns</p>\n",
       "</div>"
      ],
      "text/plain": [
       "                                              images_rgb  label  \\\n",
       "45968  [[[0, 0, 0], [0, 0, 0], [0, 0, 0], [0, 0, 0], ...      8   \n",
       "20268  [[[0, 0, 0], [0, 0, 0], [0, 0, 0], [0, 0, 0], ...      2   \n",
       "56082  [[[0, 0, 0], [0, 0, 0], [0, 0, 0], [0, 0, 0], ...      8   \n",
       "28788  [[[0, 0, 0], [0, 0, 0], [0, 0, 0], [0, 0, 0], ...      8   \n",
       "11438  [[[0, 0, 0], [0, 0, 0], [0, 0, 0], [0, 0, 0], ...      2   \n",
       "...                                                  ...    ...   \n",
       "31910  [[[0, 0, 0], [0, 0, 0], [0, 0, 0], [0, 0, 0], ...      7   \n",
       "11481  [[[0, 0, 0], [0, 0, 0], [0, 0, 0], [0, 0, 0], ...      3   \n",
       "31912  [[[0, 0, 0], [0, 0, 0], [0, 0, 0], [0, 0, 0], ...      7   \n",
       "31894  [[[0, 0, 0], [0, 0, 0], [0, 0, 0], [0, 0, 0], ...      1   \n",
       "59999  [[[0, 0, 0], [0, 0, 0], [0, 0, 0], [0, 0, 0], ...      8   \n",
       "\n",
       "       prediction_prob  \n",
       "45968         0.548566  \n",
       "20268         0.602884  \n",
       "56082         0.666562  \n",
       "28788         0.736966  \n",
       "11438         0.749484  \n",
       "...                ...  \n",
       "31910         1.000000  \n",
       "11481         1.000000  \n",
       "31912         1.000000  \n",
       "31894         1.000000  \n",
       "59999         1.000000  \n",
       "\n",
       "[60000 rows x 3 columns]"
      ]
     },
     "execution_count": 39,
     "metadata": {},
     "output_type": "execute_result"
    }
   ],
   "source": [
    "train_agumented_df.sort_values(\"prediction_prob\", ascending = True)"
   ]
  },
  {
   "cell_type": "code",
   "execution_count": 40,
   "id": "27f80cc4",
   "metadata": {},
   "outputs": [
    {
     "data": {
      "text/html": [
       "<div>\n",
       "<style scoped>\n",
       "    .dataframe tbody tr th:only-of-type {\n",
       "        vertical-align: middle;\n",
       "    }\n",
       "\n",
       "    .dataframe tbody tr th {\n",
       "        vertical-align: top;\n",
       "    }\n",
       "\n",
       "    .dataframe thead th {\n",
       "        text-align: right;\n",
       "    }\n",
       "</style>\n",
       "<table border=\"1\" class=\"dataframe\">\n",
       "  <thead>\n",
       "    <tr style=\"text-align: right;\">\n",
       "      <th></th>\n",
       "      <th>images_rgb</th>\n",
       "      <th>label</th>\n",
       "      <th>prediction_prob</th>\n",
       "    </tr>\n",
       "  </thead>\n",
       "  <tbody>\n",
       "    <tr>\n",
       "      <th>120</th>\n",
       "      <td>[[[0, 0, 0], [0, 0, 0], [0, 0, 0], [0, 0, 0], ...</td>\n",
       "      <td>2</td>\n",
       "      <td>0.989598</td>\n",
       "    </tr>\n",
       "    <tr>\n",
       "      <th>318</th>\n",
       "      <td>[[[0, 0, 0], [0, 0, 0], [0, 0, 0], [0, 0, 0], ...</td>\n",
       "      <td>2</td>\n",
       "      <td>0.987382</td>\n",
       "    </tr>\n",
       "    <tr>\n",
       "      <th>674</th>\n",
       "      <td>[[[0, 0, 0], [0, 0, 0], [0, 0, 0], [0, 0, 0], ...</td>\n",
       "      <td>2</td>\n",
       "      <td>0.979773</td>\n",
       "    </tr>\n",
       "    <tr>\n",
       "      <th>1047</th>\n",
       "      <td>[[[0, 0, 0], [0, 0, 0], [0, 0, 0], [0, 0, 0], ...</td>\n",
       "      <td>2</td>\n",
       "      <td>0.981706</td>\n",
       "    </tr>\n",
       "    <tr>\n",
       "      <th>2014</th>\n",
       "      <td>[[[0, 0, 0], [0, 0, 0], [0, 0, 0], [0, 0, 0], ...</td>\n",
       "      <td>7</td>\n",
       "      <td>0.985481</td>\n",
       "    </tr>\n",
       "    <tr>\n",
       "      <th>...</th>\n",
       "      <td>...</td>\n",
       "      <td>...</td>\n",
       "      <td>...</td>\n",
       "    </tr>\n",
       "    <tr>\n",
       "      <th>57630</th>\n",
       "      <td>[[[0, 0, 0], [0, 0, 0], [0, 0, 0], [0, 0, 0], ...</td>\n",
       "      <td>4</td>\n",
       "      <td>0.975851</td>\n",
       "    </tr>\n",
       "    <tr>\n",
       "      <th>58651</th>\n",
       "      <td>[[[0, 0, 0], [0, 0, 0], [0, 0, 0], [0, 0, 0], ...</td>\n",
       "      <td>2</td>\n",
       "      <td>0.919363</td>\n",
       "    </tr>\n",
       "    <tr>\n",
       "      <th>59399</th>\n",
       "      <td>[[[0, 0, 0], [0, 0, 0], [0, 0, 0], [0, 0, 0], ...</td>\n",
       "      <td>8</td>\n",
       "      <td>0.988704</td>\n",
       "    </tr>\n",
       "    <tr>\n",
       "      <th>59724</th>\n",
       "      <td>[[[0, 0, 0], [0, 0, 0], [0, 0, 0], [0, 0, 0], ...</td>\n",
       "      <td>7</td>\n",
       "      <td>0.989377</td>\n",
       "    </tr>\n",
       "    <tr>\n",
       "      <th>59833</th>\n",
       "      <td>[[[0, 0, 0], [0, 0, 0], [0, 0, 0], [0, 0, 0], ...</td>\n",
       "      <td>2</td>\n",
       "      <td>0.985553</td>\n",
       "    </tr>\n",
       "  </tbody>\n",
       "</table>\n",
       "<p>182 rows × 3 columns</p>\n",
       "</div>"
      ],
      "text/plain": [
       "                                              images_rgb  label  \\\n",
       "120    [[[0, 0, 0], [0, 0, 0], [0, 0, 0], [0, 0, 0], ...      2   \n",
       "318    [[[0, 0, 0], [0, 0, 0], [0, 0, 0], [0, 0, 0], ...      2   \n",
       "674    [[[0, 0, 0], [0, 0, 0], [0, 0, 0], [0, 0, 0], ...      2   \n",
       "1047   [[[0, 0, 0], [0, 0, 0], [0, 0, 0], [0, 0, 0], ...      2   \n",
       "2014   [[[0, 0, 0], [0, 0, 0], [0, 0, 0], [0, 0, 0], ...      7   \n",
       "...                                                  ...    ...   \n",
       "57630  [[[0, 0, 0], [0, 0, 0], [0, 0, 0], [0, 0, 0], ...      4   \n",
       "58651  [[[0, 0, 0], [0, 0, 0], [0, 0, 0], [0, 0, 0], ...      2   \n",
       "59399  [[[0, 0, 0], [0, 0, 0], [0, 0, 0], [0, 0, 0], ...      8   \n",
       "59724  [[[0, 0, 0], [0, 0, 0], [0, 0, 0], [0, 0, 0], ...      7   \n",
       "59833  [[[0, 0, 0], [0, 0, 0], [0, 0, 0], [0, 0, 0], ...      2   \n",
       "\n",
       "       prediction_prob  \n",
       "120           0.989598  \n",
       "318           0.987382  \n",
       "674           0.979773  \n",
       "1047          0.981706  \n",
       "2014          0.985481  \n",
       "...                ...  \n",
       "57630         0.975851  \n",
       "58651         0.919363  \n",
       "59399         0.988704  \n",
       "59724         0.989377  \n",
       "59833         0.985553  \n",
       "\n",
       "[182 rows x 3 columns]"
      ]
     },
     "execution_count": 40,
     "metadata": {},
     "output_type": "execute_result"
    }
   ],
   "source": [
    "train_agumented_df[train_agumented_df.prediction_prob<0.99]"
   ]
  },
  {
   "cell_type": "code",
   "execution_count": 41,
   "id": "c8d2d129",
   "metadata": {},
   "outputs": [
    {
     "name": "stdout",
     "output_type": "stream",
     "text": [
      "(28, 28, 3)\n",
      "(28, 28)\n",
      "(28, 28, 3)\n"
     ]
    },
    {
     "data": {
      "image/png": "[encoded data removed]",
      "text/plain": [
       "<Figure size 640x480 with 1 Axes>"
      ]
     },
     "metadata": {},
     "output_type": "display_data"
    },
    {
     "data": {
      "image/png": "[encoded data removed]",
      "text/plain": [
       "<Figure size 640x480 with 1 Axes>"
      ]
     },
     "metadata": {},
     "output_type": "display_data"
    },
    {
     "data": {
      "image/png": "[encoded data removed]",
      "text/plain": [
       "<Figure size 640x480 with 1 Axes>"
      ]
     },
     "metadata": {},
     "output_type": "display_data"
    }
   ],
   "source": [
    "img = train_agumented_df[train_agumented_df.label == 9].images_rgb.values[8]\n",
    "plt.figure()\n",
    "plt.imshow(img)\n",
    "print(img.shape)\n",
    "\n",
    "img = Image.fromarray((img).astype(np.uint8)).convert('L')\n",
    "plt.figure()\n",
    "img = np.asarray(img)\n",
    "plt.imshow(img)\n",
    "print(img.shape)\n",
    "\n",
    "img = Image.fromarray((img).astype(np.uint8)).convert('RGB')\n",
    "plt.figure()\n",
    "img = np.asarray(img)\n",
    "plt.imshow(img)\n",
    "print(img.shape)\n",
    "\n"
   ]
  },
  {
   "cell_type": "code",
   "execution_count": 42,
   "id": "a5264a72",
   "metadata": {},
   "outputs": [
    {
     "data": {
      "text/plain": [
       "<matplotlib.image.AxesImage at 0x7a2923f5d3d0>"
      ]
     },
     "execution_count": 42,
     "metadata": {},
     "output_type": "execute_result"
    },
    {
     "data": {
      "image/png": "[encoded data removed]",
      "text/plain": [
       "<Figure size 640x480 with 1 Axes>"
      ]
     },
     "metadata": {},
     "output_type": "display_data"
    },
    {
     "data": {
      "image/png": "[encoded data removed]",
      "text/plain": [
       "<Figure size 640x480 with 1 Axes>"
      ]
     },
     "metadata": {},
     "output_type": "display_data"
    },
    {
     "data": {
      "image/png": "[encoded data removed]",
      "text/plain": [
       "<Figure size 640x480 with 1 Axes>"
      ]
     },
     "metadata": {},
     "output_type": "display_data"
    }
   ],
   "source": [
    "\n",
    "rows, cols, dim = img.shape\n",
    "#**********IMAGE TRANSLATION*****************\n",
    "# transformation matrix for translation\n",
    "M = np.float32([[1, 0, 3],\n",
    "                [0, 1, 3],\n",
    "                [0, 0, 1]])\n",
    "# apply a perspective transformation to the image\n",
    "translated_img = cv2.warpPerspective(img, M, (cols, rows))\n",
    "plt.imshow(translated_img)\n",
    "\n",
    "\n",
    "plt.figure()\n",
    "# transformation matrix for translation\n",
    "M = np.float32([[1, 0.2, 0.2],\n",
    "                [0, 1, 0],\n",
    "                [0, 0, 1]])\n",
    "# apply a perspective transformation to the image\n",
    "translated_img = cv2.warpPerspective(img, M, (cols, rows))\n",
    "plt.imshow(translated_img)\n",
    "\n",
    "plt.figure()\n",
    "# transformation matrix for translation\n",
    "M = np.float32([[1, 0, 0],\n",
    "                [0.2, 1, 0],\n",
    "                [0, 0, 1]])\n",
    "# apply a perspective transformation to the image\n",
    "translated_img = cv2.warpPerspective(img, M, (cols, rows))\n",
    "plt.imshow(translated_img)\n"
   ]
  },
  {
   "cell_type": "code",
   "execution_count": 43,
   "id": "01e3dc1b",
   "metadata": {},
   "outputs": [
    {
     "data": {
      "text/plain": [
       "<matplotlib.image.AxesImage at 0x7a29223244d0>"
      ]
     },
     "execution_count": 43,
     "metadata": {},
     "output_type": "execute_result"
    },
    {
     "data": {
      "image/png": "[encoded data removed]",
      "text/plain": [
       "<Figure size 640x480 with 1 Axes>"
      ]
     },
     "metadata": {},
     "output_type": "display_data"
    },
    {
     "data": {
      "image/png": "[encoded data removed]",
      "text/plain": [
       "<Figure size 640x480 with 1 Axes>"
      ]
     },
     "metadata": {},
     "output_type": "display_data"
    },
    {
     "data": {
      "image/png": "[encoded data removed]",
      "text/plain": [
       "<Figure size 640x480 with 1 Axes>"
      ]
     },
     "metadata": {},
     "output_type": "display_data"
    },
    {
     "data": {
      "image/png": "[encoded data removed]",
      "text/plain": [
       "<Figure size 640x480 with 1 Axes>"
      ]
     },
     "metadata": {},
     "output_type": "display_data"
    },
    {
     "data": {
      "image/png": "[encoded data removed]",
      "text/plain": [
       "<Figure size 640x480 with 1 Axes>"
      ]
     },
     "metadata": {},
     "output_type": "display_data"
    }
   ],
   "source": [
    "plt.figure()\n",
    "plt.imshow(img)\n",
    "\n",
    "\n",
    "#**********IMAGE SHEARING X AXIS*****************\n",
    "plt.figure()\n",
    "M = np.float32([[1, 0.7, 0],\n",
    "             \t[0, 1  , 0],\n",
    "            \t[0, 0  , 1]])\n",
    "# apply a perspective transformation to the image                \n",
    "sheared_img = cv2.warpPerspective(img,M,(int(cols*1.5),int(rows*1.5)))\n",
    "plt.imshow(sheared_img)\n",
    "plt.figure()\n",
    "sheared_img = cv2.warpPerspective(img,M,(int(cols),int(rows)))\n",
    "plt.imshow(sheared_img)\n",
    "\n",
    "\n",
    "#**********IMAGE SHEARING Y AXIS*****************\n",
    "plt.figure()\n",
    "M = np.float32([[1,   0, 0],\n",
    "             \t[0.7, 1, 0],\n",
    "             \t[0,   0, 1]])\n",
    "# apply a perspective transformation to the image                \n",
    "sheared_img = cv2.warpPerspective(img,M,(int(cols*1.5),int(rows*1.5)))\n",
    "plt.imshow(sheared_img)\n",
    "\n",
    "plt.figure()\n",
    "sheared_img = cv2.warpPerspective(img,M,(int(cols),int(rows)))\n",
    "plt.imshow(sheared_img)  \n"
   ]
  },
  {
   "cell_type": "code",
   "execution_count": 44,
   "id": "02f3e354",
   "metadata": {},
   "outputs": [
    {
     "data": {
      "text/plain": [
       "<matplotlib.image.AxesImage at 0x7a2920507810>"
      ]
     },
     "execution_count": 44,
     "metadata": {},
     "output_type": "execute_result"
    },
    {
     "data": {
      "image/png": "[encoded data removed]",
      "text/plain": [
       "<Figure size 640x480 with 1 Axes>"
      ]
     },
     "metadata": {},
     "output_type": "display_data"
    },
    {
     "data": {
      "image/png": "[encoded data removed]",
      "text/plain": [
       "<Figure size 640x480 with 1 Axes>"
      ]
     },
     "metadata": {},
     "output_type": "display_data"
    },
    {
     "data": {
      "image/png": "[encoded data removed]",
      "text/plain": [
       "<Figure size 640x480 with 1 Axes>"
      ]
     },
     "metadata": {},
     "output_type": "display_data"
    },
    {
     "data": {
      "image/png": "[encoded data removed]",
      "text/plain": [
       "<Figure size 640x480 with 1 Axes>"
      ]
     },
     "metadata": {},
     "output_type": "display_data"
    },
    {
     "data": {
      "image/png": "[encoded data removed]",
      "text/plain": [
       "<Figure size 640x480 with 1 Axes>"
      ]
     },
     "metadata": {},
     "output_type": "display_data"
    },
    {
     "data": {
      "image/png": "[encoded data removed]",
      "text/plain": [
       "<Figure size 640x480 with 1 Axes>"
      ]
     },
     "metadata": {},
     "output_type": "display_data"
    },
    {
     "data": {
      "image/png": "[encoded data removed]",
      "text/plain": [
       "<Figure size 640x480 with 1 Axes>"
      ]
     },
     "metadata": {},
     "output_type": "display_data"
    },
    {
     "data": {
      "image/png": "[encoded data removed]",
      "text/plain": [
       "<Figure size 640x480 with 1 Axes>"
      ]
     },
     "metadata": {},
     "output_type": "display_data"
    }
   ],
   "source": [
    "\n",
    "def rotate_image(image, angle):\n",
    "  image_center = tuple(np.array(image.shape[1::-1]) / 2)\n",
    "  rot_mat = cv2.getRotationMatrix2D(image_center, angle, 1.0)\n",
    "  result = cv2.warpAffine(image, rot_mat, image.shape[1::-1], flags=cv2.INTER_LINEAR)\n",
    "  return result\n",
    "\n",
    "\n",
    "img = Image.fromarray((img).astype(np.uint8)).convert('RGB')\n",
    "plt.figure()\n",
    "img = np.asarray(img)\n",
    "plt.imshow(img)\n",
    "\n",
    "\n",
    "#**********IMAGE ROTATION*****************\n",
    "plt.figure()\n",
    "img_rotate_90_clockwise = cv2.rotate(img, cv2.ROTATE_90_CLOCKWISE)\n",
    "plt.imshow(img_rotate_90_clockwise)\n",
    "\n",
    "plt.figure()\n",
    "plt.imshow(rotate_image(img, -45))\n",
    "\n",
    "\n",
    "plt.figure()\n",
    "plt.imshow(rotate_image(img, -35))\n",
    "\n",
    "plt.figure()\n",
    "plt.imshow(rotate_image(img, 45))\n",
    "\n",
    "plt.figure()\n",
    "img_rotate_90_counterclockwise  = cv2.rotate(img, cv2.ROTATE_90_COUNTERCLOCKWISE)\n",
    "plt.imshow(img_rotate_90_counterclockwise )\n",
    "\n",
    "plt.figure()\n",
    "img_rotate_180  = cv2.rotate(img, cv2.ROTATE_180)\n",
    "plt.imshow(img_rotate_180 )\n",
    "\n",
    "plt.figure()\n",
    "img_flip_ud = cv2.flip(img, 0)\n",
    "plt.imshow(img_flip_ud )\n",
    "\n"
   ]
  },
  {
   "cell_type": "code",
   "execution_count": 45,
   "id": "f766c9e2",
   "metadata": {},
   "outputs": [
    {
     "name": "stdout",
     "output_type": "stream",
     "text": [
      "(28, 28)\n"
     ]
    },
    {
     "data": {
      "text/plain": [
       "(<matplotlib.image.AxesImage at 0x7a29283bdc50>, (28, 28, 3))"
      ]
     },
     "execution_count": 45,
     "metadata": {},
     "output_type": "execute_result"
    },
    {
     "data": {
      "image/png": "[encoded data removed]",
      "text/plain": [
       "<Figure size 640x480 with 1 Axes>"
      ]
     },
     "metadata": {},
     "output_type": "display_data"
    },
    {
     "data": {
      "image/png": "[encoded data removed]",
      "text/plain": [
       "<Figure size 640x480 with 1 Axes>"
      ]
     },
     "metadata": {},
     "output_type": "display_data"
    }
   ],
   "source": [
    "gray_image = np.asarray(Image.fromarray((img).astype(np.uint8)).convert('L'))\n",
    "plt.imshow(gray_image)\n",
    "print(gray_image.shape)\n",
    "\n",
    "kernel = np.ones((2, 2), dtype=np.uint8)  # Define the kernel size for erosion\n",
    "eroded_image = morphology.erosion(gray_image, kernel)\n",
    "eroded_image =  np.asarray(Image.fromarray((eroded_image).astype(np.uint8)).convert('RGB'))\n",
    "\n",
    "plt.figure()\n",
    "plt.imshow(eroded_image), eroded_image.shape\n",
    "\n"
   ]
  },
  {
   "cell_type": "code",
   "execution_count": 46,
   "id": "c9322401",
   "metadata": {},
   "outputs": [
    {
     "data": {
      "text/html": [
       "<div>\n",
       "<style scoped>\n",
       "    .dataframe tbody tr th:only-of-type {\n",
       "        vertical-align: middle;\n",
       "    }\n",
       "\n",
       "    .dataframe tbody tr th {\n",
       "        vertical-align: top;\n",
       "    }\n",
       "\n",
       "    .dataframe thead th {\n",
       "        text-align: right;\n",
       "    }\n",
       "</style>\n",
       "<table border=\"1\" class=\"dataframe\">\n",
       "  <thead>\n",
       "    <tr style=\"text-align: right;\">\n",
       "      <th></th>\n",
       "      <th>images_rgb</th>\n",
       "      <th>label</th>\n",
       "      <th>prediction_prob</th>\n",
       "    </tr>\n",
       "  </thead>\n",
       "  <tbody>\n",
       "    <tr>\n",
       "      <th>0</th>\n",
       "      <td>[[[0, 0, 0], [0, 0, 0], [0, 0, 0], [0, 0, 0], ...</td>\n",
       "      <td>5</td>\n",
       "      <td>1.000000</td>\n",
       "    </tr>\n",
       "    <tr>\n",
       "      <th>1</th>\n",
       "      <td>[[[0, 0, 0], [0, 0, 0], [0, 0, 0], [0, 0, 0], ...</td>\n",
       "      <td>0</td>\n",
       "      <td>1.000000</td>\n",
       "    </tr>\n",
       "    <tr>\n",
       "      <th>2</th>\n",
       "      <td>[[[0, 0, 0], [0, 0, 0], [0, 0, 0], [0, 0, 0], ...</td>\n",
       "      <td>4</td>\n",
       "      <td>1.000000</td>\n",
       "    </tr>\n",
       "    <tr>\n",
       "      <th>3</th>\n",
       "      <td>[[[0, 0, 0], [0, 0, 0], [0, 0, 0], [0, 0, 0], ...</td>\n",
       "      <td>1</td>\n",
       "      <td>1.000000</td>\n",
       "    </tr>\n",
       "    <tr>\n",
       "      <th>4</th>\n",
       "      <td>[[[0, 0, 0], [0, 0, 0], [0, 0, 0], [0, 0, 0], ...</td>\n",
       "      <td>9</td>\n",
       "      <td>0.999999</td>\n",
       "    </tr>\n",
       "    <tr>\n",
       "      <th>...</th>\n",
       "      <td>...</td>\n",
       "      <td>...</td>\n",
       "      <td>...</td>\n",
       "    </tr>\n",
       "    <tr>\n",
       "      <th>59995</th>\n",
       "      <td>[[[0, 0, 0], [0, 0, 0], [0, 0, 0], [0, 0, 0], ...</td>\n",
       "      <td>8</td>\n",
       "      <td>1.000000</td>\n",
       "    </tr>\n",
       "    <tr>\n",
       "      <th>59996</th>\n",
       "      <td>[[[0, 0, 0], [0, 0, 0], [0, 0, 0], [0, 0, 0], ...</td>\n",
       "      <td>3</td>\n",
       "      <td>1.000000</td>\n",
       "    </tr>\n",
       "    <tr>\n",
       "      <th>59997</th>\n",
       "      <td>[[[0, 0, 0], [0, 0, 0], [0, 0, 0], [0, 0, 0], ...</td>\n",
       "      <td>5</td>\n",
       "      <td>1.000000</td>\n",
       "    </tr>\n",
       "    <tr>\n",
       "      <th>59998</th>\n",
       "      <td>[[[0, 0, 0], [0, 0, 0], [0, 0, 0], [0, 0, 0], ...</td>\n",
       "      <td>6</td>\n",
       "      <td>1.000000</td>\n",
       "    </tr>\n",
       "    <tr>\n",
       "      <th>59999</th>\n",
       "      <td>[[[0, 0, 0], [0, 0, 0], [0, 0, 0], [0, 0, 0], ...</td>\n",
       "      <td>8</td>\n",
       "      <td>1.000000</td>\n",
       "    </tr>\n",
       "  </tbody>\n",
       "</table>\n",
       "<p>60000 rows × 3 columns</p>\n",
       "</div>"
      ],
      "text/plain": [
       "                                              images_rgb  label  \\\n",
       "0      [[[0, 0, 0], [0, 0, 0], [0, 0, 0], [0, 0, 0], ...      5   \n",
       "1      [[[0, 0, 0], [0, 0, 0], [0, 0, 0], [0, 0, 0], ...      0   \n",
       "2      [[[0, 0, 0], [0, 0, 0], [0, 0, 0], [0, 0, 0], ...      4   \n",
       "3      [[[0, 0, 0], [0, 0, 0], [0, 0, 0], [0, 0, 0], ...      1   \n",
       "4      [[[0, 0, 0], [0, 0, 0], [0, 0, 0], [0, 0, 0], ...      9   \n",
       "...                                                  ...    ...   \n",
       "59995  [[[0, 0, 0], [0, 0, 0], [0, 0, 0], [0, 0, 0], ...      8   \n",
       "59996  [[[0, 0, 0], [0, 0, 0], [0, 0, 0], [0, 0, 0], ...      3   \n",
       "59997  [[[0, 0, 0], [0, 0, 0], [0, 0, 0], [0, 0, 0], ...      5   \n",
       "59998  [[[0, 0, 0], [0, 0, 0], [0, 0, 0], [0, 0, 0], ...      6   \n",
       "59999  [[[0, 0, 0], [0, 0, 0], [0, 0, 0], [0, 0, 0], ...      8   \n",
       "\n",
       "       prediction_prob  \n",
       "0             1.000000  \n",
       "1             1.000000  \n",
       "2             1.000000  \n",
       "3             1.000000  \n",
       "4             0.999999  \n",
       "...                ...  \n",
       "59995         1.000000  \n",
       "59996         1.000000  \n",
       "59997         1.000000  \n",
       "59998         1.000000  \n",
       "59999         1.000000  \n",
       "\n",
       "[60000 rows x 3 columns]"
      ]
     },
     "execution_count": 46,
     "metadata": {},
     "output_type": "execute_result"
    }
   ],
   "source": [
    "train_agumented_df"
   ]
  },
  {
   "cell_type": "code",
   "execution_count": 47,
   "id": "b4ea6465-d08b-4d63-86e0-a56930c297a0",
   "metadata": {},
   "outputs": [],
   "source": [
    "def data_aug( img, label):\n",
    "    X_temp = []\n",
    "    Y_temp = []\n",
    "    \n",
    "\n",
    "    #**********IMAGE TRANSLATION*****************\n",
    "    rows, cols, dim = img.shape\n",
    "    # transformation matrix for translation\n",
    "    # M = np.float32([[1, 0, 3],\n",
    "    #                 [0, 1, 3],\n",
    "    #                 [0, 0, 1]])\n",
    "    # # apply a perspective transformation to the image\n",
    "    # X_temp.append(cv2.warpPerspective(img, M, (cols, rows)))\n",
    "    # Y_temp.append(label)\n",
    "\n",
    "    \n",
    "    #**********IMAGE SHEARING X AXIS*****************\n",
    "    M = np.float32([[1,   0, 0],\n",
    "             \t[0.7, 1, 0],\n",
    "             \t[0,   0, 1]])\n",
    "    # apply a perspective transformation to the image  \n",
    "    image_tmp = cv2.warpPerspective(img,M,(int(cols),int(rows)))\n",
    "    X_temp.append(image_tmp)\n",
    "    Y_temp.append(label)\n",
    "\n",
    "\n",
    "    X_temp.append(rotate_image(img, -30))\n",
    "    Y_temp.append(label)\n",
    "\n",
    "    # Image Erosion\n",
    "    gray_image = np.asarray(Image.fromarray((img).astype(np.uint8)).convert('L'))\n",
    "    kernel = np.ones((2, 2), dtype=np.uint8)  # Define the kernel size for erosion\n",
    "    eroded_image = morphology.erosion(gray_image, kernel)\n",
    "    eroded_image =  np.asarray(Image.fromarray((eroded_image).astype(np.uint8)).convert('RGB'))\n",
    "\n",
    "    X_temp.append(eroded_image)\n",
    "    Y_temp.append(label)\n",
    "\n",
    "    return X_temp,Y_temp\n",
    "\n",
    "\n",
    "tmp = train_agumented_df\n",
    "\n",
    "for img, label, prob in zip(tmp.images_rgb.values, tmp.label.values, tmp.prediction_prob.values):\n",
    "\n",
    "    #if prob < 0.99:\n",
    "    X_list, Y_list  = data_aug( img, label)\n",
    "    tmp_df = pd.DataFrame({'images_rgb': [img for img in X_list]})\n",
    "    tmp_df[\"label\"] = Y_list\n",
    "    train_agumented_df = pd.concat([train_agumented_df, tmp_df], axis = 0 )"
   ]
  },
  {
   "cell_type": "code",
   "execution_count": 48,
   "id": "b738ceb0",
   "metadata": {},
   "outputs": [
    {
     "data": {
      "text/plain": [
       "(240000, 3)"
      ]
     },
     "execution_count": 48,
     "metadata": {},
     "output_type": "execute_result"
    }
   ],
   "source": [
    "train_agumented_df.shape"
   ]
  },
  {
   "cell_type": "code",
   "execution_count": 49,
   "id": "a34b5ed9",
   "metadata": {},
   "outputs": [
    {
     "data": {
      "text/plain": [
       "images_rgb              0\n",
       "label                   0\n",
       "prediction_prob    180000\n",
       "dtype: int64"
      ]
     },
     "execution_count": 49,
     "metadata": {},
     "output_type": "execute_result"
    }
   ],
   "source": [
    "train_agumented_df.isna().sum()"
   ]
  },
  {
   "cell_type": "code",
   "execution_count": 50,
   "id": "8ed081bd",
   "metadata": {},
   "outputs": [
    {
     "data": {
      "text/plain": [
       "<Axes: >"
      ]
     },
     "execution_count": 50,
     "metadata": {},
     "output_type": "execute_result"
    },
    {
     "data": {
      "image/png": "[encoded data removed]",
      "text/plain": [
       "<Figure size 640x480 with 1 Axes>"
      ]
     },
     "metadata": {},
     "output_type": "display_data"
    }
   ],
   "source": [
    "train_agumented_df.label.value_counts().plot(kind=\"bar\")"
   ]
  },
  {
   "cell_type": "markdown",
   "id": "f8c50d8b",
   "metadata": {},
   "source": [
    "# Retraining with new data "
   ]
  },
  {
   "cell_type": "code",
   "execution_count": 51,
   "id": "3ea886da",
   "metadata": {},
   "outputs": [],
   "source": [
    "stage = \"train\"\n",
    "# for best_hps in tuner.get_best_hyperparameters(num_trials=1):\n",
    "#     print(f\"Best Hyperparameters: {best_hps.__dict__}\")\n",
    "#     model_v2 = tuner.hypermodel.build(best_hps)  # Build the model with best hyperparameters\n"
   ]
  },
  {
   "cell_type": "code",
   "execution_count": 52,
   "id": "63069a05",
   "metadata": {},
   "outputs": [],
   "source": [
    "%load_ext tensorboard\n"
   ]
  },
  {
   "cell_type": "code",
   "execution_count": 53,
   "id": "4f482841",
   "metadata": {},
   "outputs": [
    {
     "name": "stdout",
     "output_type": "stream",
     "text": [
      "Reloading Tuner from hyperparameter_tuning_v2/digit_hyperparam/tuner0.json\n"
     ]
    }
   ],
   "source": [
    "tensorboard_callback = tf.keras.callbacks.TensorBoard(log_dir=f\"logs/{stage}/\")\n",
    "\n",
    "train_input = np.array([img for img in train_agumented_df.images_rgb.values]).reshape(len(train_agumented_df), W, H, 3)\n",
    "test_input = np.array([img for img in test_df.images_rgb.values]).reshape(len(test_df), W, H, 3)\n",
    "\n",
    "y_train = train_agumented_df.label.values\n",
    "y_test = test_df.label.values\n",
    "\n",
    "tensorboard_callback = tf.keras.callbacks.TensorBoard(log_dir=f\"logs/tunning_{stage}/\")\n",
    "\n",
    "\n",
    "tuner = kt.BayesianOptimization(\n",
    "            create_model,\n",
    "            objective= kt.Objective('val_f1_m', direction=\"max\"), \n",
    "            max_trials = 30,\n",
    "            # distribution_strategy= strategy,\n",
    "            directory=\"hyperparameter_tuning_v2\",\n",
    "            project_name=\"digit_hyperparam\",\n",
    "            #seed=0\n",
    "        )\n",
    "\n",
    "\n",
    "tuner.search(train_input, \n",
    "          y_train , \n",
    "          validation_data=(test_input, y_test),\n",
    "          epochs= 150, \n",
    "          batch_size = 1024,\n",
    "          callbacks=[tensorboard_callback]\n",
    "        )\n"
   ]
  },
  {
   "cell_type": "code",
   "execution_count": 54,
   "id": "1e6acfb2",
   "metadata": {},
   "outputs": [
    {
     "name": "stdout",
     "output_type": "stream",
     "text": [
      "Best Hyperparameters: {'_name_scopes': [], '_conditions': [], '_hps': defaultdict(<class 'list'>, {'n_conv_layers': [Int(name: 'n_conv_layers', min_value: 2, max_value: 4, step: 1, sampling: linear, default: 2)], 'use_batch_norm': [Choice(name: 'use_batch_norm', values: [1, 0], ordered: True, default: 1)], 'use_dropout': [Choice(name: 'use_dropout', values: [1, 0], ordered: True, default: 1)], 'learning_rate': [Float(name: 'learning_rate', min_value: '1e-06', max_value: '0.001', step: 'None', sampling: 'linear', default: '1e-06')], 'conv_0_unit': [Int(name: 'conv_0_unit', min_value: 32, max_value: 256, step: 32, sampling: linear, default: 32)], 'conv_0_filter': [Int(name: 'conv_0_filter', min_value: 2, max_value: 5, step: 1, sampling: linear, default: 2)], 'dropout_rate_0': [Float(name: 'dropout_rate_0', min_value: '0.1', max_value: '0.5', step: 'None', sampling: 'linear', default: '0.1')], 'conv_1_unit': [Int(name: 'conv_1_unit', min_value: 32, max_value: 256, step: 32, sampling: linear, default: 32)], 'conv_1_filter': [Int(name: 'conv_1_filter', min_value: 2, max_value: 5, step: 1, sampling: linear, default: 2)], 'dropout_rate_1': [Float(name: 'dropout_rate_1', min_value: '0.1', max_value: '0.5', step: 'None', sampling: 'linear', default: '0.1')], 'conv_2_unit': [Int(name: 'conv_2_unit', min_value: 32, max_value: 256, step: 32, sampling: linear, default: 32)], 'conv_2_filter': [Int(name: 'conv_2_filter', min_value: 2, max_value: 5, step: 1, sampling: linear, default: 2)], 'conv_3_unit': [Int(name: 'conv_3_unit', min_value: 32, max_value: 256, step: 32, sampling: linear, default: 32)], 'conv_3_filter': [Int(name: 'conv_3_filter', min_value: 2, max_value: 5, step: 1, sampling: linear, default: 2)], 'dropout_rate_2': [Float(name: 'dropout_rate_2', min_value: '0.1', max_value: '0.5', step: 'None', sampling: 'linear', default: '0.1')], 'dropout_rate_3': [Float(name: 'dropout_rate_3', min_value: '0.1', max_value: '0.5', step: 'None', sampling: 'linear', default: '0.1')]}), '_space': [Int(name: 'n_conv_layers', min_value: 2, max_value: 4, step: 1, sampling: linear, default: 2), Choice(name: 'use_batch_norm', values: [1, 0], ordered: True, default: 1), Choice(name: 'use_dropout', values: [1, 0], ordered: True, default: 1), Float(name: 'learning_rate', min_value: '1e-06', max_value: '0.001', step: 'None', sampling: 'linear', default: '1e-06'), Int(name: 'conv_0_unit', min_value: 32, max_value: 256, step: 32, sampling: linear, default: 32), Int(name: 'conv_0_filter', min_value: 2, max_value: 5, step: 1, sampling: linear, default: 2), Float(name: 'dropout_rate_0', min_value: '0.1', max_value: '0.5', step: 'None', sampling: 'linear', default: '0.1'), Int(name: 'conv_1_unit', min_value: 32, max_value: 256, step: 32, sampling: linear, default: 32), Int(name: 'conv_1_filter', min_value: 2, max_value: 5, step: 1, sampling: linear, default: 2), Float(name: 'dropout_rate_1', min_value: '0.1', max_value: '0.5', step: 'None', sampling: 'linear', default: '0.1'), Int(name: 'conv_2_unit', min_value: 32, max_value: 256, step: 32, sampling: linear, default: 32), Int(name: 'conv_2_filter', min_value: 2, max_value: 5, step: 1, sampling: linear, default: 2), Int(name: 'conv_3_unit', min_value: 32, max_value: 256, step: 32, sampling: linear, default: 32), Int(name: 'conv_3_filter', min_value: 2, max_value: 5, step: 1, sampling: linear, default: 2), Float(name: 'dropout_rate_2', min_value: '0.1', max_value: '0.5', step: 'None', sampling: 'linear', default: '0.1'), Float(name: 'dropout_rate_3', min_value: '0.1', max_value: '0.5', step: 'None', sampling: 'linear', default: '0.1')], 'values': {'n_conv_layers': 3, 'use_batch_norm': 1, 'use_dropout': 1, 'learning_rate': 0.0003472733366548156, 'conv_0_unit': 224, 'conv_0_filter': 4, 'dropout_rate_0': 0.17207696739406064, 'conv_1_unit': 192, 'conv_1_filter': 3, 'dropout_rate_1': 0.23539041029946917, 'conv_2_unit': 256, 'conv_2_filter': 4, 'conv_3_unit': 32, 'conv_3_filter': 3, 'dropout_rate_2': 0.2925262984881567, 'dropout_rate_3': 0.25758923781520654}, 'active_scopes': [], 'inactive_scopes': []}\n"
     ]
    },
    {
     "name": "stderr",
     "output_type": "stream",
     "text": [
      "/home/n/anaconda3/envs/AI_env/lib/python3.11/site-packages/keras/src/layers/convolutional/base_conv.py:107: UserWarning: Do not pass an `input_shape`/`input_dim` argument to a layer. When using Sequential models, prefer using an `Input(shape)` object as the first layer in the model instead.\n",
      "  super().__init__(activity_regularizer=activity_regularizer, **kwargs)\n"
     ]
    },
    {
     "name": "stdout",
     "output_type": "stream",
     "text": [
      "Epoch 1/150\n"
     ]
    },
    {
     "name": "stderr",
     "output_type": "stream",
     "text": [
      "WARNING: All log messages before absl::InitializeLog() is called are written to STDERR\n",
      "I0000 00:00:1720501306.474190    8155 asm_compiler.cc:369] ptxas warning : Registers are spilled to local memory in function 'triton_gemm_dot_2527', 160 bytes spill stores, 156 bytes spill loads\n",
      "\n"
     ]
    },
    {
     "name": "stdout",
     "output_type": "stream",
     "text": [
      "\u001b[1m235/235\u001b[0m \u001b[32m━━━━━━━━━━━━━━━━━━━━\u001b[0m\u001b[37m\u001b[0m \u001b[1m69s\u001b[0m 185ms/step - f1_m: 0.9884 - loss: 0.5252 - precision_m: 0.9895 - recall_m: 0.9876 - sparse_categorical_accuracy: 0.8668 - val_f1_m: 0.9984 - val_loss: 0.0930 - val_precision_m: 0.9982 - val_recall_m: 0.9986 - val_sparse_categorical_accuracy: 0.9791\n",
      "Epoch 2/150\n",
      "\u001b[1m235/235\u001b[0m \u001b[32m━━━━━━━━━━━━━━━━━━━━\u001b[0m\u001b[37m\u001b[0m \u001b[1m29s\u001b[0m 122ms/step - f1_m: 0.9982 - loss: 0.1168 - precision_m: 0.9981 - recall_m: 0.9982 - sparse_categorical_accuracy: 0.9715 - val_f1_m: 0.9986 - val_loss: 0.1495 - val_precision_m: 0.9992 - val_recall_m: 0.9980 - val_sparse_categorical_accuracy: 0.9747\n",
      "Epoch 3/150\n",
      "\u001b[1m235/235\u001b[0m \u001b[32m━━━━━━━━━━━━━━━━━━━━\u001b[0m\u001b[37m\u001b[0m \u001b[1m29s\u001b[0m 123ms/step - f1_m: 0.9986 - loss: 0.0948 - precision_m: 0.9986 - recall_m: 0.9986 - sparse_categorical_accuracy: 0.9783 - val_f1_m: 0.9989 - val_loss: 0.0912 - val_precision_m: 0.9985 - val_recall_m: 0.9992 - val_sparse_categorical_accuracy: 0.9840\n",
      "Epoch 4/150\n",
      "\u001b[1m235/235\u001b[0m \u001b[32m━━━━━━━━━━━━━━━━━━━━\u001b[0m\u001b[37m\u001b[0m \u001b[1m29s\u001b[0m 123ms/step - f1_m: 0.9988 - loss: 0.0801 - precision_m: 0.9988 - recall_m: 0.9988 - sparse_categorical_accuracy: 0.9823 - val_f1_m: 0.9988 - val_loss: 0.1155 - val_precision_m: 0.9992 - val_recall_m: 0.9983 - val_sparse_categorical_accuracy: 0.9829\n",
      "Epoch 5/150\n",
      "\u001b[1m235/235\u001b[0m \u001b[32m━━━━━━━━━━━━━━━━━━━━\u001b[0m\u001b[37m\u001b[0m \u001b[1m29s\u001b[0m 122ms/step - f1_m: 0.9992 - loss: 0.0675 - precision_m: 0.9992 - recall_m: 0.9991 - sparse_categorical_accuracy: 0.9850 - val_f1_m: 0.9991 - val_loss: 0.0858 - val_precision_m: 0.9996 - val_recall_m: 0.9987 - val_sparse_categorical_accuracy: 0.9871\n",
      "Epoch 6/150\n",
      "\u001b[1m235/235\u001b[0m \u001b[32m━━━━━━━━━━━━━━━━━━━━\u001b[0m\u001b[37m\u001b[0m \u001b[1m29s\u001b[0m 122ms/step - f1_m: 0.9993 - loss: 0.0529 - precision_m: 0.9993 - recall_m: 0.9993 - sparse_categorical_accuracy: 0.9877 - val_f1_m: 0.9994 - val_loss: 0.0942 - val_precision_m: 0.9995 - val_recall_m: 0.9994 - val_sparse_categorical_accuracy: 0.9848\n",
      "Epoch 7/150\n",
      "\u001b[1m235/235\u001b[0m \u001b[32m━━━━━━━━━━━━━━━━━━━━\u001b[0m\u001b[37m\u001b[0m \u001b[1m29s\u001b[0m 122ms/step - f1_m: 0.9994 - loss: 0.0449 - precision_m: 0.9994 - recall_m: 0.9995 - sparse_categorical_accuracy: 0.9895 - val_f1_m: 0.9995 - val_loss: 0.0782 - val_precision_m: 0.9998 - val_recall_m: 0.9992 - val_sparse_categorical_accuracy: 0.9885\n",
      "Epoch 8/150\n",
      "\u001b[1m235/235\u001b[0m \u001b[32m━━━━━━━━━━━━━━━━━━━━\u001b[0m\u001b[37m\u001b[0m \u001b[1m29s\u001b[0m 121ms/step - f1_m: 0.9994 - loss: 0.0449 - precision_m: 0.9994 - recall_m: 0.9994 - sparse_categorical_accuracy: 0.9899 - val_f1_m: 0.9995 - val_loss: 0.0749 - val_precision_m: 0.9996 - val_recall_m: 0.9994 - val_sparse_categorical_accuracy: 0.9890\n",
      "Epoch 9/150\n",
      "\u001b[1m235/235\u001b[0m \u001b[32m━━━━━━━━━━━━━━━━━━━━\u001b[0m\u001b[37m\u001b[0m \u001b[1m29s\u001b[0m 121ms/step - f1_m: 0.9995 - loss: 0.0347 - precision_m: 0.9995 - recall_m: 0.9995 - sparse_categorical_accuracy: 0.9919 - val_f1_m: 0.9992 - val_loss: 0.0899 - val_precision_m: 0.9992 - val_recall_m: 0.9991 - val_sparse_categorical_accuracy: 0.9882\n",
      "Epoch 10/150\n",
      "\u001b[1m235/235\u001b[0m \u001b[32m━━━━━━━━━━━━━━━━━━━━\u001b[0m\u001b[37m\u001b[0m \u001b[1m30s\u001b[0m 129ms/step - f1_m: 0.9995 - loss: 0.0338 - precision_m: 0.9995 - recall_m: 0.9996 - sparse_categorical_accuracy: 0.9920 - val_f1_m: 0.9994 - val_loss: 0.0748 - val_precision_m: 0.9994 - val_recall_m: 0.9995 - val_sparse_categorical_accuracy: 0.9895\n",
      "Epoch 11/150\n",
      "\u001b[1m235/235\u001b[0m \u001b[32m━━━━━━━━━━━━━━━━━━━━\u001b[0m\u001b[37m\u001b[0m \u001b[1m31s\u001b[0m 130ms/step - f1_m: 0.9996 - loss: 0.0289 - precision_m: 0.9996 - recall_m: 0.9995 - sparse_categorical_accuracy: 0.9932 - val_f1_m: 0.9992 - val_loss: 0.0793 - val_precision_m: 0.9997 - val_recall_m: 0.9987 - val_sparse_categorical_accuracy: 0.9897\n",
      "Epoch 12/150\n",
      "\u001b[1m235/235\u001b[0m \u001b[32m━━━━━━━━━━━━━━━━━━━━\u001b[0m\u001b[37m\u001b[0m \u001b[1m31s\u001b[0m 133ms/step - f1_m: 0.9996 - loss: 0.0237 - precision_m: 0.9996 - recall_m: 0.9996 - sparse_categorical_accuracy: 0.9943 - val_f1_m: 0.9992 - val_loss: 0.0894 - val_precision_m: 0.9998 - val_recall_m: 0.9985 - val_sparse_categorical_accuracy: 0.9891\n",
      "Epoch 13/150\n",
      "\u001b[1m235/235\u001b[0m \u001b[32m━━━━━━━━━━━━━━━━━━━━\u001b[0m\u001b[37m\u001b[0m \u001b[1m31s\u001b[0m 133ms/step - f1_m: 0.9997 - loss: 0.0205 - precision_m: 0.9997 - recall_m: 0.9997 - sparse_categorical_accuracy: 0.9949 - val_f1_m: 0.9988 - val_loss: 0.1159 - val_precision_m: 0.9995 - val_recall_m: 0.9981 - val_sparse_categorical_accuracy: 0.9868\n",
      "Epoch 14/150\n",
      "\u001b[1m235/235\u001b[0m \u001b[32m━━━━━━━━━━━━━━━━━━━━\u001b[0m\u001b[37m\u001b[0m \u001b[1m31s\u001b[0m 133ms/step - f1_m: 0.9997 - loss: 0.0189 - precision_m: 0.9998 - recall_m: 0.9997 - sparse_categorical_accuracy: 0.9953 - val_f1_m: 0.9992 - val_loss: 0.1065 - val_precision_m: 0.9997 - val_recall_m: 0.9987 - val_sparse_categorical_accuracy: 0.9869\n",
      "Epoch 15/150\n",
      "\u001b[1m235/235\u001b[0m \u001b[32m━━━━━━━━━━━━━━━━━━━━\u001b[0m\u001b[37m\u001b[0m \u001b[1m31s\u001b[0m 131ms/step - f1_m: 0.9998 - loss: 0.0190 - precision_m: 0.9998 - recall_m: 0.9998 - sparse_categorical_accuracy: 0.9954 - val_f1_m: 0.9992 - val_loss: 0.0956 - val_precision_m: 0.9996 - val_recall_m: 0.9988 - val_sparse_categorical_accuracy: 0.9894\n",
      "Epoch 16/150\n",
      "\u001b[1m235/235\u001b[0m \u001b[32m━━━━━━━━━━━━━━━━━━━━\u001b[0m\u001b[37m\u001b[0m \u001b[1m31s\u001b[0m 132ms/step - f1_m: 0.9998 - loss: 0.0177 - precision_m: 0.9998 - recall_m: 0.9998 - sparse_categorical_accuracy: 0.9956 - val_f1_m: 0.9994 - val_loss: 0.0974 - val_precision_m: 0.9995 - val_recall_m: 0.9992 - val_sparse_categorical_accuracy: 0.9893\n",
      "Epoch 17/150\n",
      "\u001b[1m235/235\u001b[0m \u001b[32m━━━━━━━━━━━━━━━━━━━━\u001b[0m\u001b[37m\u001b[0m \u001b[1m31s\u001b[0m 133ms/step - f1_m: 0.9998 - loss: 0.0171 - precision_m: 0.9998 - recall_m: 0.9998 - sparse_categorical_accuracy: 0.9960 - val_f1_m: 0.9990 - val_loss: 0.0998 - val_precision_m: 0.9999 - val_recall_m: 0.9981 - val_sparse_categorical_accuracy: 0.9900\n",
      "Epoch 18/150\n",
      "\u001b[1m235/235\u001b[0m \u001b[32m━━━━━━━━━━━━━━━━━━━━\u001b[0m\u001b[37m\u001b[0m \u001b[1m31s\u001b[0m 132ms/step - f1_m: 0.9998 - loss: 0.0160 - precision_m: 0.9999 - recall_m: 0.9998 - sparse_categorical_accuracy: 0.9961 - val_f1_m: 0.9995 - val_loss: 0.0983 - val_precision_m: 0.9997 - val_recall_m: 0.9993 - val_sparse_categorical_accuracy: 0.9883\n",
      "Epoch 19/150\n",
      "\u001b[1m235/235\u001b[0m \u001b[32m━━━━━━━━━━━━━━━━━━━━\u001b[0m\u001b[37m\u001b[0m \u001b[1m31s\u001b[0m 131ms/step - f1_m: 0.9998 - loss: 0.0153 - precision_m: 0.9998 - recall_m: 0.9998 - sparse_categorical_accuracy: 0.9963 - val_f1_m: 0.9994 - val_loss: 0.0934 - val_precision_m: 0.9998 - val_recall_m: 0.9990 - val_sparse_categorical_accuracy: 0.9908\n",
      "Epoch 20/150\n",
      "\u001b[1m235/235\u001b[0m \u001b[32m━━━━━━━━━━━━━━━━━━━━\u001b[0m\u001b[37m\u001b[0m \u001b[1m31s\u001b[0m 132ms/step - f1_m: 0.9998 - loss: 0.0155 - precision_m: 0.9998 - recall_m: 0.9998 - sparse_categorical_accuracy: 0.9964 - val_f1_m: 0.9994 - val_loss: 0.1071 - val_precision_m: 0.9997 - val_recall_m: 0.9990 - val_sparse_categorical_accuracy: 0.9899\n",
      "Epoch 21/150\n",
      "\u001b[1m235/235\u001b[0m \u001b[32m━━━━━━━━━━━━━━━━━━━━\u001b[0m\u001b[37m\u001b[0m \u001b[1m31s\u001b[0m 133ms/step - f1_m: 0.9998 - loss: 0.0167 - precision_m: 0.9998 - recall_m: 0.9998 - sparse_categorical_accuracy: 0.9964 - val_f1_m: 0.9995 - val_loss: 0.0895 - val_precision_m: 0.9998 - val_recall_m: 0.9992 - val_sparse_categorical_accuracy: 0.9912\n",
      "Epoch 22/150\n",
      "\u001b[1m235/235\u001b[0m \u001b[32m━━━━━━━━━━━━━━━━━━━━\u001b[0m\u001b[37m\u001b[0m \u001b[1m31s\u001b[0m 133ms/step - f1_m: 0.9997 - loss: 0.0183 - precision_m: 0.9997 - recall_m: 0.9997 - sparse_categorical_accuracy: 0.9963 - val_f1_m: 0.9991 - val_loss: 0.0969 - val_precision_m: 0.9996 - val_recall_m: 0.9986 - val_sparse_categorical_accuracy: 0.9903\n",
      "Epoch 23/150\n",
      "\u001b[1m235/235\u001b[0m \u001b[32m━━━━━━━━━━━━━━━━━━━━\u001b[0m\u001b[37m\u001b[0m \u001b[1m31s\u001b[0m 133ms/step - f1_m: 0.9999 - loss: 0.0128 - precision_m: 0.9999 - recall_m: 0.9999 - sparse_categorical_accuracy: 0.9973 - val_f1_m: 0.9991 - val_loss: 0.1010 - val_precision_m: 0.9996 - val_recall_m: 0.9987 - val_sparse_categorical_accuracy: 0.9905\n",
      "Epoch 24/150\n",
      "\u001b[1m235/235\u001b[0m \u001b[32m━━━━━━━━━━━━━━━━━━━━\u001b[0m\u001b[37m\u001b[0m \u001b[1m31s\u001b[0m 133ms/step - f1_m: 0.9998 - loss: 0.0123 - precision_m: 0.9999 - recall_m: 0.9998 - sparse_categorical_accuracy: 0.9973 - val_f1_m: 0.9995 - val_loss: 0.1198 - val_precision_m: 0.9995 - val_recall_m: 0.9995 - val_sparse_categorical_accuracy: 0.9901\n",
      "Epoch 25/150\n",
      "\u001b[1m235/235\u001b[0m \u001b[32m━━━━━━━━━━━━━━━━━━━━\u001b[0m\u001b[37m\u001b[0m \u001b[1m31s\u001b[0m 131ms/step - f1_m: 0.9999 - loss: 0.0099 - precision_m: 0.9999 - recall_m: 0.9999 - sparse_categorical_accuracy: 0.9978 - val_f1_m: 0.9993 - val_loss: 0.1147 - val_precision_m: 0.9993 - val_recall_m: 0.9994 - val_sparse_categorical_accuracy: 0.9892\n",
      "Epoch 26/150\n",
      "\u001b[1m235/235\u001b[0m \u001b[32m━━━━━━━━━━━━━━━━━━━━\u001b[0m\u001b[37m\u001b[0m \u001b[1m31s\u001b[0m 131ms/step - f1_m: 0.9998 - loss: 0.0122 - precision_m: 0.9998 - recall_m: 0.9998 - sparse_categorical_accuracy: 0.9973 - val_f1_m: 0.9994 - val_loss: 0.1322 - val_precision_m: 0.9997 - val_recall_m: 0.9990 - val_sparse_categorical_accuracy: 0.9907\n",
      "Epoch 27/150\n",
      "\u001b[1m235/235\u001b[0m \u001b[32m━━━━━━━━━━━━━━━━━━━━\u001b[0m\u001b[37m\u001b[0m \u001b[1m30s\u001b[0m 129ms/step - f1_m: 0.9999 - loss: 0.0097 - precision_m: 0.9999 - recall_m: 0.9999 - sparse_categorical_accuracy: 0.9978 - val_f1_m: 0.9995 - val_loss: 0.1071 - val_precision_m: 0.9997 - val_recall_m: 0.9992 - val_sparse_categorical_accuracy: 0.9909\n",
      "Epoch 28/150\n",
      "\u001b[1m235/235\u001b[0m \u001b[32m━━━━━━━━━━━━━━━━━━━━\u001b[0m\u001b[37m\u001b[0m \u001b[1m31s\u001b[0m 130ms/step - f1_m: 0.9999 - loss: 0.0115 - precision_m: 0.9999 - recall_m: 0.9998 - sparse_categorical_accuracy: 0.9976 - val_f1_m: 0.9994 - val_loss: 0.0962 - val_precision_m: 0.9998 - val_recall_m: 0.9990 - val_sparse_categorical_accuracy: 0.9923\n",
      "Epoch 29/150\n",
      "\u001b[1m235/235\u001b[0m \u001b[32m━━━━━━━━━━━━━━━━━━━━\u001b[0m\u001b[37m\u001b[0m \u001b[1m31s\u001b[0m 131ms/step - f1_m: 0.9998 - loss: 0.0110 - precision_m: 0.9999 - recall_m: 0.9998 - sparse_categorical_accuracy: 0.9978 - val_f1_m: 0.9994 - val_loss: 0.1046 - val_precision_m: 0.9998 - val_recall_m: 0.9990 - val_sparse_categorical_accuracy: 0.9900\n",
      "Epoch 30/150\n",
      "\u001b[1m235/235\u001b[0m \u001b[32m━━━━━━━━━━━━━━━━━━━━\u001b[0m\u001b[37m\u001b[0m \u001b[1m31s\u001b[0m 133ms/step - f1_m: 0.9998 - loss: 0.0109 - precision_m: 0.9998 - recall_m: 0.9998 - sparse_categorical_accuracy: 0.9977 - val_f1_m: 0.9990 - val_loss: 0.0974 - val_precision_m: 0.9993 - val_recall_m: 0.9988 - val_sparse_categorical_accuracy: 0.9908\n",
      "Epoch 31/150\n",
      "\u001b[1m235/235\u001b[0m \u001b[32m━━━━━━━━━━━━━━━━━━━━\u001b[0m\u001b[37m\u001b[0m \u001b[1m31s\u001b[0m 132ms/step - f1_m: 0.9998 - loss: 0.0126 - precision_m: 0.9998 - recall_m: 0.9998 - sparse_categorical_accuracy: 0.9976 - val_f1_m: 0.9992 - val_loss: 0.1274 - val_precision_m: 0.9991 - val_recall_m: 0.9994 - val_sparse_categorical_accuracy: 0.9910\n",
      "Epoch 32/150\n",
      "\u001b[1m235/235\u001b[0m \u001b[32m━━━━━━━━━━━━━━━━━━━━\u001b[0m\u001b[37m\u001b[0m \u001b[1m31s\u001b[0m 133ms/step - f1_m: 0.9999 - loss: 0.0115 - precision_m: 0.9998 - recall_m: 0.9999 - sparse_categorical_accuracy: 0.9977 - val_f1_m: 0.9992 - val_loss: 0.1183 - val_precision_m: 0.9995 - val_recall_m: 0.9990 - val_sparse_categorical_accuracy: 0.9894\n",
      "Epoch 33/150\n",
      "\u001b[1m235/235\u001b[0m \u001b[32m━━━━━━━━━━━━━━━━━━━━\u001b[0m\u001b[37m\u001b[0m \u001b[1m31s\u001b[0m 132ms/step - f1_m: 0.9999 - loss: 0.0095 - precision_m: 0.9999 - recall_m: 0.9999 - sparse_categorical_accuracy: 0.9980 - val_f1_m: 0.9992 - val_loss: 0.1025 - val_precision_m: 0.9998 - val_recall_m: 0.9987 - val_sparse_categorical_accuracy: 0.9921\n",
      "Epoch 34/150\n",
      "\u001b[1m235/235\u001b[0m \u001b[32m━━━━━━━━━━━━━━━━━━━━\u001b[0m\u001b[37m\u001b[0m \u001b[1m31s\u001b[0m 131ms/step - f1_m: 0.9999 - loss: 0.0105 - precision_m: 0.9999 - recall_m: 0.9999 - sparse_categorical_accuracy: 0.9978 - val_f1_m: 0.9993 - val_loss: 0.1095 - val_precision_m: 0.9998 - val_recall_m: 0.9988 - val_sparse_categorical_accuracy: 0.9911\n",
      "Epoch 35/150\n",
      "\u001b[1m235/235\u001b[0m \u001b[32m━━━━━━━━━━━━━━━━━━━━\u001b[0m\u001b[37m\u001b[0m \u001b[1m31s\u001b[0m 130ms/step - f1_m: 0.9999 - loss: 0.0094 - precision_m: 0.9999 - recall_m: 0.9999 - sparse_categorical_accuracy: 0.9981 - val_f1_m: 0.9989 - val_loss: 0.1420 - val_precision_m: 0.9987 - val_recall_m: 0.9990 - val_sparse_categorical_accuracy: 0.9891\n",
      "Epoch 36/150\n",
      "\u001b[1m235/235\u001b[0m \u001b[32m━━━━━━━━━━━━━━━━━━━━\u001b[0m\u001b[37m\u001b[0m \u001b[1m31s\u001b[0m 130ms/step - f1_m: 0.9999 - loss: 0.0088 - precision_m: 0.9999 - recall_m: 0.9999 - sparse_categorical_accuracy: 0.9982 - val_f1_m: 0.9993 - val_loss: 0.1287 - val_precision_m: 0.9997 - val_recall_m: 0.9989 - val_sparse_categorical_accuracy: 0.9903\n",
      "Epoch 37/150\n",
      "\u001b[1m235/235\u001b[0m \u001b[32m━━━━━━━━━━━━━━━━━━━━\u001b[0m\u001b[37m\u001b[0m \u001b[1m30s\u001b[0m 128ms/step - f1_m: 0.9999 - loss: 0.0090 - precision_m: 0.9999 - recall_m: 0.9999 - sparse_categorical_accuracy: 0.9983 - val_f1_m: 0.9994 - val_loss: 0.1220 - val_precision_m: 0.9998 - val_recall_m: 0.9990 - val_sparse_categorical_accuracy: 0.9915\n",
      "Epoch 38/150\n",
      "\u001b[1m235/235\u001b[0m \u001b[32m━━━━━━━━━━━━━━━━━━━━\u001b[0m\u001b[37m\u001b[0m \u001b[1m30s\u001b[0m 128ms/step - f1_m: 0.9999 - loss: 0.0080 - precision_m: 0.9999 - recall_m: 0.9999 - sparse_categorical_accuracy: 0.9984 - val_f1_m: 0.9993 - val_loss: 0.1522 - val_precision_m: 0.9998 - val_recall_m: 0.9987 - val_sparse_categorical_accuracy: 0.9908\n",
      "Epoch 39/150\n",
      "\u001b[1m235/235\u001b[0m \u001b[32m━━━━━━━━━━━━━━━━━━━━\u001b[0m\u001b[37m\u001b[0m \u001b[1m30s\u001b[0m 128ms/step - f1_m: 1.0000 - loss: 0.0082 - precision_m: 1.0000 - recall_m: 0.9999 - sparse_categorical_accuracy: 0.9986 - val_f1_m: 0.9994 - val_loss: 0.1360 - val_precision_m: 0.9997 - val_recall_m: 0.9991 - val_sparse_categorical_accuracy: 0.9906\n",
      "Epoch 40/150\n",
      "\u001b[1m235/235\u001b[0m \u001b[32m━━━━━━━━━━━━━━━━━━━━\u001b[0m\u001b[37m\u001b[0m \u001b[1m30s\u001b[0m 130ms/step - f1_m: 0.9999 - loss: 0.0065 - precision_m: 0.9999 - recall_m: 0.9999 - sparse_categorical_accuracy: 0.9987 - val_f1_m: 0.9989 - val_loss: 0.1883 - val_precision_m: 0.9998 - val_recall_m: 0.9979 - val_sparse_categorical_accuracy: 0.9884\n",
      "Epoch 41/150\n",
      "\u001b[1m235/235\u001b[0m \u001b[32m━━━━━━━━━━━━━━━━━━━━\u001b[0m\u001b[37m\u001b[0m \u001b[1m31s\u001b[0m 132ms/step - f1_m: 0.9999 - loss: 0.0070 - precision_m: 0.9999 - recall_m: 0.9999 - sparse_categorical_accuracy: 0.9985 - val_f1_m: 0.9995 - val_loss: 0.1133 - val_precision_m: 0.9995 - val_recall_m: 0.9996 - val_sparse_categorical_accuracy: 0.9917\n",
      "Epoch 42/150\n",
      "\u001b[1m235/235\u001b[0m \u001b[32m━━━━━━━━━━━━━━━━━━━━\u001b[0m\u001b[37m\u001b[0m \u001b[1m30s\u001b[0m 129ms/step - f1_m: 0.9999 - loss: 0.0079 - precision_m: 0.9999 - recall_m: 0.9999 - sparse_categorical_accuracy: 0.9985 - val_f1_m: 0.9993 - val_loss: 0.1210 - val_precision_m: 0.9995 - val_recall_m: 0.9992 - val_sparse_categorical_accuracy: 0.9917\n",
      "Epoch 43/150\n",
      "\u001b[1m235/235\u001b[0m \u001b[32m━━━━━━━━━━━━━━━━━━━━\u001b[0m\u001b[37m\u001b[0m \u001b[1m31s\u001b[0m 130ms/step - f1_m: 0.9999 - loss: 0.0066 - precision_m: 0.9999 - recall_m: 0.9999 - sparse_categorical_accuracy: 0.9985 - val_f1_m: 0.9992 - val_loss: 0.1068 - val_precision_m: 0.9997 - val_recall_m: 0.9988 - val_sparse_categorical_accuracy: 0.9923\n",
      "Epoch 44/150\n",
      "\u001b[1m235/235\u001b[0m \u001b[32m━━━━━━━━━━━━━━━━━━━━\u001b[0m\u001b[37m\u001b[0m \u001b[1m30s\u001b[0m 128ms/step - f1_m: 1.0000 - loss: 0.0077 - precision_m: 1.0000 - recall_m: 0.9999 - sparse_categorical_accuracy: 0.9985 - val_f1_m: 0.9993 - val_loss: 0.1325 - val_precision_m: 0.9996 - val_recall_m: 0.9990 - val_sparse_categorical_accuracy: 0.9910\n",
      "Epoch 45/150\n",
      "\u001b[1m235/235\u001b[0m \u001b[32m━━━━━━━━━━━━━━━━━━━━\u001b[0m\u001b[37m\u001b[0m \u001b[1m30s\u001b[0m 129ms/step - f1_m: 0.9999 - loss: 0.0074 - precision_m: 0.9999 - recall_m: 0.9999 - sparse_categorical_accuracy: 0.9987 - val_f1_m: 0.9996 - val_loss: 0.1336 - val_precision_m: 0.9995 - val_recall_m: 0.9998 - val_sparse_categorical_accuracy: 0.9923\n",
      "Epoch 46/150\n",
      "\u001b[1m235/235\u001b[0m \u001b[32m━━━━━━━━━━━━━━━━━━━━\u001b[0m\u001b[37m\u001b[0m \u001b[1m30s\u001b[0m 129ms/step - f1_m: 1.0000 - loss: 0.0065 - precision_m: 1.0000 - recall_m: 1.0000 - sparse_categorical_accuracy: 0.9987 - val_f1_m: 0.9995 - val_loss: 0.1741 - val_precision_m: 0.9996 - val_recall_m: 0.9994 - val_sparse_categorical_accuracy: 0.9895\n",
      "Epoch 47/150\n",
      "\u001b[1m235/235\u001b[0m \u001b[32m━━━━━━━━━━━━━━━━━━━━\u001b[0m\u001b[37m\u001b[0m \u001b[1m30s\u001b[0m 128ms/step - f1_m: 0.9999 - loss: 0.0070 - precision_m: 0.9999 - recall_m: 0.9999 - sparse_categorical_accuracy: 0.9987 - val_f1_m: 0.9994 - val_loss: 0.1745 - val_precision_m: 0.9995 - val_recall_m: 0.9992 - val_sparse_categorical_accuracy: 0.9894\n",
      "Epoch 48/150\n",
      "\u001b[1m235/235\u001b[0m \u001b[32m━━━━━━━━━━━━━━━━━━━━\u001b[0m\u001b[37m\u001b[0m \u001b[1m30s\u001b[0m 129ms/step - f1_m: 0.9999 - loss: 0.0060 - precision_m: 0.9999 - recall_m: 0.9999 - sparse_categorical_accuracy: 0.9988 - val_f1_m: 0.9997 - val_loss: 0.1303 - val_precision_m: 0.9998 - val_recall_m: 0.9996 - val_sparse_categorical_accuracy: 0.9912\n",
      "Epoch 49/150\n",
      "\u001b[1m235/235\u001b[0m \u001b[32m━━━━━━━━━━━━━━━━━━━━\u001b[0m\u001b[37m\u001b[0m \u001b[1m31s\u001b[0m 133ms/step - f1_m: 0.9999 - loss: 0.0066 - precision_m: 0.9999 - recall_m: 0.9999 - sparse_categorical_accuracy: 0.9987 - val_f1_m: 0.9994 - val_loss: 0.1420 - val_precision_m: 0.9997 - val_recall_m: 0.9991 - val_sparse_categorical_accuracy: 0.9916\n",
      "Epoch 50/150\n",
      "\u001b[1m235/235\u001b[0m \u001b[32m━━━━━━━━━━━━━━━━━━━━\u001b[0m\u001b[37m\u001b[0m \u001b[1m31s\u001b[0m 132ms/step - f1_m: 1.0000 - loss: 0.0071 - precision_m: 1.0000 - recall_m: 1.0000 - sparse_categorical_accuracy: 0.9988 - val_f1_m: 0.9995 - val_loss: 0.1635 - val_precision_m: 0.9995 - val_recall_m: 0.9995 - val_sparse_categorical_accuracy: 0.9903\n",
      "Epoch 51/150\n",
      "\u001b[1m235/235\u001b[0m \u001b[32m━━━━━━━━━━━━━━━━━━━━\u001b[0m\u001b[37m\u001b[0m \u001b[1m31s\u001b[0m 130ms/step - f1_m: 0.9999 - loss: 0.0070 - precision_m: 0.9999 - recall_m: 0.9999 - sparse_categorical_accuracy: 0.9987 - val_f1_m: 0.9994 - val_loss: 0.1759 - val_precision_m: 0.9998 - val_recall_m: 0.9991 - val_sparse_categorical_accuracy: 0.9912\n",
      "Epoch 52/150\n",
      "\u001b[1m235/235\u001b[0m \u001b[32m━━━━━━━━━━━━━━━━━━━━\u001b[0m\u001b[37m\u001b[0m \u001b[1m30s\u001b[0m 129ms/step - f1_m: 0.9999 - loss: 0.0055 - precision_m: 0.9999 - recall_m: 0.9999 - sparse_categorical_accuracy: 0.9989 - val_f1_m: 0.9995 - val_loss: 0.1712 - val_precision_m: 0.9998 - val_recall_m: 0.9992 - val_sparse_categorical_accuracy: 0.9908\n",
      "Epoch 53/150\n",
      "\u001b[1m235/235\u001b[0m \u001b[32m━━━━━━━━━━━━━━━━━━━━\u001b[0m\u001b[37m\u001b[0m \u001b[1m29s\u001b[0m 124ms/step - f1_m: 0.9999 - loss: 0.0047 - precision_m: 0.9999 - recall_m: 0.9999 - sparse_categorical_accuracy: 0.9991 - val_f1_m: 0.9990 - val_loss: 0.1684 - val_precision_m: 0.9999 - val_recall_m: 0.9981 - val_sparse_categorical_accuracy: 0.9907\n",
      "Epoch 54/150\n",
      "\u001b[1m235/235\u001b[0m \u001b[32m━━━━━━━━━━━━━━━━━━━━\u001b[0m\u001b[37m\u001b[0m \u001b[1m29s\u001b[0m 122ms/step - f1_m: 0.9999 - loss: 0.0068 - precision_m: 1.0000 - recall_m: 0.9999 - sparse_categorical_accuracy: 0.9988 - val_f1_m: 0.9994 - val_loss: 0.1468 - val_precision_m: 0.9998 - val_recall_m: 0.9991 - val_sparse_categorical_accuracy: 0.9911\n",
      "Epoch 55/150\n",
      "\u001b[1m235/235\u001b[0m \u001b[32m━━━━━━━━━━━━━━━━━━━━\u001b[0m\u001b[37m\u001b[0m \u001b[1m29s\u001b[0m 123ms/step - f1_m: 0.9999 - loss: 0.0086 - precision_m: 0.9999 - recall_m: 0.9999 - sparse_categorical_accuracy: 0.9986 - val_f1_m: 0.9991 - val_loss: 0.1647 - val_precision_m: 0.9997 - val_recall_m: 0.9986 - val_sparse_categorical_accuracy: 0.9906\n",
      "Epoch 56/150\n",
      "\u001b[1m235/235\u001b[0m \u001b[32m━━━━━━━━━━━━━━━━━━━━\u001b[0m\u001b[37m\u001b[0m \u001b[1m29s\u001b[0m 123ms/step - f1_m: 0.9999 - loss: 0.0054 - precision_m: 0.9999 - recall_m: 0.9999 - sparse_categorical_accuracy: 0.9990 - val_f1_m: 0.9993 - val_loss: 0.1810 - val_precision_m: 0.9998 - val_recall_m: 0.9988 - val_sparse_categorical_accuracy: 0.9916\n",
      "Epoch 57/150\n",
      "\u001b[1m235/235\u001b[0m \u001b[32m━━━━━━━━━━━━━━━━━━━━\u001b[0m\u001b[37m\u001b[0m \u001b[1m29s\u001b[0m 122ms/step - f1_m: 0.9999 - loss: 0.0059 - precision_m: 0.9999 - recall_m: 0.9999 - sparse_categorical_accuracy: 0.9988 - val_f1_m: 0.9989 - val_loss: 0.1641 - val_precision_m: 0.9996 - val_recall_m: 0.9982 - val_sparse_categorical_accuracy: 0.9904\n",
      "Epoch 58/150\n",
      "\u001b[1m235/235\u001b[0m \u001b[32m━━━━━━━━━━━━━━━━━━━━\u001b[0m\u001b[37m\u001b[0m \u001b[1m29s\u001b[0m 124ms/step - f1_m: 0.9999 - loss: 0.0041 - precision_m: 0.9999 - recall_m: 0.9999 - sparse_categorical_accuracy: 0.9993 - val_f1_m: 0.9993 - val_loss: 0.1572 - val_precision_m: 0.9996 - val_recall_m: 0.9990 - val_sparse_categorical_accuracy: 0.9913\n",
      "Epoch 59/150\n",
      "\u001b[1m235/235\u001b[0m \u001b[32m━━━━━━━━━━━━━━━━━━━━\u001b[0m\u001b[37m\u001b[0m \u001b[1m29s\u001b[0m 123ms/step - f1_m: 1.0000 - loss: 0.0048 - precision_m: 1.0000 - recall_m: 1.0000 - sparse_categorical_accuracy: 0.9991 - val_f1_m: 0.9992 - val_loss: 0.1405 - val_precision_m: 0.9997 - val_recall_m: 0.9988 - val_sparse_categorical_accuracy: 0.9921\n",
      "Epoch 60/150\n",
      "\u001b[1m235/235\u001b[0m \u001b[32m━━━━━━━━━━━━━━━━━━━━\u001b[0m\u001b[37m\u001b[0m \u001b[1m29s\u001b[0m 122ms/step - f1_m: 1.0000 - loss: 0.0058 - precision_m: 1.0000 - recall_m: 1.0000 - sparse_categorical_accuracy: 0.9990 - val_f1_m: 0.9994 - val_loss: 0.1699 - val_precision_m: 0.9997 - val_recall_m: 0.9990 - val_sparse_categorical_accuracy: 0.9908\n",
      "Epoch 61/150\n",
      "\u001b[1m235/235\u001b[0m \u001b[32m━━━━━━━━━━━━━━━━━━━━\u001b[0m\u001b[37m\u001b[0m \u001b[1m29s\u001b[0m 122ms/step - f1_m: 0.9999 - loss: 0.0058 - precision_m: 0.9999 - recall_m: 0.9999 - sparse_categorical_accuracy: 0.9989 - val_f1_m: 0.9996 - val_loss: 0.1342 - val_precision_m: 0.9996 - val_recall_m: 0.9996 - val_sparse_categorical_accuracy: 0.9923\n",
      "Epoch 62/150\n",
      "\u001b[1m235/235\u001b[0m \u001b[32m━━━━━━━━━━━━━━━━━━━━\u001b[0m\u001b[37m\u001b[0m \u001b[1m29s\u001b[0m 122ms/step - f1_m: 1.0000 - loss: 0.0039 - precision_m: 1.0000 - recall_m: 1.0000 - sparse_categorical_accuracy: 0.9993 - val_f1_m: 0.9996 - val_loss: 0.1766 - val_precision_m: 0.9999 - val_recall_m: 0.9992 - val_sparse_categorical_accuracy: 0.9908\n",
      "Epoch 63/150\n",
      "\u001b[1m235/235\u001b[0m \u001b[32m━━━━━━━━━━━━━━━━━━━━\u001b[0m\u001b[37m\u001b[0m \u001b[1m28s\u001b[0m 121ms/step - f1_m: 0.9999 - loss: 0.0054 - precision_m: 0.9999 - recall_m: 0.9999 - sparse_categorical_accuracy: 0.9990 - val_f1_m: 0.9993 - val_loss: 0.1408 - val_precision_m: 0.9998 - val_recall_m: 0.9989 - val_sparse_categorical_accuracy: 0.9917\n",
      "Epoch 64/150\n",
      "\u001b[1m235/235\u001b[0m \u001b[32m━━━━━━━━━━━━━━━━━━━━\u001b[0m\u001b[37m\u001b[0m \u001b[1m29s\u001b[0m 121ms/step - f1_m: 0.9999 - loss: 0.0049 - precision_m: 0.9999 - recall_m: 0.9999 - sparse_categorical_accuracy: 0.9990 - val_f1_m: 0.9994 - val_loss: 0.1544 - val_precision_m: 0.9997 - val_recall_m: 0.9991 - val_sparse_categorical_accuracy: 0.9913\n",
      "Epoch 65/150\n",
      "\u001b[1m235/235\u001b[0m \u001b[32m━━━━━━━━━━━━━━━━━━━━\u001b[0m\u001b[37m\u001b[0m \u001b[1m29s\u001b[0m 121ms/step - f1_m: 0.9999 - loss: 0.0056 - precision_m: 0.9999 - recall_m: 1.0000 - sparse_categorical_accuracy: 0.9991 - val_f1_m: 0.9994 - val_loss: 0.1379 - val_precision_m: 0.9997 - val_recall_m: 0.9992 - val_sparse_categorical_accuracy: 0.9923\n",
      "Epoch 66/150\n",
      "\u001b[1m235/235\u001b[0m \u001b[32m━━━━━━━━━━━━━━━━━━━━\u001b[0m\u001b[37m\u001b[0m \u001b[1m29s\u001b[0m 121ms/step - f1_m: 1.0000 - loss: 0.0044 - precision_m: 1.0000 - recall_m: 1.0000 - sparse_categorical_accuracy: 0.9993 - val_f1_m: 0.9991 - val_loss: 0.1812 - val_precision_m: 0.9998 - val_recall_m: 0.9984 - val_sparse_categorical_accuracy: 0.9908\n",
      "Epoch 67/150\n",
      "\u001b[1m235/235\u001b[0m \u001b[32m━━━━━━━━━━━━━━━━━━━━\u001b[0m\u001b[37m\u001b[0m \u001b[1m29s\u001b[0m 121ms/step - f1_m: 1.0000 - loss: 0.0039 - precision_m: 1.0000 - recall_m: 1.0000 - sparse_categorical_accuracy: 0.9993 - val_f1_m: 0.9993 - val_loss: 0.2108 - val_precision_m: 0.9997 - val_recall_m: 0.9989 - val_sparse_categorical_accuracy: 0.9884\n",
      "Epoch 68/150\n",
      "\u001b[1m235/235\u001b[0m \u001b[32m━━━━━━━━━━━━━━━━━━━━\u001b[0m\u001b[37m\u001b[0m \u001b[1m28s\u001b[0m 121ms/step - f1_m: 0.9999 - loss: 0.0047 - precision_m: 0.9999 - recall_m: 0.9999 - sparse_categorical_accuracy: 0.9991 - val_f1_m: 0.9993 - val_loss: 0.1358 - val_precision_m: 0.9998 - val_recall_m: 0.9988 - val_sparse_categorical_accuracy: 0.9916\n",
      "Epoch 69/150\n",
      "\u001b[1m235/235\u001b[0m \u001b[32m━━━━━━━━━━━━━━━━━━━━\u001b[0m\u001b[37m\u001b[0m \u001b[1m29s\u001b[0m 121ms/step - f1_m: 1.0000 - loss: 0.0037 - precision_m: 1.0000 - recall_m: 1.0000 - sparse_categorical_accuracy: 0.9993 - val_f1_m: 0.9996 - val_loss: 0.1502 - val_precision_m: 0.9997 - val_recall_m: 0.9996 - val_sparse_categorical_accuracy: 0.9914\n",
      "Epoch 70/150\n",
      "\u001b[1m235/235\u001b[0m \u001b[32m━━━━━━━━━━━━━━━━━━━━\u001b[0m\u001b[37m\u001b[0m \u001b[1m29s\u001b[0m 122ms/step - f1_m: 0.9999 - loss: 0.0049 - precision_m: 0.9999 - recall_m: 0.9999 - sparse_categorical_accuracy: 0.9991 - val_f1_m: 0.9993 - val_loss: 0.1627 - val_precision_m: 0.9998 - val_recall_m: 0.9988 - val_sparse_categorical_accuracy: 0.9907\n",
      "Epoch 71/150\n",
      "\u001b[1m235/235\u001b[0m \u001b[32m━━━━━━━━━━━━━━━━━━━━\u001b[0m\u001b[37m\u001b[0m \u001b[1m28s\u001b[0m 121ms/step - f1_m: 0.9999 - loss: 0.0052 - precision_m: 0.9999 - recall_m: 0.9999 - sparse_categorical_accuracy: 0.9992 - val_f1_m: 0.9994 - val_loss: 0.1499 - val_precision_m: 0.9997 - val_recall_m: 0.9990 - val_sparse_categorical_accuracy: 0.9910\n",
      "Epoch 72/150\n",
      "\u001b[1m235/235\u001b[0m \u001b[32m━━━━━━━━━━━━━━━━━━━━\u001b[0m\u001b[37m\u001b[0m \u001b[1m29s\u001b[0m 123ms/step - f1_m: 1.0000 - loss: 0.0046 - precision_m: 1.0000 - recall_m: 1.0000 - sparse_categorical_accuracy: 0.9992 - val_f1_m: 0.9996 - val_loss: 0.1342 - val_precision_m: 0.9997 - val_recall_m: 0.9996 - val_sparse_categorical_accuracy: 0.9929\n",
      "Epoch 73/150\n",
      "\u001b[1m235/235\u001b[0m \u001b[32m━━━━━━━━━━━━━━━━━━━━\u001b[0m\u001b[37m\u001b[0m \u001b[1m29s\u001b[0m 122ms/step - f1_m: 0.9999 - loss: 0.0042 - precision_m: 0.9999 - recall_m: 0.9999 - sparse_categorical_accuracy: 0.9993 - val_f1_m: 0.9996 - val_loss: 0.1564 - val_precision_m: 0.9996 - val_recall_m: 0.9996 - val_sparse_categorical_accuracy: 0.9918\n",
      "Epoch 74/150\n",
      "\u001b[1m235/235\u001b[0m \u001b[32m━━━━━━━━━━━━━━━━━━━━\u001b[0m\u001b[37m\u001b[0m \u001b[1m29s\u001b[0m 122ms/step - f1_m: 1.0000 - loss: 0.0034 - precision_m: 0.9999 - recall_m: 1.0000 - sparse_categorical_accuracy: 0.9994 - val_f1_m: 0.9997 - val_loss: 0.1571 - val_precision_m: 0.9999 - val_recall_m: 0.9996 - val_sparse_categorical_accuracy: 0.9922\n",
      "Epoch 75/150\n",
      "\u001b[1m235/235\u001b[0m \u001b[32m━━━━━━━━━━━━━━━━━━━━\u001b[0m\u001b[37m\u001b[0m \u001b[1m29s\u001b[0m 121ms/step - f1_m: 1.0000 - loss: 0.0039 - precision_m: 1.0000 - recall_m: 1.0000 - sparse_categorical_accuracy: 0.9993 - val_f1_m: 0.9994 - val_loss: 0.1808 - val_precision_m: 0.9997 - val_recall_m: 0.9991 - val_sparse_categorical_accuracy: 0.9916\n",
      "Epoch 76/150\n",
      "\u001b[1m235/235\u001b[0m \u001b[32m━━━━━━━━━━━━━━━━━━━━\u001b[0m\u001b[37m\u001b[0m \u001b[1m29s\u001b[0m 121ms/step - f1_m: 0.9999 - loss: 0.0033 - precision_m: 0.9999 - recall_m: 0.9999 - sparse_categorical_accuracy: 0.9994 - val_f1_m: 0.9994 - val_loss: 0.1309 - val_precision_m: 0.9994 - val_recall_m: 0.9994 - val_sparse_categorical_accuracy: 0.9929\n",
      "Epoch 77/150\n",
      "\u001b[1m235/235\u001b[0m \u001b[32m━━━━━━━━━━━━━━━━━━━━\u001b[0m\u001b[37m\u001b[0m \u001b[1m28s\u001b[0m 121ms/step - f1_m: 0.9999 - loss: 0.0045 - precision_m: 0.9999 - recall_m: 1.0000 - sparse_categorical_accuracy: 0.9992 - val_f1_m: 0.9993 - val_loss: 0.1548 - val_precision_m: 0.9998 - val_recall_m: 0.9988 - val_sparse_categorical_accuracy: 0.9916\n",
      "Epoch 78/150\n",
      "\u001b[1m235/235\u001b[0m \u001b[32m━━━━━━━━━━━━━━━━━━━━\u001b[0m\u001b[37m\u001b[0m \u001b[1m28s\u001b[0m 121ms/step - f1_m: 1.0000 - loss: 0.0064 - precision_m: 1.0000 - recall_m: 1.0000 - sparse_categorical_accuracy: 0.9991 - val_f1_m: 0.9988 - val_loss: 0.1843 - val_precision_m: 0.9999 - val_recall_m: 0.9978 - val_sparse_categorical_accuracy: 0.9905\n",
      "Epoch 79/150\n",
      "\u001b[1m235/235\u001b[0m \u001b[32m━━━━━━━━━━━━━━━━━━━━\u001b[0m\u001b[37m\u001b[0m \u001b[1m29s\u001b[0m 121ms/step - f1_m: 0.9999 - loss: 0.0042 - precision_m: 1.0000 - recall_m: 0.9999 - sparse_categorical_accuracy: 0.9993 - val_f1_m: 0.9995 - val_loss: 0.1498 - val_precision_m: 0.9997 - val_recall_m: 0.9992 - val_sparse_categorical_accuracy: 0.9930\n",
      "Epoch 80/150\n",
      "\u001b[1m235/235\u001b[0m \u001b[32m━━━━━━━━━━━━━━━━━━━━\u001b[0m\u001b[37m\u001b[0m \u001b[1m28s\u001b[0m 121ms/step - f1_m: 1.0000 - loss: 0.0039 - precision_m: 1.0000 - recall_m: 1.0000 - sparse_categorical_accuracy: 0.9993 - val_f1_m: 0.9996 - val_loss: 0.1758 - val_precision_m: 0.9998 - val_recall_m: 0.9994 - val_sparse_categorical_accuracy: 0.9917\n",
      "Epoch 81/150\n",
      "\u001b[1m235/235\u001b[0m \u001b[32m━━━━━━━━━━━━━━━━━━━━\u001b[0m\u001b[37m\u001b[0m \u001b[1m29s\u001b[0m 122ms/step - f1_m: 0.9999 - loss: 0.0040 - precision_m: 0.9999 - recall_m: 1.0000 - sparse_categorical_accuracy: 0.9992 - val_f1_m: 0.9993 - val_loss: 0.1678 - val_precision_m: 0.9997 - val_recall_m: 0.9989 - val_sparse_categorical_accuracy: 0.9922\n",
      "Epoch 82/150\n",
      "\u001b[1m235/235\u001b[0m \u001b[32m━━━━━━━━━━━━━━━━━━━━\u001b[0m\u001b[37m\u001b[0m \u001b[1m29s\u001b[0m 122ms/step - f1_m: 1.0000 - loss: 0.0040 - precision_m: 1.0000 - recall_m: 1.0000 - sparse_categorical_accuracy: 0.9993 - val_f1_m: 0.9995 - val_loss: 0.1592 - val_precision_m: 0.9999 - val_recall_m: 0.9990 - val_sparse_categorical_accuracy: 0.9914\n",
      "Epoch 83/150\n",
      "\u001b[1m235/235\u001b[0m \u001b[32m━━━━━━━━━━━━━━━━━━━━\u001b[0m\u001b[37m\u001b[0m \u001b[1m29s\u001b[0m 122ms/step - f1_m: 1.0000 - loss: 0.0053 - precision_m: 1.0000 - recall_m: 1.0000 - sparse_categorical_accuracy: 0.9992 - val_f1_m: 0.9995 - val_loss: 0.1580 - val_precision_m: 0.9999 - val_recall_m: 0.9991 - val_sparse_categorical_accuracy: 0.9923\n",
      "Epoch 84/150\n",
      "\u001b[1m235/235\u001b[0m \u001b[32m━━━━━━━━━━━━━━━━━━━━\u001b[0m\u001b[37m\u001b[0m \u001b[1m29s\u001b[0m 121ms/step - f1_m: 1.0000 - loss: 0.0036 - precision_m: 1.0000 - recall_m: 1.0000 - sparse_categorical_accuracy: 0.9994 - val_f1_m: 0.9994 - val_loss: 0.1699 - val_precision_m: 0.9997 - val_recall_m: 0.9990 - val_sparse_categorical_accuracy: 0.9910\n",
      "Epoch 85/150\n",
      "\u001b[1m235/235\u001b[0m \u001b[32m━━━━━━━━━━━━━━━━━━━━\u001b[0m\u001b[37m\u001b[0m \u001b[1m28s\u001b[0m 121ms/step - f1_m: 1.0000 - loss: 0.0031 - precision_m: 1.0000 - recall_m: 1.0000 - sparse_categorical_accuracy: 0.9995 - val_f1_m: 0.9996 - val_loss: 0.1662 - val_precision_m: 0.9999 - val_recall_m: 0.9993 - val_sparse_categorical_accuracy: 0.9926\n",
      "Epoch 86/150\n",
      "\u001b[1m235/235\u001b[0m \u001b[32m━━━━━━━━━━━━━━━━━━━━\u001b[0m\u001b[37m\u001b[0m \u001b[1m28s\u001b[0m 121ms/step - f1_m: 1.0000 - loss: 0.0042 - precision_m: 1.0000 - recall_m: 1.0000 - sparse_categorical_accuracy: 0.9993 - val_f1_m: 0.9993 - val_loss: 0.1886 - val_precision_m: 0.9998 - val_recall_m: 0.9989 - val_sparse_categorical_accuracy: 0.9922\n",
      "Epoch 87/150\n",
      "\u001b[1m235/235\u001b[0m \u001b[32m━━━━━━━━━━━━━━━━━━━━\u001b[0m\u001b[37m\u001b[0m \u001b[1m29s\u001b[0m 122ms/step - f1_m: 1.0000 - loss: 0.0041 - precision_m: 1.0000 - recall_m: 1.0000 - sparse_categorical_accuracy: 0.9994 - val_f1_m: 0.9993 - val_loss: 0.1634 - val_precision_m: 0.9999 - val_recall_m: 0.9988 - val_sparse_categorical_accuracy: 0.9924\n",
      "Epoch 88/150\n",
      "\u001b[1m235/235\u001b[0m \u001b[32m━━━━━━━━━━━━━━━━━━━━\u001b[0m\u001b[37m\u001b[0m \u001b[1m29s\u001b[0m 122ms/step - f1_m: 1.0000 - loss: 0.0049 - precision_m: 1.0000 - recall_m: 1.0000 - sparse_categorical_accuracy: 0.9993 - val_f1_m: 0.9994 - val_loss: 0.1875 - val_precision_m: 0.9998 - val_recall_m: 0.9990 - val_sparse_categorical_accuracy: 0.9923\n",
      "Epoch 89/150\n",
      "\u001b[1m235/235\u001b[0m \u001b[32m━━━━━━━━━━━━━━━━━━━━\u001b[0m\u001b[37m\u001b[0m \u001b[1m29s\u001b[0m 122ms/step - f1_m: 1.0000 - loss: 0.0025 - precision_m: 1.0000 - recall_m: 1.0000 - sparse_categorical_accuracy: 0.9995 - val_f1_m: 0.9995 - val_loss: 0.1627 - val_precision_m: 0.9999 - val_recall_m: 0.9991 - val_sparse_categorical_accuracy: 0.9928\n",
      "Epoch 90/150\n",
      "\u001b[1m235/235\u001b[0m \u001b[32m━━━━━━━━━━━━━━━━━━━━\u001b[0m\u001b[37m\u001b[0m \u001b[1m29s\u001b[0m 124ms/step - f1_m: 1.0000 - loss: 0.0032 - precision_m: 1.0000 - recall_m: 1.0000 - sparse_categorical_accuracy: 0.9993 - val_f1_m: 0.9995 - val_loss: 0.1943 - val_precision_m: 0.9996 - val_recall_m: 0.9995 - val_sparse_categorical_accuracy: 0.9923\n",
      "Epoch 91/150\n",
      "\u001b[1m235/235\u001b[0m \u001b[32m━━━━━━━━━━━━━━━━━━━━\u001b[0m\u001b[37m\u001b[0m \u001b[1m29s\u001b[0m 125ms/step - f1_m: 1.0000 - loss: 0.0030 - precision_m: 1.0000 - recall_m: 1.0000 - sparse_categorical_accuracy: 0.9995 - val_f1_m: 0.9996 - val_loss: 0.1554 - val_precision_m: 0.9997 - val_recall_m: 0.9996 - val_sparse_categorical_accuracy: 0.9925\n",
      "Epoch 92/150\n",
      "\u001b[1m235/235\u001b[0m \u001b[32m━━━━━━━━━━━━━━━━━━━━\u001b[0m\u001b[37m\u001b[0m \u001b[1m29s\u001b[0m 125ms/step - f1_m: 1.0000 - loss: 0.0025 - precision_m: 1.0000 - recall_m: 1.0000 - sparse_categorical_accuracy: 0.9995 - val_f1_m: 0.9996 - val_loss: 0.1594 - val_precision_m: 0.9997 - val_recall_m: 0.9996 - val_sparse_categorical_accuracy: 0.9919\n",
      "Epoch 93/150\n",
      "\u001b[1m235/235\u001b[0m \u001b[32m━━━━━━━━━━━━━━━━━━━━\u001b[0m\u001b[37m\u001b[0m \u001b[1m29s\u001b[0m 122ms/step - f1_m: 0.9999 - loss: 0.0050 - precision_m: 0.9999 - recall_m: 0.9999 - sparse_categorical_accuracy: 0.9991 - val_f1_m: 0.9995 - val_loss: 0.1580 - val_precision_m: 0.9998 - val_recall_m: 0.9992 - val_sparse_categorical_accuracy: 0.9927\n",
      "Epoch 94/150\n",
      "\u001b[1m235/235\u001b[0m \u001b[32m━━━━━━━━━━━━━━━━━━━━\u001b[0m\u001b[37m\u001b[0m \u001b[1m29s\u001b[0m 121ms/step - f1_m: 1.0000 - loss: 0.0026 - precision_m: 1.0000 - recall_m: 1.0000 - sparse_categorical_accuracy: 0.9995 - val_f1_m: 0.9996 - val_loss: 0.1418 - val_precision_m: 0.9996 - val_recall_m: 0.9996 - val_sparse_categorical_accuracy: 0.9936\n",
      "Epoch 95/150\n",
      "\u001b[1m235/235\u001b[0m \u001b[32m━━━━━━━━━━━━━━━━━━━━\u001b[0m\u001b[37m\u001b[0m \u001b[1m28s\u001b[0m 121ms/step - f1_m: 1.0000 - loss: 0.0029 - precision_m: 1.0000 - recall_m: 1.0000 - sparse_categorical_accuracy: 0.9995 - val_f1_m: 0.9995 - val_loss: 0.1554 - val_precision_m: 0.9996 - val_recall_m: 0.9995 - val_sparse_categorical_accuracy: 0.9926\n",
      "Epoch 96/150\n",
      "\u001b[1m235/235\u001b[0m \u001b[32m━━━━━━━━━━━━━━━━━━━━\u001b[0m\u001b[37m\u001b[0m \u001b[1m29s\u001b[0m 122ms/step - f1_m: 1.0000 - loss: 0.0044 - precision_m: 1.0000 - recall_m: 1.0000 - sparse_categorical_accuracy: 0.9994 - val_f1_m: 0.9995 - val_loss: 0.1713 - val_precision_m: 0.9996 - val_recall_m: 0.9995 - val_sparse_categorical_accuracy: 0.9919\n",
      "Epoch 97/150\n",
      "\u001b[1m235/235\u001b[0m \u001b[32m━━━━━━━━━━━━━━━━━━━━\u001b[0m\u001b[37m\u001b[0m \u001b[1m28s\u001b[0m 120ms/step - f1_m: 1.0000 - loss: 0.0025 - precision_m: 1.0000 - recall_m: 1.0000 - sparse_categorical_accuracy: 0.9996 - val_f1_m: 0.9995 - val_loss: 0.1810 - val_precision_m: 0.9996 - val_recall_m: 0.9995 - val_sparse_categorical_accuracy: 0.9916\n",
      "Epoch 98/150\n",
      "\u001b[1m235/235\u001b[0m \u001b[32m━━━━━━━━━━━━━━━━━━━━\u001b[0m\u001b[37m\u001b[0m \u001b[1m29s\u001b[0m 122ms/step - f1_m: 1.0000 - loss: 0.0024 - precision_m: 1.0000 - recall_m: 1.0000 - sparse_categorical_accuracy: 0.9996 - val_f1_m: 0.9994 - val_loss: 0.1725 - val_precision_m: 0.9998 - val_recall_m: 0.9989 - val_sparse_categorical_accuracy: 0.9918\n",
      "Epoch 99/150\n",
      "\u001b[1m235/235\u001b[0m \u001b[32m━━━━━━━━━━━━━━━━━━━━\u001b[0m\u001b[37m\u001b[0m \u001b[1m29s\u001b[0m 122ms/step - f1_m: 1.0000 - loss: 0.0034 - precision_m: 1.0000 - recall_m: 1.0000 - sparse_categorical_accuracy: 0.9994 - val_f1_m: 0.9996 - val_loss: 0.1927 - val_precision_m: 0.9998 - val_recall_m: 0.9994 - val_sparse_categorical_accuracy: 0.9913\n",
      "Epoch 100/150\n",
      "\u001b[1m235/235\u001b[0m \u001b[32m━━━━━━━━━━━━━━━━━━━━\u001b[0m\u001b[37m\u001b[0m \u001b[1m29s\u001b[0m 122ms/step - f1_m: 1.0000 - loss: 0.0032 - precision_m: 1.0000 - recall_m: 1.0000 - sparse_categorical_accuracy: 0.9994 - val_f1_m: 0.9992 - val_loss: 0.1892 - val_precision_m: 0.9997 - val_recall_m: 0.9988 - val_sparse_categorical_accuracy: 0.9911\n",
      "Epoch 101/150\n",
      "\u001b[1m235/235\u001b[0m \u001b[32m━━━━━━━━━━━━━━━━━━━━\u001b[0m\u001b[37m\u001b[0m \u001b[1m29s\u001b[0m 121ms/step - f1_m: 1.0000 - loss: 0.0032 - precision_m: 1.0000 - recall_m: 1.0000 - sparse_categorical_accuracy: 0.9994 - val_f1_m: 0.9996 - val_loss: 0.1829 - val_precision_m: 0.9997 - val_recall_m: 0.9995 - val_sparse_categorical_accuracy: 0.9928\n",
      "Epoch 102/150\n",
      "\u001b[1m235/235\u001b[0m \u001b[32m━━━━━━━━━━━━━━━━━━━━\u001b[0m\u001b[37m\u001b[0m \u001b[1m29s\u001b[0m 122ms/step - f1_m: 1.0000 - loss: 0.0026 - precision_m: 1.0000 - recall_m: 1.0000 - sparse_categorical_accuracy: 0.9995 - val_f1_m: 0.9994 - val_loss: 0.1752 - val_precision_m: 0.9998 - val_recall_m: 0.9990 - val_sparse_categorical_accuracy: 0.9932\n",
      "Epoch 103/150\n",
      "\u001b[1m235/235\u001b[0m \u001b[32m━━━━━━━━━━━━━━━━━━━━\u001b[0m\u001b[37m\u001b[0m \u001b[1m29s\u001b[0m 125ms/step - f1_m: 0.9999 - loss: 0.0045 - precision_m: 0.9999 - recall_m: 0.9999 - sparse_categorical_accuracy: 0.9993 - val_f1_m: 0.9994 - val_loss: 0.1925 - val_precision_m: 0.9998 - val_recall_m: 0.9990 - val_sparse_categorical_accuracy: 0.9919\n",
      "Epoch 104/150\n",
      "\u001b[1m235/235\u001b[0m \u001b[32m━━━━━━━━━━━━━━━━━━━━\u001b[0m\u001b[37m\u001b[0m \u001b[1m28s\u001b[0m 121ms/step - f1_m: 1.0000 - loss: 0.0039 - precision_m: 0.9999 - recall_m: 1.0000 - sparse_categorical_accuracy: 0.9994 - val_f1_m: 0.9994 - val_loss: 0.1746 - val_precision_m: 0.9998 - val_recall_m: 0.9990 - val_sparse_categorical_accuracy: 0.9925\n",
      "Epoch 105/150\n",
      "\u001b[1m235/235\u001b[0m \u001b[32m━━━━━━━━━━━━━━━━━━━━\u001b[0m\u001b[37m\u001b[0m \u001b[1m28s\u001b[0m 121ms/step - f1_m: 1.0000 - loss: 0.0029 - precision_m: 1.0000 - recall_m: 1.0000 - sparse_categorical_accuracy: 0.9995 - val_f1_m: 0.9994 - val_loss: 0.1719 - val_precision_m: 0.9997 - val_recall_m: 0.9991 - val_sparse_categorical_accuracy: 0.9923\n",
      "Epoch 106/150\n",
      "\u001b[1m235/235\u001b[0m \u001b[32m━━━━━━━━━━━━━━━━━━━━\u001b[0m\u001b[37m\u001b[0m \u001b[1m29s\u001b[0m 122ms/step - f1_m: 1.0000 - loss: 0.0039 - precision_m: 1.0000 - recall_m: 1.0000 - sparse_categorical_accuracy: 0.9994 - val_f1_m: 0.9996 - val_loss: 0.1488 - val_precision_m: 0.9998 - val_recall_m: 0.9994 - val_sparse_categorical_accuracy: 0.9935\n",
      "Epoch 107/150\n",
      "\u001b[1m235/235\u001b[0m \u001b[32m━━━━━━━━━━━━━━━━━━━━\u001b[0m\u001b[37m\u001b[0m \u001b[1m29s\u001b[0m 122ms/step - f1_m: 1.0000 - loss: 0.0028 - precision_m: 1.0000 - recall_m: 1.0000 - sparse_categorical_accuracy: 0.9996 - val_f1_m: 0.9995 - val_loss: 0.1686 - val_precision_m: 0.9998 - val_recall_m: 0.9991 - val_sparse_categorical_accuracy: 0.9937\n",
      "Epoch 108/150\n",
      "\u001b[1m235/235\u001b[0m \u001b[32m━━━━━━━━━━━━━━━━━━━━\u001b[0m\u001b[37m\u001b[0m \u001b[1m29s\u001b[0m 121ms/step - f1_m: 1.0000 - loss: 0.0028 - precision_m: 1.0000 - recall_m: 1.0000 - sparse_categorical_accuracy: 0.9995 - val_f1_m: 0.9992 - val_loss: 0.1891 - val_precision_m: 0.9999 - val_recall_m: 0.9986 - val_sparse_categorical_accuracy: 0.9927\n",
      "Epoch 109/150\n",
      "\u001b[1m235/235\u001b[0m \u001b[32m━━━━━━━━━━━━━━━━━━━━\u001b[0m\u001b[37m\u001b[0m \u001b[1m28s\u001b[0m 121ms/step - f1_m: 1.0000 - loss: 0.0035 - precision_m: 1.0000 - recall_m: 1.0000 - sparse_categorical_accuracy: 0.9994 - val_f1_m: 0.9997 - val_loss: 0.1669 - val_precision_m: 0.9999 - val_recall_m: 0.9996 - val_sparse_categorical_accuracy: 0.9936\n",
      "Epoch 110/150\n",
      "\u001b[1m235/235\u001b[0m \u001b[32m━━━━━━━━━━━━━━━━━━━━\u001b[0m\u001b[37m\u001b[0m \u001b[1m29s\u001b[0m 121ms/step - f1_m: 1.0000 - loss: 0.0036 - precision_m: 1.0000 - recall_m: 1.0000 - sparse_categorical_accuracy: 0.9995 - val_f1_m: 0.9995 - val_loss: 0.1906 - val_precision_m: 0.9999 - val_recall_m: 0.9991 - val_sparse_categorical_accuracy: 0.9928\n",
      "Epoch 111/150\n",
      "\u001b[1m235/235\u001b[0m \u001b[32m━━━━━━━━━━━━━━━━━━━━\u001b[0m\u001b[37m\u001b[0m \u001b[1m28s\u001b[0m 121ms/step - f1_m: 1.0000 - loss: 0.0033 - precision_m: 1.0000 - recall_m: 1.0000 - sparse_categorical_accuracy: 0.9995 - val_f1_m: 0.9995 - val_loss: 0.1990 - val_precision_m: 0.9996 - val_recall_m: 0.9995 - val_sparse_categorical_accuracy: 0.9919\n",
      "Epoch 112/150\n",
      "\u001b[1m235/235\u001b[0m \u001b[32m━━━━━━━━━━━━━━━━━━━━\u001b[0m\u001b[37m\u001b[0m \u001b[1m30s\u001b[0m 126ms/step - f1_m: 1.0000 - loss: 0.0032 - precision_m: 1.0000 - recall_m: 1.0000 - sparse_categorical_accuracy: 0.9995 - val_f1_m: 0.9993 - val_loss: 0.1868 - val_precision_m: 0.9999 - val_recall_m: 0.9987 - val_sparse_categorical_accuracy: 0.9923\n",
      "Epoch 113/150\n",
      "\u001b[1m235/235\u001b[0m \u001b[32m━━━━━━━━━━━━━━━━━━━━\u001b[0m\u001b[37m\u001b[0m \u001b[1m30s\u001b[0m 129ms/step - f1_m: 1.0000 - loss: 0.0026 - precision_m: 1.0000 - recall_m: 1.0000 - sparse_categorical_accuracy: 0.9996 - val_f1_m: 0.9996 - val_loss: 0.1740 - val_precision_m: 0.9998 - val_recall_m: 0.9995 - val_sparse_categorical_accuracy: 0.9925\n",
      "Epoch 114/150\n",
      "\u001b[1m235/235\u001b[0m \u001b[32m━━━━━━━━━━━━━━━━━━━━\u001b[0m\u001b[37m\u001b[0m \u001b[1m30s\u001b[0m 128ms/step - f1_m: 0.9999 - loss: 0.0036 - precision_m: 0.9999 - recall_m: 1.0000 - sparse_categorical_accuracy: 0.9995 - val_f1_m: 0.9995 - val_loss: 0.1926 - val_precision_m: 0.9999 - val_recall_m: 0.9990 - val_sparse_categorical_accuracy: 0.9928\n",
      "Epoch 115/150\n",
      "\u001b[1m235/235\u001b[0m \u001b[32m━━━━━━━━━━━━━━━━━━━━\u001b[0m\u001b[37m\u001b[0m \u001b[1m31s\u001b[0m 132ms/step - f1_m: 1.0000 - loss: 0.0023 - precision_m: 1.0000 - recall_m: 1.0000 - sparse_categorical_accuracy: 0.9997 - val_f1_m: 0.9993 - val_loss: 0.1891 - val_precision_m: 0.9998 - val_recall_m: 0.9988 - val_sparse_categorical_accuracy: 0.9919\n",
      "Epoch 116/150\n",
      "\u001b[1m235/235\u001b[0m \u001b[32m━━━━━━━━━━━━━━━━━━━━\u001b[0m\u001b[37m\u001b[0m \u001b[1m31s\u001b[0m 132ms/step - f1_m: 1.0000 - loss: 0.0040 - precision_m: 1.0000 - recall_m: 1.0000 - sparse_categorical_accuracy: 0.9995 - val_f1_m: 0.9995 - val_loss: 0.1818 - val_precision_m: 0.9998 - val_recall_m: 0.9992 - val_sparse_categorical_accuracy: 0.9918\n",
      "Epoch 117/150\n",
      "\u001b[1m235/235\u001b[0m \u001b[32m━━━━━━━━━━━━━━━━━━━━\u001b[0m\u001b[37m\u001b[0m \u001b[1m31s\u001b[0m 131ms/step - f1_m: 1.0000 - loss: 0.0041 - precision_m: 1.0000 - recall_m: 1.0000 - sparse_categorical_accuracy: 0.9994 - val_f1_m: 0.9995 - val_loss: 0.1700 - val_precision_m: 0.9998 - val_recall_m: 0.9992 - val_sparse_categorical_accuracy: 0.9921\n",
      "Epoch 118/150\n",
      "\u001b[1m235/235\u001b[0m \u001b[32m━━━━━━━━━━━━━━━━━━━━\u001b[0m\u001b[37m\u001b[0m \u001b[1m31s\u001b[0m 130ms/step - f1_m: 1.0000 - loss: 0.0019 - precision_m: 1.0000 - recall_m: 1.0000 - sparse_categorical_accuracy: 0.9997 - val_f1_m: 0.9995 - val_loss: 0.1704 - val_precision_m: 0.9997 - val_recall_m: 0.9992 - val_sparse_categorical_accuracy: 0.9926\n",
      "Epoch 119/150\n",
      "\u001b[1m235/235\u001b[0m \u001b[32m━━━━━━━━━━━━━━━━━━━━\u001b[0m\u001b[37m\u001b[0m \u001b[1m31s\u001b[0m 130ms/step - f1_m: 1.0000 - loss: 0.0022 - precision_m: 1.0000 - recall_m: 1.0000 - sparse_categorical_accuracy: 0.9996 - val_f1_m: 0.9993 - val_loss: 0.1935 - val_precision_m: 0.9997 - val_recall_m: 0.9989 - val_sparse_categorical_accuracy: 0.9910\n",
      "Epoch 120/150\n",
      "\u001b[1m235/235\u001b[0m \u001b[32m━━━━━━━━━━━━━━━━━━━━\u001b[0m\u001b[37m\u001b[0m \u001b[1m30s\u001b[0m 130ms/step - f1_m: 1.0000 - loss: 0.0033 - precision_m: 1.0000 - recall_m: 0.9999 - sparse_categorical_accuracy: 0.9995 - val_f1_m: 0.9994 - val_loss: 0.1713 - val_precision_m: 0.9998 - val_recall_m: 0.9991 - val_sparse_categorical_accuracy: 0.9921\n",
      "Epoch 121/150\n",
      "\u001b[1m235/235\u001b[0m \u001b[32m━━━━━━━━━━━━━━━━━━━━\u001b[0m\u001b[37m\u001b[0m \u001b[1m31s\u001b[0m 133ms/step - f1_m: 1.0000 - loss: 0.0023 - precision_m: 1.0000 - recall_m: 1.0000 - sparse_categorical_accuracy: 0.9996 - val_f1_m: 0.9995 - val_loss: 0.1867 - val_precision_m: 0.9999 - val_recall_m: 0.9991 - val_sparse_categorical_accuracy: 0.9920\n",
      "Epoch 122/150\n",
      "\u001b[1m235/235\u001b[0m \u001b[32m━━━━━━━━━━━━━━━━━━━━\u001b[0m\u001b[37m\u001b[0m \u001b[1m31s\u001b[0m 134ms/step - f1_m: 1.0000 - loss: 0.0016 - precision_m: 1.0000 - recall_m: 1.0000 - sparse_categorical_accuracy: 0.9997 - val_f1_m: 0.9996 - val_loss: 0.2092 - val_precision_m: 0.9998 - val_recall_m: 0.9995 - val_sparse_categorical_accuracy: 0.9920\n",
      "Epoch 123/150\n",
      "\u001b[1m235/235\u001b[0m \u001b[32m━━━━━━━━━━━━━━━━━━━━\u001b[0m\u001b[37m\u001b[0m \u001b[1m31s\u001b[0m 133ms/step - f1_m: 1.0000 - loss: 0.0039 - precision_m: 1.0000 - recall_m: 1.0000 - sparse_categorical_accuracy: 0.9994 - val_f1_m: 0.9993 - val_loss: 0.1946 - val_precision_m: 0.9997 - val_recall_m: 0.9990 - val_sparse_categorical_accuracy: 0.9922\n",
      "Epoch 124/150\n",
      "\u001b[1m235/235\u001b[0m \u001b[32m━━━━━━━━━━━━━━━━━━━━\u001b[0m\u001b[37m\u001b[0m \u001b[1m31s\u001b[0m 133ms/step - f1_m: 1.0000 - loss: 0.0015 - precision_m: 1.0000 - recall_m: 1.0000 - sparse_categorical_accuracy: 0.9997 - val_f1_m: 0.9995 - val_loss: 0.1902 - val_precision_m: 0.9997 - val_recall_m: 0.9994 - val_sparse_categorical_accuracy: 0.9918\n",
      "Epoch 125/150\n",
      "\u001b[1m235/235\u001b[0m \u001b[32m━━━━━━━━━━━━━━━━━━━━\u001b[0m\u001b[37m\u001b[0m \u001b[1m31s\u001b[0m 131ms/step - f1_m: 1.0000 - loss: 0.0019 - precision_m: 1.0000 - recall_m: 1.0000 - sparse_categorical_accuracy: 0.9997 - val_f1_m: 0.9995 - val_loss: 0.1476 - val_precision_m: 0.9998 - val_recall_m: 0.9991 - val_sparse_categorical_accuracy: 0.9932\n",
      "Epoch 126/150\n",
      "\u001b[1m235/235\u001b[0m \u001b[32m━━━━━━━━━━━━━━━━━━━━\u001b[0m\u001b[37m\u001b[0m \u001b[1m31s\u001b[0m 130ms/step - f1_m: 1.0000 - loss: 0.0039 - precision_m: 1.0000 - recall_m: 1.0000 - sparse_categorical_accuracy: 0.9995 - val_f1_m: 0.9996 - val_loss: 0.1689 - val_precision_m: 0.9997 - val_recall_m: 0.9995 - val_sparse_categorical_accuracy: 0.9931\n",
      "Epoch 127/150\n",
      "\u001b[1m235/235\u001b[0m \u001b[32m━━━━━━━━━━━━━━━━━━━━\u001b[0m\u001b[37m\u001b[0m \u001b[1m29s\u001b[0m 125ms/step - f1_m: 1.0000 - loss: 0.0027 - precision_m: 1.0000 - recall_m: 1.0000 - sparse_categorical_accuracy: 0.9996 - val_f1_m: 0.9996 - val_loss: 0.1631 - val_precision_m: 0.9997 - val_recall_m: 0.9996 - val_sparse_categorical_accuracy: 0.9921\n",
      "Epoch 128/150\n",
      "\u001b[1m235/235\u001b[0m \u001b[32m━━━━━━━━━━━━━━━━━━━━\u001b[0m\u001b[37m\u001b[0m \u001b[1m29s\u001b[0m 122ms/step - f1_m: 1.0000 - loss: 0.0035 - precision_m: 1.0000 - recall_m: 1.0000 - sparse_categorical_accuracy: 0.9995 - val_f1_m: 0.9995 - val_loss: 0.1598 - val_precision_m: 0.9997 - val_recall_m: 0.9994 - val_sparse_categorical_accuracy: 0.9924\n",
      "Epoch 129/150\n",
      "\u001b[1m235/235\u001b[0m \u001b[32m━━━━━━━━━━━━━━━━━━━━\u001b[0m\u001b[37m\u001b[0m \u001b[1m29s\u001b[0m 123ms/step - f1_m: 1.0000 - loss: 0.0032 - precision_m: 1.0000 - recall_m: 1.0000 - sparse_categorical_accuracy: 0.9994 - val_f1_m: 0.9997 - val_loss: 0.1591 - val_precision_m: 0.9999 - val_recall_m: 0.9995 - val_sparse_categorical_accuracy: 0.9924\n",
      "Epoch 130/150\n",
      "\u001b[1m235/235\u001b[0m \u001b[32m━━━━━━━━━━━━━━━━━━━━\u001b[0m\u001b[37m\u001b[0m \u001b[1m30s\u001b[0m 127ms/step - f1_m: 1.0000 - loss: 0.0032 - precision_m: 1.0000 - recall_m: 0.9999 - sparse_categorical_accuracy: 0.9995 - val_f1_m: 0.9996 - val_loss: 0.1421 - val_precision_m: 0.9997 - val_recall_m: 0.9996 - val_sparse_categorical_accuracy: 0.9934\n",
      "Epoch 131/150\n",
      "\u001b[1m235/235\u001b[0m \u001b[32m━━━━━━━━━━━━━━━━━━━━\u001b[0m\u001b[37m\u001b[0m \u001b[1m29s\u001b[0m 123ms/step - f1_m: 0.9999 - loss: 0.0035 - precision_m: 0.9999 - recall_m: 1.0000 - sparse_categorical_accuracy: 0.9995 - val_f1_m: 0.9996 - val_loss: 0.1623 - val_precision_m: 0.9999 - val_recall_m: 0.9994 - val_sparse_categorical_accuracy: 0.9929\n",
      "Epoch 132/150\n",
      "\u001b[1m235/235\u001b[0m \u001b[32m━━━━━━━━━━━━━━━━━━━━\u001b[0m\u001b[37m\u001b[0m \u001b[1m29s\u001b[0m 122ms/step - f1_m: 1.0000 - loss: 0.0031 - precision_m: 1.0000 - recall_m: 1.0000 - sparse_categorical_accuracy: 0.9995 - val_f1_m: 0.9997 - val_loss: 0.1643 - val_precision_m: 0.9999 - val_recall_m: 0.9996 - val_sparse_categorical_accuracy: 0.9928\n",
      "Epoch 133/150\n",
      "\u001b[1m235/235\u001b[0m \u001b[32m━━━━━━━━━━━━━━━━━━━━\u001b[0m\u001b[37m\u001b[0m \u001b[1m28s\u001b[0m 121ms/step - f1_m: 1.0000 - loss: 0.0015 - precision_m: 1.0000 - recall_m: 1.0000 - sparse_categorical_accuracy: 0.9997 - val_f1_m: 0.9996 - val_loss: 0.1790 - val_precision_m: 0.9999 - val_recall_m: 0.9994 - val_sparse_categorical_accuracy: 0.9915\n",
      "Epoch 134/150\n",
      "\u001b[1m235/235\u001b[0m \u001b[32m━━━━━━━━━━━━━━━━━━━━\u001b[0m\u001b[37m\u001b[0m \u001b[1m29s\u001b[0m 122ms/step - f1_m: 1.0000 - loss: 0.0021 - precision_m: 1.0000 - recall_m: 1.0000 - sparse_categorical_accuracy: 0.9997 - val_f1_m: 0.9995 - val_loss: 0.1736 - val_precision_m: 0.9999 - val_recall_m: 0.9990 - val_sparse_categorical_accuracy: 0.9928\n",
      "Epoch 135/150\n",
      "\u001b[1m235/235\u001b[0m \u001b[32m━━━━━━━━━━━━━━━━━━━━\u001b[0m\u001b[37m\u001b[0m \u001b[1m28s\u001b[0m 121ms/step - f1_m: 1.0000 - loss: 0.0025 - precision_m: 0.9999 - recall_m: 1.0000 - sparse_categorical_accuracy: 0.9996 - val_f1_m: 0.9995 - val_loss: 0.1677 - val_precision_m: 0.9999 - val_recall_m: 0.9992 - val_sparse_categorical_accuracy: 0.9925\n",
      "Epoch 136/150\n",
      "\u001b[1m235/235\u001b[0m \u001b[32m━━━━━━━━━━━━━━━━━━━━\u001b[0m\u001b[37m\u001b[0m \u001b[1m29s\u001b[0m 122ms/step - f1_m: 1.0000 - loss: 0.0026 - precision_m: 1.0000 - recall_m: 1.0000 - sparse_categorical_accuracy: 0.9996 - val_f1_m: 0.9995 - val_loss: 0.1727 - val_precision_m: 0.9996 - val_recall_m: 0.9994 - val_sparse_categorical_accuracy: 0.9918\n",
      "Epoch 137/150\n",
      "\u001b[1m235/235\u001b[0m \u001b[32m━━━━━━━━━━━━━━━━━━━━\u001b[0m\u001b[37m\u001b[0m \u001b[1m29s\u001b[0m 122ms/step - f1_m: 1.0000 - loss: 0.0025 - precision_m: 1.0000 - recall_m: 1.0000 - sparse_categorical_accuracy: 0.9997 - val_f1_m: 0.9996 - val_loss: 0.1745 - val_precision_m: 0.9998 - val_recall_m: 0.9994 - val_sparse_categorical_accuracy: 0.9927\n",
      "Epoch 138/150\n",
      "\u001b[1m235/235\u001b[0m \u001b[32m━━━━━━━━━━━━━━━━━━━━\u001b[0m\u001b[37m\u001b[0m \u001b[1m29s\u001b[0m 123ms/step - f1_m: 1.0000 - loss: 0.0034 - precision_m: 1.0000 - recall_m: 1.0000 - sparse_categorical_accuracy: 0.9996 - val_f1_m: 0.9997 - val_loss: 0.1745 - val_precision_m: 0.9998 - val_recall_m: 0.9996 - val_sparse_categorical_accuracy: 0.9930\n",
      "Epoch 139/150\n",
      "\u001b[1m235/235\u001b[0m \u001b[32m━━━━━━━━━━━━━━━━━━━━\u001b[0m\u001b[37m\u001b[0m \u001b[1m29s\u001b[0m 122ms/step - f1_m: 1.0000 - loss: 0.0026 - precision_m: 1.0000 - recall_m: 1.0000 - sparse_categorical_accuracy: 0.9996 - val_f1_m: 0.9996 - val_loss: 0.1722 - val_precision_m: 0.9998 - val_recall_m: 0.9994 - val_sparse_categorical_accuracy: 0.9929\n",
      "Epoch 140/150\n",
      "\u001b[1m235/235\u001b[0m \u001b[32m━━━━━━━━━━━━━━━━━━━━\u001b[0m\u001b[37m\u001b[0m \u001b[1m30s\u001b[0m 128ms/step - f1_m: 1.0000 - loss: 0.0027 - precision_m: 1.0000 - recall_m: 1.0000 - sparse_categorical_accuracy: 0.9996 - val_f1_m: 0.9996 - val_loss: 0.1581 - val_precision_m: 0.9999 - val_recall_m: 0.9994 - val_sparse_categorical_accuracy: 0.9927\n",
      "Epoch 141/150\n",
      "\u001b[1m235/235\u001b[0m \u001b[32m━━━━━━━━━━━━━━━━━━━━\u001b[0m\u001b[37m\u001b[0m \u001b[1m31s\u001b[0m 133ms/step - f1_m: 1.0000 - loss: 0.0017 - precision_m: 1.0000 - recall_m: 1.0000 - sparse_categorical_accuracy: 0.9997 - val_f1_m: 0.9994 - val_loss: 0.1685 - val_precision_m: 0.9997 - val_recall_m: 0.9991 - val_sparse_categorical_accuracy: 0.9930\n",
      "Epoch 142/150\n",
      "\u001b[1m235/235\u001b[0m \u001b[32m━━━━━━━━━━━━━━━━━━━━\u001b[0m\u001b[37m\u001b[0m \u001b[1m29s\u001b[0m 125ms/step - f1_m: 1.0000 - loss: 0.0030 - precision_m: 1.0000 - recall_m: 1.0000 - sparse_categorical_accuracy: 0.9996 - val_f1_m: 0.9995 - val_loss: 0.1787 - val_precision_m: 0.9997 - val_recall_m: 0.9994 - val_sparse_categorical_accuracy: 0.9923\n",
      "Epoch 143/150\n",
      "\u001b[1m235/235\u001b[0m \u001b[32m━━━━━━━━━━━━━━━━━━━━\u001b[0m\u001b[37m\u001b[0m \u001b[1m29s\u001b[0m 122ms/step - f1_m: 1.0000 - loss: 0.0025 - precision_m: 1.0000 - recall_m: 1.0000 - sparse_categorical_accuracy: 0.9996 - val_f1_m: 0.9994 - val_loss: 0.1826 - val_precision_m: 0.9997 - val_recall_m: 0.9991 - val_sparse_categorical_accuracy: 0.9916\n",
      "Epoch 144/150\n",
      "\u001b[1m235/235\u001b[0m \u001b[32m━━━━━━━━━━━━━━━━━━━━\u001b[0m\u001b[37m\u001b[0m \u001b[1m28s\u001b[0m 121ms/step - f1_m: 1.0000 - loss: 0.0015 - precision_m: 1.0000 - recall_m: 1.0000 - sparse_categorical_accuracy: 0.9997 - val_f1_m: 0.9996 - val_loss: 0.1798 - val_precision_m: 0.9996 - val_recall_m: 0.9996 - val_sparse_categorical_accuracy: 0.9925\n",
      "Epoch 145/150\n",
      "\u001b[1m235/235\u001b[0m \u001b[32m━━━━━━━━━━━━━━━━━━━━\u001b[0m\u001b[37m\u001b[0m \u001b[1m30s\u001b[0m 126ms/step - f1_m: 1.0000 - loss: 0.0026 - precision_m: 1.0000 - recall_m: 1.0000 - sparse_categorical_accuracy: 0.9996 - val_f1_m: 0.9997 - val_loss: 0.1801 - val_precision_m: 0.9998 - val_recall_m: 0.9996 - val_sparse_categorical_accuracy: 0.9926\n",
      "Epoch 146/150\n",
      "\u001b[1m235/235\u001b[0m \u001b[32m━━━━━━━━━━━━━━━━━━━━\u001b[0m\u001b[37m\u001b[0m \u001b[1m30s\u001b[0m 128ms/step - f1_m: 1.0000 - loss: 0.0025 - precision_m: 1.0000 - recall_m: 1.0000 - sparse_categorical_accuracy: 0.9996 - val_f1_m: 0.9993 - val_loss: 0.2124 - val_precision_m: 0.9998 - val_recall_m: 0.9989 - val_sparse_categorical_accuracy: 0.9919\n",
      "Epoch 147/150\n",
      "\u001b[1m235/235\u001b[0m \u001b[32m━━━━━━━━━━━━━━━━━━━━\u001b[0m\u001b[37m\u001b[0m \u001b[1m30s\u001b[0m 126ms/step - f1_m: 1.0000 - loss: 0.0023 - precision_m: 1.0000 - recall_m: 1.0000 - sparse_categorical_accuracy: 0.9997 - val_f1_m: 0.9996 - val_loss: 0.1731 - val_precision_m: 0.9999 - val_recall_m: 0.9994 - val_sparse_categorical_accuracy: 0.9923\n",
      "Epoch 148/150\n",
      "\u001b[1m235/235\u001b[0m \u001b[32m━━━━━━━━━━━━━━━━━━━━\u001b[0m\u001b[37m\u001b[0m \u001b[1m29s\u001b[0m 124ms/step - f1_m: 1.0000 - loss: 0.0016 - precision_m: 1.0000 - recall_m: 1.0000 - sparse_categorical_accuracy: 0.9998 - val_f1_m: 0.9996 - val_loss: 0.1966 - val_precision_m: 0.9999 - val_recall_m: 0.9992 - val_sparse_categorical_accuracy: 0.9922\n",
      "Epoch 149/150\n",
      "\u001b[1m235/235\u001b[0m \u001b[32m━━━━━━━━━━━━━━━━━━━━\u001b[0m\u001b[37m\u001b[0m \u001b[1m29s\u001b[0m 124ms/step - f1_m: 1.0000 - loss: 0.0015 - precision_m: 1.0000 - recall_m: 1.0000 - sparse_categorical_accuracy: 0.9998 - val_f1_m: 0.9995 - val_loss: 0.1857 - val_precision_m: 0.9999 - val_recall_m: 0.9991 - val_sparse_categorical_accuracy: 0.9922\n",
      "Epoch 150/150\n",
      "\u001b[1m235/235\u001b[0m \u001b[32m━━━━━━━━━━━━━━━━━━━━\u001b[0m\u001b[37m\u001b[0m \u001b[1m30s\u001b[0m 126ms/step - f1_m: 1.0000 - loss: 0.0022 - precision_m: 1.0000 - recall_m: 1.0000 - sparse_categorical_accuracy: 0.9996 - val_f1_m: 0.9994 - val_loss: 0.1772 - val_precision_m: 0.9997 - val_recall_m: 0.9991 - val_sparse_categorical_accuracy: 0.9927\n",
      "\u001b[1m313/313\u001b[0m \u001b[32m━━━━━━━━━━━━━━━━━━━━\u001b[0m\u001b[37m\u001b[0m \u001b[1m1s\u001b[0m 2ms/step\n"
     ]
    },
    {
     "data": {
      "text/plain": [
       "(0.9926980043469279, <tf.Tensor: shape=(), dtype=float32, numpy=0.9927>)"
      ]
     },
     "execution_count": 54,
     "metadata": {},
     "output_type": "execute_result"
    }
   ],
   "source": [
    "for best_hps in tuner.get_best_hyperparameters(num_trials=1):\n",
    "    print(f\"Best Hyperparameters: {best_hps.__dict__}\")\n",
    "    model_v2 = tuner.hypermodel.build(best_hps)  # Build the model with best hyperparameters\n",
    "\n",
    "model_v2.fit(train_input, \n",
    "          y_train , \n",
    "          validation_data=(test_input, y_test),\n",
    "          epochs= 150, \n",
    "          batch_size = 1024,\n",
    "          callbacks=[tensorboard_callback]\n",
    "          )\n",
    "                                 \n",
    "model_v2.save('./checkpoints/model_v2.keras')\n",
    "model_v2 = tf.keras.models.load_model('./checkpoints/model_v2.keras')\n",
    "\n",
    "test_target_prob = model_v2.predict(test_input)\n",
    "\n",
    "m = tf.keras.metrics.SparseCategoricalAccuracy()\n",
    "m.update_state(y_test, test_target_prob)\n",
    "\n",
    "sk.metrics.f1_score(y_test.reshape(-1,1), test_target_prob.argmax(axis = -1).reshape(-1,1), average = \"weighted\"), m.result()"
   ]
  },
  {
   "cell_type": "code",
   "execution_count": 55,
   "id": "71393cd0-640c-4edd-8ae3-6b776cfc3254",
   "metadata": {},
   "outputs": [
    {
     "data": {
      "text/html": [
       "<div>\n",
       "<style scoped>\n",
       "    .dataframe tbody tr th:only-of-type {\n",
       "        vertical-align: middle;\n",
       "    }\n",
       "\n",
       "    .dataframe tbody tr th {\n",
       "        vertical-align: top;\n",
       "    }\n",
       "\n",
       "    .dataframe thead th {\n",
       "        text-align: right;\n",
       "    }\n",
       "</style>\n",
       "<table border=\"1\" class=\"dataframe\">\n",
       "  <thead>\n",
       "    <tr style=\"text-align: right;\">\n",
       "      <th></th>\n",
       "      <th>target</th>\n",
       "      <th>images</th>\n",
       "    </tr>\n",
       "  </thead>\n",
       "  <tbody>\n",
       "    <tr>\n",
       "      <th>0</th>\n",
       "      <td>7</td>\n",
       "      <td>[[[0, 0, 0], [0, 0, 0], [0, 0, 0], [0, 0, 0], ...</td>\n",
       "    </tr>\n",
       "    <tr>\n",
       "      <th>1</th>\n",
       "      <td>2</td>\n",
       "      <td>[[[0, 0, 0], [0, 0, 0], [0, 0, 0], [0, 0, 0], ...</td>\n",
       "    </tr>\n",
       "    <tr>\n",
       "      <th>2</th>\n",
       "      <td>1</td>\n",
       "      <td>[[[0, 0, 0], [0, 0, 0], [0, 0, 0], [0, 0, 0], ...</td>\n",
       "    </tr>\n",
       "    <tr>\n",
       "      <th>3</th>\n",
       "      <td>0</td>\n",
       "      <td>[[[0, 0, 0], [0, 0, 0], [0, 0, 0], [0, 0, 0], ...</td>\n",
       "    </tr>\n",
       "    <tr>\n",
       "      <th>4</th>\n",
       "      <td>4</td>\n",
       "      <td>[[[0, 0, 0], [0, 0, 0], [0, 0, 0], [0, 0, 0], ...</td>\n",
       "    </tr>\n",
       "    <tr>\n",
       "      <th>...</th>\n",
       "      <td>...</td>\n",
       "      <td>...</td>\n",
       "    </tr>\n",
       "    <tr>\n",
       "      <th>9995</th>\n",
       "      <td>2</td>\n",
       "      <td>[[[0, 0, 0], [0, 0, 0], [0, 0, 0], [0, 0, 0], ...</td>\n",
       "    </tr>\n",
       "    <tr>\n",
       "      <th>9996</th>\n",
       "      <td>3</td>\n",
       "      <td>[[[0, 0, 0], [0, 0, 0], [0, 0, 0], [0, 0, 0], ...</td>\n",
       "    </tr>\n",
       "    <tr>\n",
       "      <th>9997</th>\n",
       "      <td>4</td>\n",
       "      <td>[[[0, 0, 0], [0, 0, 0], [0, 0, 0], [0, 0, 0], ...</td>\n",
       "    </tr>\n",
       "    <tr>\n",
       "      <th>9998</th>\n",
       "      <td>5</td>\n",
       "      <td>[[[0, 0, 0], [0, 0, 0], [0, 0, 0], [0, 0, 0], ...</td>\n",
       "    </tr>\n",
       "    <tr>\n",
       "      <th>9999</th>\n",
       "      <td>6</td>\n",
       "      <td>[[[0, 0, 0], [0, 0, 0], [0, 0, 0], [0, 0, 0], ...</td>\n",
       "    </tr>\n",
       "  </tbody>\n",
       "</table>\n",
       "<p>10000 rows × 2 columns</p>\n",
       "</div>"
      ],
      "text/plain": [
       "      target                                             images\n",
       "0          7  [[[0, 0, 0], [0, 0, 0], [0, 0, 0], [0, 0, 0], ...\n",
       "1          2  [[[0, 0, 0], [0, 0, 0], [0, 0, 0], [0, 0, 0], ...\n",
       "2          1  [[[0, 0, 0], [0, 0, 0], [0, 0, 0], [0, 0, 0], ...\n",
       "3          0  [[[0, 0, 0], [0, 0, 0], [0, 0, 0], [0, 0, 0], ...\n",
       "4          4  [[[0, 0, 0], [0, 0, 0], [0, 0, 0], [0, 0, 0], ...\n",
       "...      ...                                                ...\n",
       "9995       2  [[[0, 0, 0], [0, 0, 0], [0, 0, 0], [0, 0, 0], ...\n",
       "9996       3  [[[0, 0, 0], [0, 0, 0], [0, 0, 0], [0, 0, 0], ...\n",
       "9997       4  [[[0, 0, 0], [0, 0, 0], [0, 0, 0], [0, 0, 0], ...\n",
       "9998       5  [[[0, 0, 0], [0, 0, 0], [0, 0, 0], [0, 0, 0], ...\n",
       "9999       6  [[[0, 0, 0], [0, 0, 0], [0, 0, 0], [0, 0, 0], ...\n",
       "\n",
       "[10000 rows x 2 columns]"
      ]
     },
     "execution_count": 55,
     "metadata": {},
     "output_type": "execute_result"
    }
   ],
   "source": [
    "error_analysis_df = pd.DataFrame(y_test, columns = [\"target\"])\n",
    "error_analysis_df[\"images\"] = test_df[[\"images_rgb\"]]\n",
    "error_analysis_df"
   ]
  },
  {
   "cell_type": "code",
   "execution_count": 56,
   "id": "47de0ba3-c614-45f1-99da-d2cb707726e0",
   "metadata": {},
   "outputs": [
    {
     "name": "stdout",
     "output_type": "stream",
     "text": [
      "\u001b[1m313/313\u001b[0m \u001b[32m━━━━━━━━━━━━━━━━━━━━\u001b[0m\u001b[37m\u001b[0m \u001b[1m0s\u001b[0m 1ms/step\n"
     ]
    },
    {
     "data": {
      "text/html": [
       "<div>\n",
       "<style scoped>\n",
       "    .dataframe tbody tr th:only-of-type {\n",
       "        vertical-align: middle;\n",
       "    }\n",
       "\n",
       "    .dataframe tbody tr th {\n",
       "        vertical-align: top;\n",
       "    }\n",
       "\n",
       "    .dataframe thead th {\n",
       "        text-align: right;\n",
       "    }\n",
       "</style>\n",
       "<table border=\"1\" class=\"dataframe\">\n",
       "  <thead>\n",
       "    <tr style=\"text-align: right;\">\n",
       "      <th></th>\n",
       "      <th>target</th>\n",
       "      <th>images</th>\n",
       "      <th>label</th>\n",
       "      <th>label_prob</th>\n",
       "    </tr>\n",
       "  </thead>\n",
       "  <tbody>\n",
       "    <tr>\n",
       "      <th>0</th>\n",
       "      <td>7</td>\n",
       "      <td>[[[0, 0, 0], [0, 0, 0], [0, 0, 0], [0, 0, 0], ...</td>\n",
       "      <td>7</td>\n",
       "      <td>1.0</td>\n",
       "    </tr>\n",
       "    <tr>\n",
       "      <th>1</th>\n",
       "      <td>2</td>\n",
       "      <td>[[[0, 0, 0], [0, 0, 0], [0, 0, 0], [0, 0, 0], ...</td>\n",
       "      <td>2</td>\n",
       "      <td>1.0</td>\n",
       "    </tr>\n",
       "    <tr>\n",
       "      <th>2</th>\n",
       "      <td>1</td>\n",
       "      <td>[[[0, 0, 0], [0, 0, 0], [0, 0, 0], [0, 0, 0], ...</td>\n",
       "      <td>1</td>\n",
       "      <td>1.0</td>\n",
       "    </tr>\n",
       "    <tr>\n",
       "      <th>3</th>\n",
       "      <td>0</td>\n",
       "      <td>[[[0, 0, 0], [0, 0, 0], [0, 0, 0], [0, 0, 0], ...</td>\n",
       "      <td>0</td>\n",
       "      <td>1.0</td>\n",
       "    </tr>\n",
       "    <tr>\n",
       "      <th>4</th>\n",
       "      <td>4</td>\n",
       "      <td>[[[0, 0, 0], [0, 0, 0], [0, 0, 0], [0, 0, 0], ...</td>\n",
       "      <td>4</td>\n",
       "      <td>1.0</td>\n",
       "    </tr>\n",
       "    <tr>\n",
       "      <th>...</th>\n",
       "      <td>...</td>\n",
       "      <td>...</td>\n",
       "      <td>...</td>\n",
       "      <td>...</td>\n",
       "    </tr>\n",
       "    <tr>\n",
       "      <th>9995</th>\n",
       "      <td>2</td>\n",
       "      <td>[[[0, 0, 0], [0, 0, 0], [0, 0, 0], [0, 0, 0], ...</td>\n",
       "      <td>2</td>\n",
       "      <td>1.0</td>\n",
       "    </tr>\n",
       "    <tr>\n",
       "      <th>9996</th>\n",
       "      <td>3</td>\n",
       "      <td>[[[0, 0, 0], [0, 0, 0], [0, 0, 0], [0, 0, 0], ...</td>\n",
       "      <td>3</td>\n",
       "      <td>1.0</td>\n",
       "    </tr>\n",
       "    <tr>\n",
       "      <th>9997</th>\n",
       "      <td>4</td>\n",
       "      <td>[[[0, 0, 0], [0, 0, 0], [0, 0, 0], [0, 0, 0], ...</td>\n",
       "      <td>4</td>\n",
       "      <td>1.0</td>\n",
       "    </tr>\n",
       "    <tr>\n",
       "      <th>9998</th>\n",
       "      <td>5</td>\n",
       "      <td>[[[0, 0, 0], [0, 0, 0], [0, 0, 0], [0, 0, 0], ...</td>\n",
       "      <td>5</td>\n",
       "      <td>1.0</td>\n",
       "    </tr>\n",
       "    <tr>\n",
       "      <th>9999</th>\n",
       "      <td>6</td>\n",
       "      <td>[[[0, 0, 0], [0, 0, 0], [0, 0, 0], [0, 0, 0], ...</td>\n",
       "      <td>6</td>\n",
       "      <td>1.0</td>\n",
       "    </tr>\n",
       "  </tbody>\n",
       "</table>\n",
       "<p>10000 rows × 4 columns</p>\n",
       "</div>"
      ],
      "text/plain": [
       "      target                                             images  label  \\\n",
       "0          7  [[[0, 0, 0], [0, 0, 0], [0, 0, 0], [0, 0, 0], ...      7   \n",
       "1          2  [[[0, 0, 0], [0, 0, 0], [0, 0, 0], [0, 0, 0], ...      2   \n",
       "2          1  [[[0, 0, 0], [0, 0, 0], [0, 0, 0], [0, 0, 0], ...      1   \n",
       "3          0  [[[0, 0, 0], [0, 0, 0], [0, 0, 0], [0, 0, 0], ...      0   \n",
       "4          4  [[[0, 0, 0], [0, 0, 0], [0, 0, 0], [0, 0, 0], ...      4   \n",
       "...      ...                                                ...    ...   \n",
       "9995       2  [[[0, 0, 0], [0, 0, 0], [0, 0, 0], [0, 0, 0], ...      2   \n",
       "9996       3  [[[0, 0, 0], [0, 0, 0], [0, 0, 0], [0, 0, 0], ...      3   \n",
       "9997       4  [[[0, 0, 0], [0, 0, 0], [0, 0, 0], [0, 0, 0], ...      4   \n",
       "9998       5  [[[0, 0, 0], [0, 0, 0], [0, 0, 0], [0, 0, 0], ...      5   \n",
       "9999       6  [[[0, 0, 0], [0, 0, 0], [0, 0, 0], [0, 0, 0], ...      6   \n",
       "\n",
       "      label_prob  \n",
       "0            1.0  \n",
       "1            1.0  \n",
       "2            1.0  \n",
       "3            1.0  \n",
       "4            1.0  \n",
       "...          ...  \n",
       "9995         1.0  \n",
       "9996         1.0  \n",
       "9997         1.0  \n",
       "9998         1.0  \n",
       "9999         1.0  \n",
       "\n",
       "[10000 rows x 4 columns]"
      ]
     },
     "execution_count": 56,
     "metadata": {},
     "output_type": "execute_result"
    }
   ],
   "source": [
    "test_target_prob = model_v2.predict(test_input)\n",
    "error_analysis_df[\"label\"] = test_target_prob.argmax(axis=-1)\n",
    "error_analysis_df[\"label_prob\"] = test_target_prob.max(axis  =-1)\n",
    "error_analysis_df"
   ]
  },
  {
   "cell_type": "code",
   "execution_count": 57,
   "id": "ece8914b-68d2-4d29-903c-a142d7d64795",
   "metadata": {},
   "outputs": [
    {
     "data": {
      "text/plain": [
       "array([[[9012,    8],\n",
       "        [   3,  977]],\n",
       "\n",
       "       [[8857,    8],\n",
       "        [   3, 1132]],\n",
       "\n",
       "       [[8953,   15],\n",
       "        [   6, 1026]],\n",
       "\n",
       "       [[8984,    6],\n",
       "        [   5, 1005]],\n",
       "\n",
       "       [[9009,    9],\n",
       "        [   4,  978]],\n",
       "\n",
       "       [[9103,    5],\n",
       "        [   9,  883]],\n",
       "\n",
       "       [[9037,    5],\n",
       "        [   6,  952]],\n",
       "\n",
       "       [[8967,    5],\n",
       "        [  16, 1012]],\n",
       "\n",
       "       [[9022,    4],\n",
       "        [  10,  964]],\n",
       "\n",
       "       [[8983,    8],\n",
       "        [  11,  998]]])"
      ]
     },
     "execution_count": 57,
     "metadata": {},
     "output_type": "execute_result"
    }
   ],
   "source": [
    "multilabel_confusion_matrix(error_analysis_df.target, error_analysis_df.label)"
   ]
  },
  {
   "cell_type": "code",
   "execution_count": 58,
   "id": "10cd966b",
   "metadata": {},
   "outputs": [
    {
     "data": {
      "text/plain": [
       "7    16\n",
       "9    11\n",
       "8    10\n",
       "5     9\n",
       "2     6\n",
       "6     6\n",
       "3     5\n",
       "4     4\n",
       "1     3\n",
       "0     3\n",
       "Name: target, dtype: int64"
      ]
     },
     "execution_count": 58,
     "metadata": {},
     "output_type": "execute_result"
    }
   ],
   "source": [
    "error_analysis_df[\n",
    "    (error_analysis_df.target != error_analysis_df.label)\n",
    "    ].target.value_counts() "
   ]
  },
  {
   "cell_type": "markdown",
   "id": "8955a679",
   "metadata": {},
   "source": [
    "# Improvements after error analysis and hyperparam tunning:\n",
    "### F1 score : 0.9906 -> 0.9926 \n",
    "### Accuracy: 0.9907 -> 0.9927  "
   ]
  }
 ],
 "metadata": {
  "kernelspec": {
   "display_name": "Python 3",
   "language": "python",
   "name": "python3"
  },
  "language_info": {
   "codemirror_mode": {
    "name": "ipython",
    "version": 3
   },
   "file_extension": ".py",
   "mimetype": "text/x-python",
   "name": "python",
   "nbconvert_exporter": "python",
   "pygments_lexer": "ipython3",
   "version": "3.11.9"
  }
 },
 "nbformat": 4,
 "nbformat_minor": 5
}
